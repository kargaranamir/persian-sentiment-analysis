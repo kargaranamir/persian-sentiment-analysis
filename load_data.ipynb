{
  "cells": [
    {
      "cell_type": "markdown",
      "id": "788dc261-a71b-46dd-a207-a417334bcb72",
      "metadata": {
        "id": "788dc261-a71b-46dd-a207-a417334bcb72"
      },
      "source": [
        "# Data Loading"
      ]
    },
    {
      "cell_type": "markdown",
      "id": "b6014bd4-d5dc-4354-93cc-d15979211e9b",
      "metadata": {
        "id": "b6014bd4-d5dc-4354-93cc-d15979211e9b",
        "tags": []
      },
      "source": [
        "### Install required libraries"
      ]
    },
    {
      "cell_type": "code",
      "execution_count": 1,
      "id": "62756d5d-ce8b-4354-a00f-5166e495b751",
      "metadata": {
        "colab": {
          "base_uri": "https://localhost:8080/"
        },
        "id": "62756d5d-ce8b-4354-a00f-5166e495b751",
        "outputId": "f2f380bb-7395-4186-8680-ca4d224ff6f8"
      },
      "outputs": [
        {
          "output_type": "stream",
          "name": "stdout",
          "text": [
            "Collecting hazm\n",
            "  Downloading hazm-0.7.0-py3-none-any.whl (316 kB)\n",
            "\u001b[K     |████████████████████████████████| 316 kB 7.8 MB/s \n",
            "\u001b[?25hCollecting nltk==3.3\n",
            "  Downloading nltk-3.3.0.zip (1.4 MB)\n",
            "\u001b[K     |████████████████████████████████| 1.4 MB 45.4 MB/s \n",
            "\u001b[?25hCollecting libwapiti>=0.2.1\n",
            "  Downloading libwapiti-0.2.1.tar.gz (233 kB)\n",
            "\u001b[K     |████████████████████████████████| 233 kB 68.2 MB/s \n",
            "\u001b[?25hRequirement already satisfied: six in /usr/local/lib/python3.7/dist-packages (from nltk==3.3->hazm) (1.15.0)\n",
            "Building wheels for collected packages: nltk, libwapiti\n",
            "  Building wheel for nltk (setup.py) ... \u001b[?25l\u001b[?25hdone\n",
            "  Created wheel for nltk: filename=nltk-3.3-py3-none-any.whl size=1394485 sha256=8b3ebc3cc798060e56e70840c6efc0050444c10ca65b508e7becaeb16a0d391d\n",
            "  Stored in directory: /root/.cache/pip/wheels/9b/fd/0c/d92302c876e5de87ebd7fc0979d82edb93e2d8d768bf71fac4\n",
            "  Building wheel for libwapiti (setup.py) ... \u001b[?25l\u001b[?25hdone\n",
            "  Created wheel for libwapiti: filename=libwapiti-0.2.1-cp37-cp37m-linux_x86_64.whl size=154612 sha256=2bde738059826d8123ee612cefa6c14e3c9534667093620146e55d069b378e22\n",
            "  Stored in directory: /root/.cache/pip/wheels/ab/b2/5b/0fe4b8f5c0e65341e8ea7bb3f4a6ebabfe8b1ac31322392dbf\n",
            "Successfully built nltk libwapiti\n",
            "Installing collected packages: nltk, libwapiti, hazm\n",
            "  Attempting uninstall: nltk\n",
            "    Found existing installation: nltk 3.2.5\n",
            "    Uninstalling nltk-3.2.5:\n",
            "      Successfully uninstalled nltk-3.2.5\n",
            "Successfully installed hazm-0.7.0 libwapiti-0.2.1 nltk-3.3\n",
            "Collecting clean-text[gpl]==0.4.0\n",
            "  Downloading clean_text-0.4.0-py3-none-any.whl (9.8 kB)\n",
            "Collecting emoji\n",
            "  Downloading emoji-1.6.1.tar.gz (170 kB)\n",
            "\u001b[K     |████████████████████████████████| 170 kB 6.9 MB/s \n",
            "\u001b[?25hCollecting ftfy<7.0,>=6.0\n",
            "  Downloading ftfy-6.0.3.tar.gz (64 kB)\n",
            "\u001b[K     |████████████████████████████████| 64 kB 3.6 MB/s \n",
            "\u001b[?25hCollecting unidecode<2.0.0,>=1.1.1\n",
            "  Downloading Unidecode-1.3.2-py3-none-any.whl (235 kB)\n",
            "\u001b[K     |████████████████████████████████| 235 kB 54.1 MB/s \n",
            "\u001b[?25hRequirement already satisfied: wcwidth in /usr/local/lib/python3.7/dist-packages (from ftfy<7.0,>=6.0->clean-text[gpl]==0.4.0) (0.2.5)\n",
            "Building wheels for collected packages: ftfy, emoji\n",
            "  Building wheel for ftfy (setup.py) ... \u001b[?25l\u001b[?25hdone\n",
            "  Created wheel for ftfy: filename=ftfy-6.0.3-py3-none-any.whl size=41933 sha256=a21f82721a47c723b0fb38ecaee1e19c0b289e8d73fb8d416da09850809b1ec0\n",
            "  Stored in directory: /root/.cache/pip/wheels/19/f5/38/273eb3b5e76dfd850619312f693716ac4518b498f5ffb6f56d\n",
            "  Building wheel for emoji (setup.py) ... \u001b[?25l\u001b[?25hdone\n",
            "  Created wheel for emoji: filename=emoji-1.6.1-py3-none-any.whl size=169314 sha256=94cae39a7764a0449e1d282ffe6e7af85435aaafd9b395f344cc2872abb93e35\n",
            "  Stored in directory: /root/.cache/pip/wheels/ea/5f/d3/03d313ddb3c2a1a427bb4690f1621eea60fe6f2a30cc95940f\n",
            "Successfully built ftfy emoji\n",
            "Installing collected packages: ftfy, emoji, unidecode, clean-text\n",
            "Successfully installed clean-text-0.4.0 emoji-1.6.1 ftfy-6.0.3 unidecode-1.3.2\n"
          ]
        }
      ],
      "source": [
        "! pip install hazm\n",
        "! pip install clean-text[gpl]==0.4.0"
      ]
    },
    {
      "cell_type": "markdown",
      "id": "2899eb51-7bdd-4a94-90b3-ba6c11c17b0a",
      "metadata": {
        "id": "2899eb51-7bdd-4a94-90b3-ba6c11c17b0a"
      },
      "source": [
        "### Import Libraries"
      ]
    },
    {
      "cell_type": "code",
      "execution_count": 2,
      "id": "afa5cca6-0516-495c-bfb4-c79c7636e1c9",
      "metadata": {
        "id": "afa5cca6-0516-495c-bfb4-c79c7636e1c9"
      },
      "outputs": [],
      "source": [
        "import pandas as pd\n",
        "import numpy as np\n",
        "\n",
        "import hazm\n",
        "import re\n",
        "\n",
        "from sklearn.feature_extraction.text import TfidfVectorizer\n",
        "from sklearn.metrics.pairwise import cosine_similarity\n",
        "from sklearn.linear_model import LogisticRegression\n",
        "from sklearn.metrics import classification_report, accuracy_score, confusion_matrix"
      ]
    },
    {
      "cell_type": "markdown",
      "id": "b6405c2c-0773-4c05-b90d-d478d6324618",
      "metadata": {
        "id": "b6405c2c-0773-4c05-b90d-d478d6324618"
      },
      "source": [
        "### Data Path"
      ]
    },
    {
      "cell_type": "code",
      "execution_count": 3,
      "id": "270e0a61-22ce-42cd-9f21-96ba462fd8f3",
      "metadata": {
        "id": "270e0a61-22ce-42cd-9f21-96ba462fd8f3"
      },
      "outputs": [],
      "source": [
        "PATH = 'data/'\n",
        "PATH = PATH.rstrip('/')"
      ]
    },
    {
      "cell_type": "markdown",
      "id": "5af681bf-3fca-4220-97b0-b9949779d312",
      "metadata": {
        "id": "5af681bf-3fca-4220-97b0-b9949779d312"
      },
      "source": [
        "### Load Data into Dataframe"
      ]
    },
    {
      "cell_type": "code",
      "execution_count": 5,
      "id": "51529ffc-191d-4456-8215-59e26978c011",
      "metadata": {
        "id": "51529ffc-191d-4456-8215-59e26978c011"
      },
      "outputs": [],
      "source": [
        "# Train\n",
        "df_train = pd.read_csv(PATH + '/train.csv')\n",
        "df_train.columns = ['index', 'comment', 'rate']\n",
        "\n",
        "# Evaluation\n",
        "df_eval = pd.read_csv(PATH + '/eval.csv')\n",
        "df_eval.columns = ['index', 'comment', 'rate']\n",
        "\n",
        "# Test\n",
        "df_test = pd.read_csv(PATH + '/test.csv')\n",
        "df_test.columns = ['index', 'comment', 'rate']"
      ]
    },
    {
      "cell_type": "markdown",
      "id": "7ab90f1f-5183-48ea-a2f7-920f6f51e586",
      "metadata": {
        "id": "7ab90f1f-5183-48ea-a2f7-920f6f51e586"
      },
      "source": [
        "### Data Info"
      ]
    },
    {
      "cell_type": "code",
      "execution_count": 6,
      "id": "33658988-3d73-49c0-b81c-3a85600db300",
      "metadata": {
        "colab": {
          "base_uri": "https://localhost:8080/"
        },
        "id": "33658988-3d73-49c0-b81c-3a85600db300",
        "outputId": "c9e21642-c177-4ea1-a0b0-1fcefa1aadac"
      },
      "outputs": [
        {
          "output_type": "stream",
          "name": "stdout",
          "text": [
            "<class 'pandas.core.frame.DataFrame'>\n",
            "RangeIndex: 800 entries, 0 to 799\n",
            "Data columns (total 3 columns):\n",
            " #   Column   Non-Null Count  Dtype  \n",
            "---  ------   --------------  -----  \n",
            " 0   index    800 non-null    int64  \n",
            " 1   comment  800 non-null    object \n",
            " 2   rate     800 non-null    float64\n",
            "dtypes: float64(1), int64(1), object(1)\n",
            "memory usage: 18.9+ KB\n"
          ]
        }
      ],
      "source": [
        "df_train.info()"
      ]
    },
    {
      "cell_type": "code",
      "execution_count": 7,
      "id": "ea5f9dd7-5840-41bb-9d4a-80b8155517ce",
      "metadata": {
        "colab": {
          "base_uri": "https://localhost:8080/"
        },
        "id": "ea5f9dd7-5840-41bb-9d4a-80b8155517ce",
        "outputId": "e50846e2-0e55-414d-fd45-2a79f74184f1"
      },
      "outputs": [
        {
          "output_type": "execute_result",
          "data": {
            "text/plain": [
              "count    800.000000\n",
              "mean       0.278625\n",
              "std        0.712302\n",
              "min       -1.000000\n",
              "25%        0.000000\n",
              "50%        0.500000\n",
              "75%        1.000000\n",
              "max        1.000000\n",
              "Name: rate, dtype: float64"
            ]
          },
          "metadata": {},
          "execution_count": 7
        }
      ],
      "source": [
        "df_train['rate'].describe()"
      ]
    },
    {
      "cell_type": "markdown",
      "id": "989ce2d5-ab37-417c-9cbf-a32ec6c488a5",
      "metadata": {
        "id": "989ce2d5-ab37-417c-9cbf-a32ec6c488a5"
      },
      "source": [
        "### Comment rating distribution"
      ]
    },
    {
      "cell_type": "code",
      "execution_count": 8,
      "id": "94349d7d-6434-4454-8e53-04a5cb2205e2",
      "metadata": {
        "colab": {
          "base_uri": "https://localhost:8080/",
          "height": 283
        },
        "id": "94349d7d-6434-4454-8e53-04a5cb2205e2",
        "outputId": "c3bbcd9b-e298-4196-b94e-d24d47cac3bc"
      },
      "outputs": [
        {
          "output_type": "execute_result",
          "data": {
            "text/plain": [
              "<matplotlib.axes._subplots.AxesSubplot at 0x7f690c2a2990>"
            ]
          },
          "metadata": {},
          "execution_count": 8
        },
        {
          "output_type": "display_data",
          "data": {
            "image/png": "[encoded data removed]",
            "text/plain": [
              "<Figure size 432x288 with 1 Axes>"
            ]
          },
          "metadata": {
            "needs_background": "light"
          }
        }
      ],
      "source": [
        "df_train['rate'].plot.kde()"
      ]
    },
    {
      "cell_type": "code",
      "execution_count": 9,
      "id": "592e06f3-2e48-4ba2-a039-ddea91913cbf",
      "metadata": {
        "colab": {
          "base_uri": "https://localhost:8080/",
          "height": 283
        },
        "id": "592e06f3-2e48-4ba2-a039-ddea91913cbf",
        "outputId": "e4470a20-a860-4305-ff3f-c9873ed794f0"
      },
      "outputs": [
        {
          "output_type": "execute_result",
          "data": {
            "text/plain": [
              "<matplotlib.axes._subplots.AxesSubplot at 0x7f690c231090>"
            ]
          },
          "metadata": {},
          "execution_count": 9
        },
        {
          "output_type": "display_data",
          "data": {
            "image/png": "[encoded data removed]",
            "text/plain": [
              "<Figure size 432x288 with 1 Axes>"
            ]
          },
          "metadata": {
            "needs_background": "light"
          }
        }
      ],
      "source": [
        "df_test['rate'].plot.kde()"
      ]
    },
    {
      "cell_type": "markdown",
      "id": "5371063c-24e3-4cdf-a552-fd0350a3b465",
      "metadata": {
        "id": "5371063c-24e3-4cdf-a552-fd0350a3b465"
      },
      "source": [
        "## Cleaning Data"
      ]
    },
    {
      "cell_type": "markdown",
      "id": "3eeadcc7-c9c8-4fc1-945a-1b08c947d861",
      "metadata": {
        "id": "3eeadcc7-c9c8-4fc1-945a-1b08c947d861"
      },
      "source": [
        "**Example Document to demonstrate cleaning procedure effects**"
      ]
    },
    {
      "cell_type": "code",
      "execution_count": 10,
      "id": "ce87acdc-daf2-49b6-bba4-51dc52e8764e",
      "metadata": {
        "id": "ce87acdc-daf2-49b6-bba4-51dc52e8764e"
      },
      "outputs": [],
      "source": [
        "example_id = 789"
      ]
    },
    {
      "cell_type": "code",
      "execution_count": 11,
      "id": "157887cc-8aa8-48f3-8715-5c5c8ff66872",
      "metadata": {
        "colab": {
          "base_uri": "https://localhost:8080/",
          "height": 35
        },
        "id": "157887cc-8aa8-48f3-8715-5c5c8ff66872",
        "outputId": "928394e6-e501-4931-d42c-4f0eee36d38a"
      },
      "outputs": [
        {
          "output_type": "execute_result",
          "data": {
            "application/vnd.google.colaboratory.intrinsic+json": {
              "type": "string"
            },
            "text/plain": [
              "'در ضمن کيفيت بسيار بالايي هم داره هم از لحاظ صدا هم دوربين.'"
            ]
          },
          "metadata": {},
          "execution_count": 11
        }
      ],
      "source": [
        "example = df_train['comment'][example_id]\n",
        "example"
      ]
    },
    {
      "cell_type": "markdown",
      "id": "80ac2b30-ee6c-4c58-bffd-b37aed456f72",
      "metadata": {
        "id": "80ac2b30-ee6c-4c58-bffd-b37aed456f72"
      },
      "source": [
        "#### Normalizer"
      ]
    },
    {
      "cell_type": "code",
      "execution_count": 12,
      "id": "b43cbd4f-c81a-4df8-b6a7-fe8b61b3f42b",
      "metadata": {
        "id": "b43cbd4f-c81a-4df8-b6a7-fe8b61b3f42b"
      },
      "outputs": [],
      "source": [
        "normalizer = hazm.Normalizer()\n",
        "df_train['clean_comment'] = df_train['comment'].apply(lambda comment:normalizer.normalize(comment))\n",
        "df_eval['clean_comment'] = df_eval['comment'].apply(lambda comment:normalizer.normalize(comment))\n",
        "df_test['clean_comment'] = df_test['comment'].apply(lambda comment:normalizer.normalize(comment))"
      ]
    },
    {
      "cell_type": "markdown",
      "id": "a7bb6837-bb8e-46f9-ab05-1391a9e781bc",
      "metadata": {
        "id": "a7bb6837-bb8e-46f9-ab05-1391a9e781bc"
      },
      "source": [
        "**After Normalization**"
      ]
    },
    {
      "cell_type": "code",
      "execution_count": 13,
      "id": "9c469138-a67e-4749-ada7-c9b7f2cc0be7",
      "metadata": {
        "colab": {
          "base_uri": "https://localhost:8080/",
          "height": 35
        },
        "id": "9c469138-a67e-4749-ada7-c9b7f2cc0be7",
        "outputId": "6458264c-3ede-4c54-9b9f-04c090acab67"
      },
      "outputs": [
        {
          "output_type": "execute_result",
          "data": {
            "application/vnd.google.colaboratory.intrinsic+json": {
              "type": "string"
            },
            "text/plain": [
              "'در ضمن کيفيت بسيار بالايي هم داره هم از لحاظ صدا هم دوربين.'"
            ]
          },
          "metadata": {},
          "execution_count": 13
        }
      ],
      "source": [
        "example = df_train['comment'][example_id]\n",
        "example"
      ]
    },
    {
      "cell_type": "markdown",
      "id": "101677bb-fb31-46ad-92c0-0f0336ea68bb",
      "metadata": {
        "id": "101677bb-fb31-46ad-92c0-0f0336ea68bb"
      },
      "source": [
        "#### CleanText"
      ]
    },
    {
      "cell_type": "code",
      "execution_count": 14,
      "id": "6cc6ffac-60dd-4396-9ceb-fb1d4edaab10",
      "metadata": {
        "id": "6cc6ffac-60dd-4396-9ceb-fb1d4edaab10"
      },
      "outputs": [],
      "source": [
        "from cleantext import clean"
      ]
    },
    {
      "cell_type": "code",
      "execution_count": 15,
      "id": "23f87cb3-836a-414c-bf8f-f2360786b43d",
      "metadata": {
        "id": "23f87cb3-836a-414c-bf8f-f2360786b43d"
      },
      "outputs": [],
      "source": [
        "clean_comment = lambda comment: clean(comment, \n",
        "                                      fix_unicode=True,\n",
        "                                      to_ascii=False,\n",
        "                                      lower=True,\n",
        "                                      no_line_breaks=True,\n",
        "                                      no_urls=True,\n",
        "                                      no_emails=True,\n",
        "                                      no_phone_numbers=True,\n",
        "                                      no_numbers=False,\n",
        "                                      no_digits=False,\n",
        "                                      no_currency_symbols=True,\n",
        "                                      no_punct=False)"
      ]
    },
    {
      "cell_type": "code",
      "execution_count": 16,
      "id": "0fffce6d-d8e7-4997-8cc5-0ce872b187c4",
      "metadata": {
        "id": "0fffce6d-d8e7-4997-8cc5-0ce872b187c4"
      },
      "outputs": [],
      "source": [
        "df_train['clean_comment'] = df_train['comment'].apply(lambda comment:clean_comment(comment))\n",
        "df_eval['clean_comment'] = df_eval['comment'].apply(lambda comment:clean_comment(comment))\n",
        "df_test['clean_comment'] = df_test['comment'].apply(lambda comment:clean_comment(comment))"
      ]
    },
    {
      "cell_type": "code",
      "execution_count": 17,
      "id": "fe43f415-2bf2-4254-943b-9c7a9b074054",
      "metadata": {
        "colab": {
          "base_uri": "https://localhost:8080/",
          "height": 35
        },
        "id": "fe43f415-2bf2-4254-943b-9c7a9b074054",
        "outputId": "d6138bfc-e432-4ce7-ce67-c89d3b257733"
      },
      "outputs": [
        {
          "output_type": "execute_result",
          "data": {
            "application/vnd.google.colaboratory.intrinsic+json": {
              "type": "string"
            },
            "text/plain": [
              "'در ضمن کيفيت بسيار بالايي هم داره هم از لحاظ صدا هم دوربين.'"
            ]
          },
          "metadata": {},
          "execution_count": 17
        }
      ],
      "source": [
        "example = df_train['clean_comment'][example_id]\n",
        "example"
      ]
    },
    {
      "cell_type": "markdown",
      "id": "997ba9db-9fd3-431c-9e6f-477180e4a93a",
      "metadata": {
        "id": "997ba9db-9fd3-431c-9e6f-477180e4a93a"
      },
      "source": [
        "#### Tokenize with Hazm"
      ]
    },
    {
      "cell_type": "code",
      "execution_count": 18,
      "id": "2a35b4cb-f3e4-4dcd-83b8-869d77082006",
      "metadata": {
        "id": "2a35b4cb-f3e4-4dcd-83b8-869d77082006"
      },
      "outputs": [],
      "source": [
        "df_train['clean_comment'] = df_train['comment'].apply(lambda comment:hazm.word_tokenize(comment))\n",
        "df_eval['clean_comment'] = df_eval['comment'].apply(lambda comment:hazm.word_tokenize(comment))\n",
        "df_test['clean_comment'] = df_test['comment'].apply(lambda comment:hazm.word_tokenize(comment))"
      ]
    },
    {
      "cell_type": "code",
      "execution_count": 19,
      "id": "f0c6ad1a-f27c-4b77-880d-b9f877c6311c",
      "metadata": {
        "colab": {
          "base_uri": "https://localhost:8080/"
        },
        "id": "f0c6ad1a-f27c-4b77-880d-b9f877c6311c",
        "outputId": "ac5c6e37-a3a8-41bc-be72-31dd309924b7"
      },
      "outputs": [
        {
          "output_type": "execute_result",
          "data": {
            "text/plain": [
              "['در',\n",
              " 'ضمن',\n",
              " 'کيفيت',\n",
              " 'بسيار',\n",
              " 'بالايي',\n",
              " 'هم',\n",
              " 'داره',\n",
              " 'هم',\n",
              " 'از',\n",
              " 'لحاظ',\n",
              " 'صدا',\n",
              " 'هم',\n",
              " 'دوربين',\n",
              " '.']"
            ]
          },
          "metadata": {},
          "execution_count": 19
        }
      ],
      "source": [
        "example = df_train['clean_comment'][example_id]\n",
        "example"
      ]
    },
    {
      "cell_type": "markdown",
      "id": "e3cec6c5-9678-47aa-be5b-afce01ecaa71",
      "metadata": {
        "id": "e3cec6c5-9678-47aa-be5b-afce01ecaa71",
        "tags": []
      },
      "source": [
        "#### Remove Symbols"
      ]
    },
    {
      "cell_type": "code",
      "execution_count": 20,
      "id": "c579205f-fc4b-45f2-89f7-74a2911f68e7",
      "metadata": {
        "id": "c579205f-fc4b-45f2-89f7-74a2911f68e7"
      },
      "outputs": [],
      "source": [
        "symbol_patterns = r\"(\\d|\\\"|'ٍ|¬|[؛“،,”‘۔’’‘–]|[|\\.÷+\\:\\-\\?»\\=\\{}\\*«»_…\\؟!/ـ]|[۰'ٓ۫'ٔ]|[ٓٔ]|[ًٌٍْﹼ،َُِّ«ٰ»ٖء])\"\n",
        "symbol_regex = re.compile(symbol_patterns).pattern"
      ]
    },
    {
      "cell_type": "markdown",
      "id": "8d32e182-57d5-4f1f-948b-88f522daf430",
      "metadata": {
        "id": "8d32e182-57d5-4f1f-948b-88f522daf430"
      },
      "source": [
        "Lambda function to remove unwanted symbols from comment"
      ]
    },
    {
      "cell_type": "code",
      "execution_count": 21,
      "id": "b4217e07-399e-4b0f-b5d0-66ebfa8dba48",
      "metadata": {
        "id": "b4217e07-399e-4b0f-b5d0-66ebfa8dba48"
      },
      "outputs": [],
      "source": [
        "clean_symbols = lambda comment:[word for word in comment if re.sub(symbol_regex, \"\", word)!=\"\"]"
      ]
    },
    {
      "cell_type": "code",
      "execution_count": 22,
      "id": "a34302ad-0599-4086-95b1-9c854a9e6dcc",
      "metadata": {
        "id": "a34302ad-0599-4086-95b1-9c854a9e6dcc"
      },
      "outputs": [],
      "source": [
        "df_train['clean_comment'] = df_train['clean_comment'].apply(lambda comment:clean_symbols(comment))\n",
        "df_eval['clean_comment'] = df_eval['clean_comment'].apply(lambda comment:clean_symbols(comment))\n",
        "df_test['clean_comment'] = df_test['clean_comment'].apply(lambda comment:clean_symbols(comment))"
      ]
    },
    {
      "cell_type": "code",
      "execution_count": 23,
      "id": "47145426-ac44-4a99-ab3b-154456402cbc",
      "metadata": {
        "colab": {
          "base_uri": "https://localhost:8080/"
        },
        "id": "47145426-ac44-4a99-ab3b-154456402cbc",
        "outputId": "7083c8b5-c786-4d2c-ccc2-16e87db5c73b"
      },
      "outputs": [
        {
          "output_type": "execute_result",
          "data": {
            "text/plain": [
              "['در',\n",
              " 'ضمن',\n",
              " 'کيفيت',\n",
              " 'بسيار',\n",
              " 'بالايي',\n",
              " 'هم',\n",
              " 'داره',\n",
              " 'هم',\n",
              " 'از',\n",
              " 'لحاظ',\n",
              " 'صدا',\n",
              " 'هم',\n",
              " 'دوربين']"
            ]
          },
          "metadata": {},
          "execution_count": 23
        }
      ],
      "source": [
        "example = df_train['clean_comment'][example_id]\n",
        "example"
      ]
    },
    {
      "cell_type": "markdown",
      "id": "327f3522-3e54-4afe-84a4-ae4f00611cf2",
      "metadata": {
        "id": "327f3522-3e54-4afe-84a4-ae4f00611cf2"
      },
      "source": [
        "#### Remove Wierd Symbols"
      ]
    },
    {
      "cell_type": "code",
      "execution_count": 24,
      "id": "57518b15-2f6c-45e4-8395-39603dfaa696",
      "metadata": {
        "id": "57518b15-2f6c-45e4-8395-39603dfaa696"
      },
      "outputs": [],
      "source": [
        "# removing wierd patterns\n",
        "wierd_pattern = re.compile(\"[\"\n",
        "    u\"\\U0001F600-\\U0001F64F\"  # emoticons\n",
        "    u\"\\U0001F300-\\U0001F5FF\"  # symbols & pictographs\n",
        "    u\"\\U0001F680-\\U0001F6FF\"  # transport & map symbols\n",
        "    u\"\\U0001F1E0-\\U0001F1FF\"  # flags (iOS)\n",
        "    u\"\\U00002702-\\U000027B0\"\n",
        "    u\"\\U000024C2-\\U0001F251\"\n",
        "    u\"\\U0001f926-\\U0001f937\"\n",
        "    u'\\U00010000-\\U0010ffff'\n",
        "    u\"\\u200d\"\n",
        "    u\"\\u2640-\\u2642\"\n",
        "    u\"\\u2600-\\u2B55\"\n",
        "    u\"\\u23cf\"\n",
        "    u\"\\u23e9\"\n",
        "    u\"\\u231a\"\n",
        "    u\"\\u3030\"\n",
        "    u\"\\ufe0f\"\n",
        "    u\"\\u2069\"\n",
        "    u\"\\u2066\"\n",
        "    u\"\\u200c\"\n",
        "    u\"\\u2068\"\n",
        "    u\"\\u2067\"\n",
        "    \"]+\", flags=re.UNICODE)\n",
        "    \n",
        "wierd_regex = re.compile(wierd_pattern).pattern"
      ]
    },
    {
      "cell_type": "markdown",
      "id": "863e4388-ff58-4fdf-bf6f-73db953cdd5d",
      "metadata": {
        "id": "863e4388-ff58-4fdf-bf6f-73db953cdd5d"
      },
      "source": [
        "Lambda function to remove wierd patterns from comment"
      ]
    },
    {
      "cell_type": "code",
      "execution_count": 25,
      "id": "466a297d-c1de-4409-91f3-ff75d4f2b3ec",
      "metadata": {
        "id": "466a297d-c1de-4409-91f3-ff75d4f2b3ec"
      },
      "outputs": [],
      "source": [
        "clean_wierds = lambda comment:[word for word in comment if re.sub(wierd_regex, \"\", word)!=\"\"]"
      ]
    },
    {
      "cell_type": "code",
      "execution_count": 26,
      "id": "f40e4969-0b99-4ac6-82d9-276cfd61f9e5",
      "metadata": {
        "id": "f40e4969-0b99-4ac6-82d9-276cfd61f9e5"
      },
      "outputs": [],
      "source": [
        "df_train['clean_comment'] = df_train['clean_comment'].apply(lambda comment:clean_symbols(comment))\n",
        "df_eval['clean_comment'] = df_eval['clean_comment'].apply(lambda comment:clean_symbols(comment))\n",
        "df_test['clean_comment'] = df_test['clean_comment'].apply(lambda comment:clean_symbols(comment))"
      ]
    },
    {
      "cell_type": "code",
      "execution_count": 27,
      "id": "c0b09e3e-0588-4f30-a371-d9461f90d072",
      "metadata": {
        "colab": {
          "base_uri": "https://localhost:8080/"
        },
        "id": "c0b09e3e-0588-4f30-a371-d9461f90d072",
        "outputId": "cfc8726f-e870-4f0c-ce5a-aa18dbb90345"
      },
      "outputs": [
        {
          "output_type": "execute_result",
          "data": {
            "text/plain": [
              "['در',\n",
              " 'ضمن',\n",
              " 'کيفيت',\n",
              " 'بسيار',\n",
              " 'بالايي',\n",
              " 'هم',\n",
              " 'داره',\n",
              " 'هم',\n",
              " 'از',\n",
              " 'لحاظ',\n",
              " 'صدا',\n",
              " 'هم',\n",
              " 'دوربين']"
            ]
          },
          "metadata": {},
          "execution_count": 27
        }
      ],
      "source": [
        "example = df_train['clean_comment'][example_id]\n",
        "example"
      ]
    },
    {
      "cell_type": "markdown",
      "id": "dc99fc66-5709-4ed8-8c40-ebdcb32e80dd",
      "metadata": {
        "id": "dc99fc66-5709-4ed8-8c40-ebdcb32e80dd",
        "tags": []
      },
      "source": [
        "#### Remove Unwanted Spaces"
      ]
    },
    {
      "cell_type": "code",
      "execution_count": 28,
      "id": "3b76ee13-a27b-4ee3-a22c-fbfafccc982a",
      "metadata": {
        "id": "3b76ee13-a27b-4ee3-a22c-fbfafccc982a"
      },
      "outputs": [],
      "source": [
        "space_regex = re.compile(r\"\\u200c|\\r|\\n\")"
      ]
    },
    {
      "cell_type": "markdown",
      "id": "670ecfa9-2ad1-4768-ae15-cd987dc838fd",
      "metadata": {
        "id": "670ecfa9-2ad1-4768-ae15-cd987dc838fd"
      },
      "source": [
        "Lambda function to remove half spaces from comment"
      ]
    },
    {
      "cell_type": "code",
      "execution_count": 29,
      "id": "e2b5c803-a6bd-41b8-b242-fb77c005d4be",
      "metadata": {
        "id": "e2b5c803-a6bd-41b8-b242-fb77c005d4be"
      },
      "outputs": [],
      "source": [
        "clean_spaces = lambda comment:[re.sub(space_regex, \"\", word) for word in comment if re.sub(space_regex, \"\", word)!=\"\"]"
      ]
    },
    {
      "cell_type": "code",
      "execution_count": 30,
      "id": "f1c05eaa-856b-4f94-a13d-6e328b23d30b",
      "metadata": {
        "id": "f1c05eaa-856b-4f94-a13d-6e328b23d30b"
      },
      "outputs": [],
      "source": [
        "df_train['clean_comment'] = df_train['clean_comment'].apply(lambda comment:clean_spaces(comment))\n",
        "df_eval['clean_comment'] = df_eval['clean_comment'].apply(lambda comment:clean_spaces(comment))\n",
        "df_test['clean_comment'] = df_test['clean_comment'].apply(lambda comment:clean_spaces(comment))"
      ]
    },
    {
      "cell_type": "code",
      "execution_count": 31,
      "id": "a468a6e6-c683-48e4-9692-8ec75e4e5958",
      "metadata": {
        "colab": {
          "base_uri": "https://localhost:8080/"
        },
        "id": "a468a6e6-c683-48e4-9692-8ec75e4e5958",
        "outputId": "07838274-288e-4990-9a8c-ec9e604821e6"
      },
      "outputs": [
        {
          "output_type": "execute_result",
          "data": {
            "text/plain": [
              "['در',\n",
              " 'ضمن',\n",
              " 'کيفيت',\n",
              " 'بسيار',\n",
              " 'بالايي',\n",
              " 'هم',\n",
              " 'داره',\n",
              " 'هم',\n",
              " 'از',\n",
              " 'لحاظ',\n",
              " 'صدا',\n",
              " 'هم',\n",
              " 'دوربين']"
            ]
          },
          "metadata": {},
          "execution_count": 31
        }
      ],
      "source": [
        "example = df_train['clean_comment'][example_id]\n",
        "example"
      ]
    },
    {
      "cell_type": "markdown",
      "id": "212c257a-f082-459e-8236-921355e4834d",
      "metadata": {
        "id": "212c257a-f082-459e-8236-921355e4834d",
        "tags": []
      },
      "source": [
        "#### Remove Stopwords"
      ]
    },
    {
      "cell_type": "code",
      "execution_count": 32,
      "id": "e087c037-8300-48e5-ab5a-50c48e47f109",
      "metadata": {
        "id": "e087c037-8300-48e5-ab5a-50c48e47f109"
      },
      "outputs": [],
      "source": [
        "stopwords = hazm.utils.stopwords_list()\n",
        "stop_pattern = r\"\\b(?:\" + \"|\".join(map(re.escape, stopwords)) + r\")\\b\"\n",
        "stop_regex = re.compile(stop_pattern).pattern"
      ]
    },
    {
      "cell_type": "markdown",
      "id": "23a18308-f081-4e52-8333-7a0e518e4c54",
      "metadata": {
        "id": "23a18308-f081-4e52-8333-7a0e518e4c54"
      },
      "source": [
        "Lambda function to remove stopwords from comment"
      ]
    },
    {
      "cell_type": "code",
      "execution_count": 33,
      "id": "5de57cef-ae58-4e95-8e27-209856552f24",
      "metadata": {
        "id": "5de57cef-ae58-4e95-8e27-209856552f24"
      },
      "outputs": [],
      "source": [
        "clean_stopwords = lambda comment:[word for word in comment if re.sub(stop_regex, \"\", word)!=\"\"]"
      ]
    },
    {
      "cell_type": "code",
      "execution_count": 34,
      "id": "00cc4ac6-26b5-4ec0-b6b6-12daba66fa05",
      "metadata": {
        "id": "00cc4ac6-26b5-4ec0-b6b6-12daba66fa05"
      },
      "outputs": [],
      "source": [
        "df_train['no_stopwords_comment'] = df_train['clean_comment'].apply(lambda comment:clean_stopwords(comment))\n",
        "df_eval['no_stopwords_comment'] = df_eval['clean_comment'].apply(lambda comment:clean_stopwords(comment))\n",
        "df_test['no_stopwords_comment'] = df_test['clean_comment'].apply(lambda comment:clean_stopwords(comment))"
      ]
    },
    {
      "cell_type": "code",
      "execution_count": 35,
      "id": "0bf92953-4a77-433e-a150-e9b56dc3c18c",
      "metadata": {
        "colab": {
          "base_uri": "https://localhost:8080/"
        },
        "id": "0bf92953-4a77-433e-a150-e9b56dc3c18c",
        "outputId": "c3fa5a37-4caf-42d8-ae62-7e1c316ce147"
      },
      "outputs": [
        {
          "output_type": "execute_result",
          "data": {
            "text/plain": [
              "['کيفيت', 'بسيار', 'بالايي', 'داره', 'صدا', 'دوربين']"
            ]
          },
          "metadata": {},
          "execution_count": 35
        }
      ],
      "source": [
        "example = df_train['no_stopwords_comment'][example_id]\n",
        "example"
      ]
    },
    {
      "cell_type": "markdown",
      "id": "1b18886e-1599-4167-b46a-a9d52ab5cff5",
      "metadata": {
        "id": "1b18886e-1599-4167-b46a-a9d52ab5cff5"
      },
      "source": [
        "#### Remove English Tokens"
      ]
    },
    {
      "cell_type": "code",
      "execution_count": 36,
      "id": "2d295b60-f0d7-4290-9c8e-50954cd2f6df",
      "metadata": {
        "id": "2d295b60-f0d7-4290-9c8e-50954cd2f6df"
      },
      "outputs": [],
      "source": [
        "english_words_pattern = r\"[A-Za-z]\"\n",
        "english_words_regex = re.compile(english_words_pattern).pattern"
      ]
    },
    {
      "cell_type": "code",
      "execution_count": 37,
      "id": "5e400f00-ffb2-4c75-8437-dac533ec798f",
      "metadata": {
        "id": "5e400f00-ffb2-4c75-8437-dac533ec798f"
      },
      "outputs": [],
      "source": [
        "clean_english_words = lambda comment:[re.sub(english_words_regex, \"\", word) for word in comment if re.sub(english_words_regex, \"\", word)!=\"\"]"
      ]
    },
    {
      "cell_type": "code",
      "execution_count": 38,
      "id": "b8b8d15c-6039-43cd-94c6-816465aa7924",
      "metadata": {
        "id": "b8b8d15c-6039-43cd-94c6-816465aa7924"
      },
      "outputs": [],
      "source": [
        "df_train['no_enligh_comment'] = df_train['clean_comment'].apply(lambda comment:clean_english_words(comment))\n",
        "df_eval['no_enligh_comment'] = df_eval['clean_comment'].apply(lambda comment:clean_english_words(comment))\n",
        "df_test['no_enligh_comment'] = df_test['clean_comment'].apply(lambda comment:clean_english_words(comment))"
      ]
    },
    {
      "cell_type": "code",
      "execution_count": 39,
      "id": "4e0b5a36-5278-4d25-8c0a-f64765aac2cf",
      "metadata": {
        "colab": {
          "base_uri": "https://localhost:8080/"
        },
        "id": "4e0b5a36-5278-4d25-8c0a-f64765aac2cf",
        "outputId": "bfee708d-33d8-4c92-a16a-38c258ff057c"
      },
      "outputs": [
        {
          "output_type": "execute_result",
          "data": {
            "text/plain": [
              "['در',\n",
              " 'ضمن',\n",
              " 'کيفيت',\n",
              " 'بسيار',\n",
              " 'بالايي',\n",
              " 'هم',\n",
              " 'داره',\n",
              " 'هم',\n",
              " 'از',\n",
              " 'لحاظ',\n",
              " 'صدا',\n",
              " 'هم',\n",
              " 'دوربين']"
            ]
          },
          "metadata": {},
          "execution_count": 39
        }
      ],
      "source": [
        "example = df_train['no_enligh_comment'][example_id]\n",
        "example"
      ]
    },
    {
      "cell_type": "markdown",
      "id": "e909205d-7290-4be1-94f1-4252a6ceb1b1",
      "metadata": {
        "id": "e909205d-7290-4be1-94f1-4252a6ceb1b1"
      },
      "source": [
        "#### Stemming"
      ]
    },
    {
      "cell_type": "code",
      "execution_count": 40,
      "id": "5a00ae61-a3b6-4742-9a0e-01cccb169395",
      "metadata": {
        "id": "5a00ae61-a3b6-4742-9a0e-01cccb169395"
      },
      "outputs": [],
      "source": [
        "stem = hazm.Stemmer().stem\n",
        "clean_stem = lambda comment:[stem(word) for word in comment]"
      ]
    },
    {
      "cell_type": "code",
      "execution_count": 41,
      "id": "de647386-3162-4288-a93b-0bda95a3d9c0",
      "metadata": {
        "id": "de647386-3162-4288-a93b-0bda95a3d9c0"
      },
      "outputs": [],
      "source": [
        "df_train['stemmed_version'] = df_train['clean_comment'].apply(lambda comment:clean_stem(comment))\n",
        "df_eval['stemmed_version'] = df_eval['clean_comment'].apply(lambda comment:clean_stem(comment))\n",
        "df_test['stemmed_version'] = df_test['clean_comment'].apply(lambda comment:clean_stem(comment))"
      ]
    },
    {
      "cell_type": "code",
      "execution_count": 42,
      "id": "6c51e918-d3f1-4fec-bf62-ad867fd815d7",
      "metadata": {
        "colab": {
          "base_uri": "https://localhost:8080/"
        },
        "id": "6c51e918-d3f1-4fec-bf62-ad867fd815d7",
        "outputId": "f571e662-cbfa-4832-851d-b4ad0064aa2f"
      },
      "outputs": [
        {
          "output_type": "execute_result",
          "data": {
            "text/plain": [
              "['در',\n",
              " 'ضمن',\n",
              " 'کيفي',\n",
              " 'بسيار',\n",
              " 'بالايي',\n",
              " 'ه',\n",
              " 'داره',\n",
              " 'ه',\n",
              " 'از',\n",
              " 'لحاظ',\n",
              " 'صدا',\n",
              " 'ه',\n",
              " 'دوربين']"
            ]
          },
          "metadata": {},
          "execution_count": 42
        }
      ],
      "source": [
        "example = df_train['stemmed_version'][example_id]\n",
        "example"
      ]
    },
    {
      "cell_type": "markdown",
      "id": "c5d38ff1-f46a-47df-bb79-062e31d71326",
      "metadata": {
        "id": "c5d38ff1-f46a-47df-bb79-062e31d71326"
      },
      "source": [
        "#### Lemmatizing"
      ]
    },
    {
      "cell_type": "code",
      "execution_count": 43,
      "id": "e23b7f27-7009-4606-b1c2-ae08411529c3",
      "metadata": {
        "id": "e23b7f27-7009-4606-b1c2-ae08411529c3"
      },
      "outputs": [],
      "source": [
        "lemmatize = hazm.Lemmatizer().lemmatize\n",
        "clean_lemmatize = lambda comment:[lemmatize(word) if '#' not in lemmatize(word) else word for word in comment]"
      ]
    },
    {
      "cell_type": "code",
      "execution_count": 44,
      "id": "f3b3238a-8c04-4829-a59a-76c6a6b5d120",
      "metadata": {
        "id": "f3b3238a-8c04-4829-a59a-76c6a6b5d120"
      },
      "outputs": [],
      "source": [
        "df_train['lemmatized_version'] = df_train['clean_comment'].apply(lambda comment:clean_lemmatize(comment))\n",
        "df_eval['lemmatized_version'] = df_eval['clean_comment'].apply(lambda comment:clean_lemmatize(comment))\n",
        "df_test['lemmatized_version'] = df_test['clean_comment'].apply(lambda comment:clean_lemmatize(comment))"
      ]
    },
    {
      "cell_type": "code",
      "execution_count": 45,
      "id": "e117b1ea-c3be-4f81-b694-b437922bfc15",
      "metadata": {
        "colab": {
          "base_uri": "https://localhost:8080/"
        },
        "id": "e117b1ea-c3be-4f81-b694-b437922bfc15",
        "outputId": "5b9948f9-556f-4152-f3e7-050d6fa9d81d"
      },
      "outputs": [
        {
          "output_type": "execute_result",
          "data": {
            "text/plain": [
              "['در',\n",
              " 'ضمن',\n",
              " 'کيفيت',\n",
              " 'بسيار',\n",
              " 'بالايي',\n",
              " 'هم',\n",
              " 'داره',\n",
              " 'هم',\n",
              " 'از',\n",
              " 'لحاظ',\n",
              " 'صدا',\n",
              " 'هم',\n",
              " 'دوربين']"
            ]
          },
          "metadata": {},
          "execution_count": 45
        }
      ],
      "source": [
        "example = df_train['lemmatized_version'][example_id]\n",
        "example"
      ]
    },
    {
      "cell_type": "markdown",
      "id": "040db409-4ec1-4f37-a057-f1392581e669",
      "metadata": {
        "id": "040db409-4ec1-4f37-a057-f1392581e669",
        "tags": []
      },
      "source": [
        "#### Delete Empty Comments"
      ]
    },
    {
      "cell_type": "code",
      "execution_count": 46,
      "id": "0376f51e-8dc9-46e4-a454-a4ee68bb8ccb",
      "metadata": {
        "id": "0376f51e-8dc9-46e4-a454-a4ee68bb8ccb"
      },
      "outputs": [],
      "source": [
        "indices = df_train.index[df_train[\"clean_comment\"].str.len() != 0].tolist()\n",
        "df_train = df_train.iloc[indices].reset_index(drop=True)"
      ]
    },
    {
      "cell_type": "markdown",
      "id": "6de5a4db-7d5a-4f48-994d-b019a8c28809",
      "metadata": {
        "id": "6de5a4db-7d5a-4f48-994d-b019a8c28809"
      },
      "source": [
        "#### Label rates"
      ]
    },
    {
      "cell_type": "code",
      "execution_count": 47,
      "id": "aa57d7b6-f450-4fb9-beeb-57c1904ea9bd",
      "metadata": {
        "id": "aa57d7b6-f450-4fb9-beeb-57c1904ea9bd"
      },
      "outputs": [],
      "source": [
        "def rate_to_label(rate, negative_threshold=-0.2, positive_threshold=0.5):\n",
        "    if rate < negative_threshold:\n",
        "        return 'negative'\n",
        "    elif rate > positive_threshold:\n",
        "        return 'positive'\n",
        "    else:\n",
        "        return 'neutral'\n",
        "\n",
        "\n",
        "df_train['label'] = df_train['rate'].apply(lambda t: rate_to_label(t))\n",
        "df_eval['label'] = df_eval['rate'].apply(lambda t: rate_to_label(t))\n",
        "df_test['label'] = df_test['rate'].apply(lambda t: rate_to_label(t))"
      ]
    },
    {
      "cell_type": "markdown",
      "id": "63364d7a-210d-41ab-be93-8b7a650f1821",
      "metadata": {
        "id": "63364d7a-210d-41ab-be93-8b7a650f1821"
      },
      "source": [
        "### More about comments"
      ]
    },
    {
      "cell_type": "code",
      "execution_count": 48,
      "id": "bc396494-d369-483d-9483-2ac75d8974a6",
      "metadata": {
        "colab": {
          "base_uri": "https://localhost:8080/"
        },
        "id": "bc396494-d369-483d-9483-2ac75d8974a6",
        "outputId": "33fee39a-09ff-4ebd-fcf7-e8129ea9df02"
      },
      "outputs": [
        {
          "output_type": "stream",
          "name": "stdout",
          "text": [
            "Min: 1 \tMax: 675\n"
          ]
        }
      ],
      "source": [
        "min_max_len = df_train[\"clean_comment\"].str.len().min(), df_train[\"clean_comment\"].str.len().max()\n",
        "print(f'Min: {min_max_len[0]} \\tMax: {min_max_len[1]}')"
      ]
    },
    {
      "cell_type": "markdown",
      "id": "db89350e-ab3e-4bda-ae2a-eef722485747",
      "metadata": {
        "id": "db89350e-ab3e-4bda-ae2a-eef722485747"
      },
      "source": [
        "#### Comments Length Distribution After Cleaning"
      ]
    },
    {
      "cell_type": "code",
      "execution_count": 49,
      "id": "1298c9a5-317c-478e-ba73-616f1a2e4aa4",
      "metadata": {
        "colab": {
          "base_uri": "https://localhost:8080/",
          "height": 542
        },
        "id": "1298c9a5-317c-478e-ba73-616f1a2e4aa4",
        "outputId": "4bf9be5e-e551-4dd1-a0a2-626a4c541112"
      },
      "outputs": [
        {
          "output_type": "display_data",
          "data": {
            "text/html": [
              "<html>\n",
              "<head><meta charset=\"utf-8\" /></head>\n",
              "<body>\n",
              "    <div>\n",
              "            <script src=\"https://cdnjs.cloudflare.com/ajax/libs/mathjax/2.7.5/MathJax.js?config=TeX-AMS-MML_SVG\"></script><script type=\"text/javascript\">if (window.MathJax) {MathJax.Hub.Config({SVG: {font: \"STIX-Web\"}});}</script>\n",
              "                <script type=\"text/javascript\">window.PlotlyConfig = {MathJaxConfig: 'local'};</script>\n",
              "        <script src=\"https://cdn.plot.ly/plotly-latest.min.js\"></script>    \n",
              "            <div id=\"2c96289a-d9dd-4205-a3cc-ed2b964b7c67\" class=\"plotly-graph-div\" style=\"height:525px; width:100%;\"></div>\n",
              "            <script type=\"text/javascript\">\n",
              "                \n",
              "                    window.PLOTLYENV=window.PLOTLYENV || {};\n",
              "                    \n",
              "                if (document.getElementById(\"2c96289a-d9dd-4205-a3cc-ed2b964b7c67\")) {\n",
              "                    Plotly.newPlot(\n",
              "                        '2c96289a-d9dd-4205-a3cc-ed2b964b7c67',\n",
              "                        [{\"type\": \"histogram\", \"x\": [20, 8, 5, 13, 19, 20, 22, 55, 3, 5, 13, 3, 4, 34, 12, 18, 10, 20, 6, 22, 7, 10, 9, 9, 67, 22, 30, 5, 94, 8, 5, 31, 22, 3, 21, 47, 19, 11, 19, 52, 33, 33, 21, 12, 10, 11, 29, 15, 8, 2, 15, 9, 6, 19, 32, 12, 14, 12, 12, 20, 10, 4, 49, 37, 68, 13, 5, 28, 21, 11, 53, 8, 11, 19, 14, 50, 3, 23, 2, 44, 5, 12, 48, 5, 46, 4, 10, 6, 5, 15, 51, 6, 28, 13, 9, 5, 14, 36, 30, 16, 15, 10, 22, 11, 19, 74, 18, 10, 10, 14, 17, 17, 10, 8, 14, 12, 14, 15, 19, 17, 11, 10, 32, 4, 43, 2, 14, 11, 8, 12, 52, 4, 5, 2, 11, 2, 15, 32, 1, 22, 16, 13, 24, 2, 35, 255, 5, 24, 4, 6, 7, 7, 17, 7, 17, 32, 5, 12, 30, 10, 19, 2, 20, 14, 37, 8, 12, 8, 21, 39, 8, 8, 33, 7, 28, 34, 16, 19, 6, 30, 6, 83, 109, 98, 16, 11, 22, 5, 12, 25, 20, 25, 8, 15, 10, 9, 13, 41, 32, 1, 13, 19, 9, 5, 42, 45, 16, 7, 9, 14, 16, 17, 46, 52, 9, 38, 15, 18, 78, 9, 8, 9, 66, 42, 24, 7, 97, 5, 31, 14, 24, 6, 29, 13, 35, 35, 4, 4, 8, 17, 9, 8, 19, 28, 27, 23, 22, 6, 42, 20, 24, 19, 10, 12, 13, 2, 14, 69, 28, 11, 44, 11, 48, 29, 32, 6, 42, 37, 5, 99, 28, 2, 16, 30, 13, 28, 6, 32, 5, 16, 12, 2, 16, 2, 32, 9, 6, 13, 1, 6, 7, 13, 18, 5, 27, 57, 4, 20, 9, 26, 23, 8, 11, 19, 3, 16, 14, 7, 5, 4, 54, 12, 6, 23, 10, 6, 17, 14, 6, 54, 21, 3, 54, 19, 31, 32, 10, 37, 13, 7, 15, 24, 3, 2, 10, 20, 38, 32, 15, 5, 20, 11, 7, 12, 62, 25, 23, 8, 17, 9, 54, 10, 28, 18, 6, 15, 1, 59, 14, 8, 11, 41, 18, 65, 23, 22, 20, 49, 10, 8, 16, 22, 42, 32, 15, 10, 23, 15, 22, 15, 2, 9, 12, 33, 14, 16, 47, 9, 30, 7, 24, 45, 3, 19, 56, 8, 14, 21, 33, 7, 11, 49, 18, 39, 27, 2, 21, 30, 62, 13, 52, 45, 34, 27, 4, 15, 16, 18, 9, 2, 13, 45, 17, 18, 11, 675, 15, 4, 14, 6, 3, 7, 17, 49, 17, 10, 11, 10, 11, 9, 15, 7, 78, 58, 10, 28, 4, 5, 27, 29, 3, 18, 12, 9, 17, 12, 13, 9, 11, 99, 12, 3, 18, 10, 8, 38, 5, 23, 40, 7, 58, 33, 14, 15, 10, 49, 33, 24, 224, 11, 8, 14, 27, 7, 30, 31, 14, 1, 2, 16, 15, 21, 21, 2, 5, 5, 69, 13, 1, 16, 2, 12, 5, 6, 8, 32, 15, 21, 25, 34, 15, 188, 51, 7, 31, 7, 6, 20, 10, 9, 28, 13, 32, 23, 14, 12, 38, 16, 94, 18, 11, 4, 20, 20, 77, 8, 16, 209, 17, 34, 1, 20, 16, 12, 18, 4, 19, 187, 45, 20, 22, 9, 8, 20, 22, 12, 31, 21, 25, 6, 32, 15, 67, 31, 8, 6, 21, 10, 9, 156, 12, 23, 5, 13, 11, 18, 23, 23, 10, 4, 3, 21, 20, 2, 21, 24, 13, 43, 129, 15, 17, 13, 7, 42, 10, 52, 14, 23, 7, 7, 13, 39, 21, 15, 38, 4, 5, 11, 21, 10, 24, 22, 3, 94, 8, 21, 17, 17, 8, 20, 13, 24, 46, 16, 36, 11, 15, 3, 17, 37, 29, 5, 2, 2, 23, 12, 290, 35, 59, 12, 51, 11, 33, 5, 11, 34, 15, 18, 19, 12, 4, 6, 10, 62, 13, 18, 6, 10, 24, 11, 23, 35, 4, 1, 10, 12, 22, 30, 44, 11, 47, 24, 14, 6, 7, 33, 14, 18, 31, 35, 19, 6, 40, 37, 18, 15, 9, 112, 43, 13, 12, 21, 20, 1, 32, 12, 13, 7, 8, 11, 95, 8, 16, 4, 2, 14, 12, 15, 7, 53, 28, 25, 9, 11, 7, 7, 12, 10, 62, 66, 7, 58, 27, 10, 33, 1, 63, 5, 22, 34, 10, 32, 26, 6, 11, 24, 9, 32, 20, 17, 10, 8, 10, 14, 7, 14, 124, 4, 39, 5, 15, 20, 24, 29, 19, 30, 34, 8, 43, 13, 4, 12, 26, 47, 19, 7, 4, 58, 20, 12, 14, 10, 2, 21, 33, 2, 23, 67, 32, 7, 6, 11, 8, 3, 33, 23, 5, 18, 20, 13, 15, 5, 6, 26, 5, 48, 16, 8, 5, 21]}],\n",
              "                        {\"bargap\": 0.2, \"bargroupgap\": 0.2, \"template\": {\"data\": {\"bar\": [{\"error_x\": {\"color\": \"#2a3f5f\"}, \"error_y\": {\"color\": \"#2a3f5f\"}, \"marker\": {\"line\": {\"color\": \"#E5ECF6\", \"width\": 0.5}}, \"type\": \"bar\"}], \"barpolar\": [{\"marker\": {\"line\": {\"color\": \"#E5ECF6\", \"width\": 0.5}}, \"type\": \"barpolar\"}], \"carpet\": [{\"aaxis\": {\"endlinecolor\": \"#2a3f5f\", \"gridcolor\": \"white\", \"linecolor\": \"white\", \"minorgridcolor\": \"white\", \"startlinecolor\": \"#2a3f5f\"}, \"baxis\": {\"endlinecolor\": \"#2a3f5f\", \"gridcolor\": \"white\", \"linecolor\": \"white\", \"minorgridcolor\": \"white\", \"startlinecolor\": \"#2a3f5f\"}, \"type\": \"carpet\"}], \"choropleth\": [{\"colorbar\": {\"outlinewidth\": 0, \"ticks\": \"\"}, \"type\": \"choropleth\"}], \"contour\": [{\"colorbar\": {\"outlinewidth\": 0, \"ticks\": \"\"}, \"colorscale\": [[0.0, \"#0d0887\"], [0.1111111111111111, \"#46039f\"], [0.2222222222222222, \"#7201a8\"], [0.3333333333333333, \"#9c179e\"], [0.4444444444444444, \"#bd3786\"], [0.5555555555555556, \"#d8576b\"], [0.6666666666666666, \"#ed7953\"], [0.7777777777777778, \"#fb9f3a\"], [0.8888888888888888, \"#fdca26\"], [1.0, \"#f0f921\"]], \"type\": \"contour\"}], \"contourcarpet\": [{\"colorbar\": {\"outlinewidth\": 0, \"ticks\": \"\"}, \"type\": \"contourcarpet\"}], \"heatmap\": [{\"colorbar\": {\"outlinewidth\": 0, \"ticks\": \"\"}, \"colorscale\": [[0.0, \"#0d0887\"], [0.1111111111111111, \"#46039f\"], [0.2222222222222222, \"#7201a8\"], [0.3333333333333333, \"#9c179e\"], [0.4444444444444444, \"#bd3786\"], [0.5555555555555556, \"#d8576b\"], [0.6666666666666666, \"#ed7953\"], [0.7777777777777778, \"#fb9f3a\"], [0.8888888888888888, \"#fdca26\"], [1.0, \"#f0f921\"]], \"type\": \"heatmap\"}], \"heatmapgl\": [{\"colorbar\": {\"outlinewidth\": 0, \"ticks\": \"\"}, \"colorscale\": [[0.0, \"#0d0887\"], [0.1111111111111111, \"#46039f\"], [0.2222222222222222, \"#7201a8\"], [0.3333333333333333, \"#9c179e\"], [0.4444444444444444, \"#bd3786\"], [0.5555555555555556, \"#d8576b\"], [0.6666666666666666, \"#ed7953\"], [0.7777777777777778, \"#fb9f3a\"], [0.8888888888888888, \"#fdca26\"], [1.0, \"#f0f921\"]], \"type\": \"heatmapgl\"}], \"histogram\": [{\"marker\": {\"colorbar\": {\"outlinewidth\": 0, \"ticks\": \"\"}}, \"type\": \"histogram\"}], \"histogram2d\": [{\"colorbar\": {\"outlinewidth\": 0, \"ticks\": \"\"}, \"colorscale\": [[0.0, \"#0d0887\"], [0.1111111111111111, \"#46039f\"], [0.2222222222222222, \"#7201a8\"], [0.3333333333333333, \"#9c179e\"], [0.4444444444444444, \"#bd3786\"], [0.5555555555555556, \"#d8576b\"], [0.6666666666666666, \"#ed7953\"], [0.7777777777777778, \"#fb9f3a\"], [0.8888888888888888, \"#fdca26\"], [1.0, \"#f0f921\"]], \"type\": \"histogram2d\"}], \"histogram2dcontour\": [{\"colorbar\": {\"outlinewidth\": 0, \"ticks\": \"\"}, \"colorscale\": [[0.0, \"#0d0887\"], [0.1111111111111111, \"#46039f\"], [0.2222222222222222, \"#7201a8\"], [0.3333333333333333, \"#9c179e\"], [0.4444444444444444, \"#bd3786\"], [0.5555555555555556, \"#d8576b\"], [0.6666666666666666, \"#ed7953\"], [0.7777777777777778, \"#fb9f3a\"], [0.8888888888888888, \"#fdca26\"], [1.0, \"#f0f921\"]], \"type\": \"histogram2dcontour\"}], \"mesh3d\": [{\"colorbar\": {\"outlinewidth\": 0, \"ticks\": \"\"}, \"type\": \"mesh3d\"}], \"parcoords\": [{\"line\": {\"colorbar\": {\"outlinewidth\": 0, \"ticks\": \"\"}}, \"type\": \"parcoords\"}], \"pie\": [{\"automargin\": true, \"type\": \"pie\"}], \"scatter\": [{\"marker\": {\"colorbar\": {\"outlinewidth\": 0, \"ticks\": \"\"}}, \"type\": \"scatter\"}], \"scatter3d\": [{\"line\": {\"colorbar\": {\"outlinewidth\": 0, \"ticks\": \"\"}}, \"marker\": {\"colorbar\": {\"outlinewidth\": 0, \"ticks\": \"\"}}, \"type\": \"scatter3d\"}], \"scattercarpet\": [{\"marker\": {\"colorbar\": {\"outlinewidth\": 0, \"ticks\": \"\"}}, \"type\": \"scattercarpet\"}], \"scattergeo\": [{\"marker\": {\"colorbar\": {\"outlinewidth\": 0, \"ticks\": \"\"}}, \"type\": \"scattergeo\"}], \"scattergl\": [{\"marker\": {\"colorbar\": {\"outlinewidth\": 0, \"ticks\": \"\"}}, \"type\": \"scattergl\"}], \"scattermapbox\": [{\"marker\": {\"colorbar\": {\"outlinewidth\": 0, \"ticks\": \"\"}}, \"type\": \"scattermapbox\"}], \"scatterpolar\": [{\"marker\": {\"colorbar\": {\"outlinewidth\": 0, \"ticks\": \"\"}}, \"type\": \"scatterpolar\"}], \"scatterpolargl\": [{\"marker\": {\"colorbar\": {\"outlinewidth\": 0, \"ticks\": \"\"}}, \"type\": \"scatterpolargl\"}], \"scatterternary\": [{\"marker\": {\"colorbar\": {\"outlinewidth\": 0, \"ticks\": \"\"}}, \"type\": \"scatterternary\"}], \"surface\": [{\"colorbar\": {\"outlinewidth\": 0, \"ticks\": \"\"}, \"colorscale\": [[0.0, \"#0d0887\"], [0.1111111111111111, \"#46039f\"], [0.2222222222222222, \"#7201a8\"], [0.3333333333333333, \"#9c179e\"], [0.4444444444444444, \"#bd3786\"], [0.5555555555555556, \"#d8576b\"], [0.6666666666666666, \"#ed7953\"], [0.7777777777777778, \"#fb9f3a\"], [0.8888888888888888, \"#fdca26\"], [1.0, \"#f0f921\"]], \"type\": \"surface\"}], \"table\": [{\"cells\": {\"fill\": {\"color\": \"#EBF0F8\"}, \"line\": {\"color\": \"white\"}}, \"header\": {\"fill\": {\"color\": \"#C8D4E3\"}, \"line\": {\"color\": \"white\"}}, \"type\": \"table\"}]}, \"layout\": {\"annotationdefaults\": {\"arrowcolor\": \"#2a3f5f\", \"arrowhead\": 0, \"arrowwidth\": 1}, \"coloraxis\": {\"colorbar\": {\"outlinewidth\": 0, \"ticks\": \"\"}}, \"colorscale\": {\"diverging\": [[0, \"#8e0152\"], [0.1, \"#c51b7d\"], [0.2, \"#de77ae\"], [0.3, \"#f1b6da\"], [0.4, \"#fde0ef\"], [0.5, \"#f7f7f7\"], [0.6, \"#e6f5d0\"], [0.7, \"#b8e186\"], [0.8, \"#7fbc41\"], [0.9, \"#4d9221\"], [1, \"#276419\"]], \"sequential\": [[0.0, \"#0d0887\"], [0.1111111111111111, \"#46039f\"], [0.2222222222222222, \"#7201a8\"], [0.3333333333333333, \"#9c179e\"], [0.4444444444444444, \"#bd3786\"], [0.5555555555555556, \"#d8576b\"], [0.6666666666666666, \"#ed7953\"], [0.7777777777777778, \"#fb9f3a\"], [0.8888888888888888, \"#fdca26\"], [1.0, \"#f0f921\"]], \"sequentialminus\": [[0.0, \"#0d0887\"], [0.1111111111111111, \"#46039f\"], [0.2222222222222222, \"#7201a8\"], [0.3333333333333333, \"#9c179e\"], [0.4444444444444444, \"#bd3786\"], [0.5555555555555556, \"#d8576b\"], [0.6666666666666666, \"#ed7953\"], [0.7777777777777778, \"#fb9f3a\"], [0.8888888888888888, \"#fdca26\"], [1.0, \"#f0f921\"]]}, \"colorway\": [\"#636efa\", \"#EF553B\", \"#00cc96\", \"#ab63fa\", \"#FFA15A\", \"#19d3f3\", \"#FF6692\", \"#B6E880\", \"#FF97FF\", \"#FECB52\"], \"font\": {\"color\": \"#2a3f5f\"}, \"geo\": {\"bgcolor\": \"white\", \"lakecolor\": \"white\", \"landcolor\": \"#E5ECF6\", \"showlakes\": true, \"showland\": true, \"subunitcolor\": \"white\"}, \"hoverlabel\": {\"align\": \"left\"}, \"hovermode\": \"closest\", \"mapbox\": {\"style\": \"light\"}, \"paper_bgcolor\": \"white\", \"plot_bgcolor\": \"#E5ECF6\", \"polar\": {\"angularaxis\": {\"gridcolor\": \"white\", \"linecolor\": \"white\", \"ticks\": \"\"}, \"bgcolor\": \"#E5ECF6\", \"radialaxis\": {\"gridcolor\": \"white\", \"linecolor\": \"white\", \"ticks\": \"\"}}, \"scene\": {\"xaxis\": {\"backgroundcolor\": \"#E5ECF6\", \"gridcolor\": \"white\", \"gridwidth\": 2, \"linecolor\": \"white\", \"showbackground\": true, \"ticks\": \"\", \"zerolinecolor\": \"white\"}, \"yaxis\": {\"backgroundcolor\": \"#E5ECF6\", \"gridcolor\": \"white\", \"gridwidth\": 2, \"linecolor\": \"white\", \"showbackground\": true, \"ticks\": \"\", \"zerolinecolor\": \"white\"}, \"zaxis\": {\"backgroundcolor\": \"#E5ECF6\", \"gridcolor\": \"white\", \"gridwidth\": 2, \"linecolor\": \"white\", \"showbackground\": true, \"ticks\": \"\", \"zerolinecolor\": \"white\"}}, \"shapedefaults\": {\"line\": {\"color\": \"#2a3f5f\"}}, \"ternary\": {\"aaxis\": {\"gridcolor\": \"white\", \"linecolor\": \"white\", \"ticks\": \"\"}, \"baxis\": {\"gridcolor\": \"white\", \"linecolor\": \"white\", \"ticks\": \"\"}, \"bgcolor\": \"#E5ECF6\", \"caxis\": {\"gridcolor\": \"white\", \"linecolor\": \"white\", \"ticks\": \"\"}}, \"title\": {\"x\": 0.05}, \"xaxis\": {\"automargin\": true, \"gridcolor\": \"white\", \"linecolor\": \"white\", \"ticks\": \"\", \"title\": {\"standoff\": 15}, \"zerolinecolor\": \"white\", \"zerolinewidth\": 2}, \"yaxis\": {\"automargin\": true, \"gridcolor\": \"white\", \"linecolor\": \"white\", \"ticks\": \"\", \"title\": {\"standoff\": 15}, \"zerolinecolor\": \"white\", \"zerolinewidth\": 2}}}, \"title\": {\"text\": \"Distribution of word counts within comments\"}, \"xaxis\": {\"title\": {\"text\": \"Word Count\"}}, \"yaxis\": {\"title\": {\"text\": \"Frequency\"}}},\n",
              "                        {\"responsive\": true}\n",
              "                    ).then(function(){\n",
              "                            \n",
              "var gd = document.getElementById('2c96289a-d9dd-4205-a3cc-ed2b964b7c67');\n",
              "var x = new MutationObserver(function (mutations, observer) {{\n",
              "        var display = window.getComputedStyle(gd).display;\n",
              "        if (!display || display === 'none') {{\n",
              "            console.log([gd, 'removed!']);\n",
              "            Plotly.purge(gd);\n",
              "            observer.disconnect();\n",
              "        }}\n",
              "}});\n",
              "\n",
              "// Listen for the removal of the full notebook cells\n",
              "var notebookContainer = gd.closest('#notebook-container');\n",
              "if (notebookContainer) {{\n",
              "    x.observe(notebookContainer, {childList: true});\n",
              "}}\n",
              "\n",
              "// Listen for the clearing of the current output cell\n",
              "var outputEl = gd.closest('.output');\n",
              "if (outputEl) {{\n",
              "    x.observe(outputEl, {childList: true});\n",
              "}}\n",
              "\n",
              "                        })\n",
              "                };\n",
              "                \n",
              "            </script>\n",
              "        </div>\n",
              "</body>\n",
              "</html>"
            ]
          },
          "metadata": {}
        }
      ],
      "source": [
        "import plotly.express as px\n",
        "import plotly.graph_objects as go\n",
        "\n",
        "fig = go.Figure()\n",
        "\n",
        "fig.add_trace(go.Histogram(\n",
        "    x=df_train[\"clean_comment\"].str.len()\n",
        "))\n",
        "\n",
        "fig.update_layout(\n",
        "    title_text='Distribution of word counts within comments',\n",
        "    xaxis_title_text='Word Count',\n",
        "    yaxis_title_text='Frequency',\n",
        "    bargap=0.2,\n",
        "    bargroupgap=0.2)\n",
        "\n",
        "fig.show()"
      ]
    },
    {
      "cell_type": "markdown",
      "id": "93945ade-9095-4306-95ce-fc80e705aa79",
      "metadata": {
        "id": "93945ade-9095-4306-95ce-fc80e705aa79"
      },
      "source": [
        "#### Comments Length Distribution After Cleaning"
      ]
    },
    {
      "cell_type": "code",
      "execution_count": 50,
      "id": "82482e53-18b8-4a3a-8537-d4721a859515",
      "metadata": {
        "colab": {
          "base_uri": "https://localhost:8080/",
          "height": 542
        },
        "id": "82482e53-18b8-4a3a-8537-d4721a859515",
        "outputId": "55f7bf16-dd81-439b-d632-5acb55d6a861"
      },
      "outputs": [
        {
          "output_type": "display_data",
          "data": {
            "text/html": [
              "<html>\n",
              "<head><meta charset=\"utf-8\" /></head>\n",
              "<body>\n",
              "    <div>\n",
              "            <script src=\"https://cdnjs.cloudflare.com/ajax/libs/mathjax/2.7.5/MathJax.js?config=TeX-AMS-MML_SVG\"></script><script type=\"text/javascript\">if (window.MathJax) {MathJax.Hub.Config({SVG: {font: \"STIX-Web\"}});}</script>\n",
              "                <script type=\"text/javascript\">window.PlotlyConfig = {MathJaxConfig: 'local'};</script>\n",
              "        <script src=\"https://cdn.plot.ly/plotly-latest.min.js\"></script>    \n",
              "            <div id=\"f5abd9b3-e89d-4cc4-a1e3-977d11c50864\" class=\"plotly-graph-div\" style=\"height:525px; width:100%;\"></div>\n",
              "            <script type=\"text/javascript\">\n",
              "                \n",
              "                    window.PLOTLYENV=window.PLOTLYENV || {};\n",
              "                    \n",
              "                if (document.getElementById(\"f5abd9b3-e89d-4cc4-a1e3-977d11c50864\")) {\n",
              "                    Plotly.newPlot(\n",
              "                        'f5abd9b3-e89d-4cc4-a1e3-977d11c50864',\n",
              "                        [{\"type\": \"histogram\", \"x\": [92, 46, 25, 63, 95, 86, 103, 284, 18, 24, 61, 11, 19, 179, 56, 96, 51, 110, 24, 124, 40, 47, 44, 46, 315, 111, 142, 17, 439, 45, 26, 157, 122, 16, 100, 228, 90, 49, 105, 240, 179, 154, 118, 56, 52, 56, 135, 74, 47, 12, 72, 46, 24, 87, 157, 53, 71, 57, 71, 90, 54, 18, 217, 201, 341, 69, 22, 141, 110, 53, 241, 39, 56, 94, 60, 259, 15, 115, 14, 194, 21, 56, 254, 20, 256, 19, 55, 26, 27, 76, 257, 33, 127, 72, 53, 28, 69, 196, 148, 89, 84, 56, 111, 56, 93, 360, 90, 50, 54, 78, 83, 83, 50, 46, 65, 54, 63, 84, 102, 74, 50, 45, 131, 15, 213, 15, 68, 52, 46, 55, 252, 22, 24, 8, 50, 8, 65, 181, 4, 103, 82, 74, 130, 14, 159, 1329, 26, 117, 16, 28, 34, 29, 88, 39, 79, 146, 22, 66, 130, 51, 93, 8, 117, 64, 179, 36, 59, 43, 96, 214, 44, 37, 173, 31, 146, 158, 84, 89, 26, 153, 24, 416, 522, 480, 79, 48, 107, 29, 53, 148, 100, 129, 44, 78, 49, 39, 60, 197, 152, 14, 57, 114, 52, 22, 218, 230, 70, 26, 44, 73, 78, 84, 223, 272, 44, 197, 94, 93, 361, 45, 37, 46, 321, 199, 138, 40, 458, 24, 161, 73, 134, 27, 151, 70, 161, 188, 16, 19, 47, 82, 42, 38, 103, 179, 134, 106, 122, 29, 206, 98, 139, 95, 44, 54, 55, 9, 74, 418, 138, 49, 220, 52, 264, 152, 137, 28, 202, 173, 29, 456, 123, 13, 65, 160, 64, 131, 31, 159, 25, 69, 61, 12, 86, 12, 165, 46, 32, 60, 4, 27, 36, 64, 97, 24, 139, 278, 14, 90, 43, 150, 113, 40, 58, 99, 16, 89, 65, 26, 23, 17, 274, 65, 42, 113, 52, 25, 89, 81, 29, 250, 114, 14, 256, 97, 146, 145, 51, 182, 58, 33, 79, 132, 18, 12, 49, 95, 210, 153, 72, 25, 111, 61, 37, 58, 401, 123, 104, 41, 82, 52, 261, 46, 138, 95, 30, 84, 3, 285, 61, 34, 56, 199, 101, 344, 107, 112, 104, 216, 53, 42, 78, 101, 207, 223, 65, 53, 123, 69, 118, 67, 10, 58, 59, 170, 72, 78, 281, 46, 138, 39, 121, 231, 18, 102, 269, 41, 70, 109, 140, 44, 54, 256, 90, 217, 135, 10, 95, 164, 291, 66, 236, 209, 155, 114, 21, 84, 72, 99, 45, 13, 57, 221, 72, 83, 52, 3112, 70, 19, 70, 24, 14, 35, 80, 220, 91, 56, 70, 42, 48, 45, 79, 35, 361, 301, 45, 137, 19, 30, 130, 166, 18, 76, 62, 38, 77, 65, 80, 38, 52, 479, 68, 16, 86, 41, 40, 190, 30, 113, 193, 39, 296, 175, 87, 65, 48, 241, 192, 112, 1063, 55, 46, 63, 127, 35, 154, 154, 75, 7, 10, 71, 66, 84, 110, 10, 21, 18, 354, 60, 4, 77, 12, 68, 31, 24, 44, 150, 71, 117, 110, 177, 80, 856, 262, 35, 146, 36, 31, 99, 48, 36, 137, 69, 160, 116, 65, 68, 189, 99, 453, 100, 58, 24, 105, 125, 385, 43, 81, 1037, 82, 154, 8, 99, 80, 75, 81, 19, 91, 830, 224, 88, 104, 43, 34, 93, 108, 48, 149, 141, 129, 26, 175, 69, 328, 159, 37, 37, 125, 44, 51, 796, 66, 121, 26, 61, 64, 74, 130, 116, 46, 22, 19, 103, 103, 19, 103, 111, 65, 204, 641, 69, 85, 60, 37, 207, 49, 256, 73, 102, 32, 35, 60, 173, 103, 68, 198, 27, 25, 59, 118, 47, 129, 128, 13, 458, 34, 108, 76, 73, 39, 87, 68, 114, 223, 80, 181, 65, 83, 17, 84, 207, 152, 21, 7, 14, 130, 58, 1392, 173, 270, 59, 258, 53, 158, 26, 53, 166, 66, 91, 86, 69, 17, 27, 47, 301, 67, 79, 27, 41, 109, 59, 119, 165, 17, 4, 48, 66, 112, 144, 236, 50, 194, 133, 69, 34, 38, 179, 88, 87, 158, 185, 93, 28, 179, 207, 107, 78, 49, 525, 230, 66, 55, 97, 113, 4, 171, 66, 65, 29, 39, 46, 436, 43, 83, 17, 10, 79, 68, 90, 27, 262, 141, 114, 51, 48, 39, 48, 67, 42, 318, 315, 38, 315, 158, 54, 161, 7, 342, 30, 97, 179, 43, 149, 168, 29, 49, 108, 45, 155, 110, 87, 51, 38, 49, 77, 35, 71, 652, 19, 183, 31, 79, 116, 116, 165, 92, 156, 164, 47, 209, 60, 22, 82, 134, 241, 102, 34, 22, 280, 92, 60, 62, 44, 7, 101, 172, 7, 129, 340, 152, 40, 26, 61, 40, 13, 164, 129, 23, 92, 111, 59, 78, 28, 36, 131, 23, 245, 83, 32, 24, 108]}],\n",
              "                        {\"bargap\": 0.2, \"bargroupgap\": 0.2, \"template\": {\"data\": {\"bar\": [{\"error_x\": {\"color\": \"#2a3f5f\"}, \"error_y\": {\"color\": \"#2a3f5f\"}, \"marker\": {\"line\": {\"color\": \"#E5ECF6\", \"width\": 0.5}}, \"type\": \"bar\"}], \"barpolar\": [{\"marker\": {\"line\": {\"color\": \"#E5ECF6\", \"width\": 0.5}}, \"type\": \"barpolar\"}], \"carpet\": [{\"aaxis\": {\"endlinecolor\": \"#2a3f5f\", \"gridcolor\": \"white\", \"linecolor\": \"white\", \"minorgridcolor\": \"white\", \"startlinecolor\": \"#2a3f5f\"}, \"baxis\": {\"endlinecolor\": \"#2a3f5f\", \"gridcolor\": \"white\", \"linecolor\": \"white\", \"minorgridcolor\": \"white\", \"startlinecolor\": \"#2a3f5f\"}, \"type\": \"carpet\"}], \"choropleth\": [{\"colorbar\": {\"outlinewidth\": 0, \"ticks\": \"\"}, \"type\": \"choropleth\"}], \"contour\": [{\"colorbar\": {\"outlinewidth\": 0, \"ticks\": \"\"}, \"colorscale\": [[0.0, \"#0d0887\"], [0.1111111111111111, \"#46039f\"], [0.2222222222222222, \"#7201a8\"], [0.3333333333333333, \"#9c179e\"], [0.4444444444444444, \"#bd3786\"], [0.5555555555555556, \"#d8576b\"], [0.6666666666666666, \"#ed7953\"], [0.7777777777777778, \"#fb9f3a\"], [0.8888888888888888, \"#fdca26\"], [1.0, \"#f0f921\"]], \"type\": \"contour\"}], \"contourcarpet\": [{\"colorbar\": {\"outlinewidth\": 0, \"ticks\": \"\"}, \"type\": \"contourcarpet\"}], \"heatmap\": [{\"colorbar\": {\"outlinewidth\": 0, \"ticks\": \"\"}, \"colorscale\": [[0.0, \"#0d0887\"], [0.1111111111111111, \"#46039f\"], [0.2222222222222222, \"#7201a8\"], [0.3333333333333333, \"#9c179e\"], [0.4444444444444444, \"#bd3786\"], [0.5555555555555556, \"#d8576b\"], [0.6666666666666666, \"#ed7953\"], [0.7777777777777778, \"#fb9f3a\"], [0.8888888888888888, \"#fdca26\"], [1.0, \"#f0f921\"]], \"type\": \"heatmap\"}], \"heatmapgl\": [{\"colorbar\": {\"outlinewidth\": 0, \"ticks\": \"\"}, \"colorscale\": [[0.0, \"#0d0887\"], [0.1111111111111111, \"#46039f\"], [0.2222222222222222, \"#7201a8\"], [0.3333333333333333, \"#9c179e\"], [0.4444444444444444, \"#bd3786\"], [0.5555555555555556, \"#d8576b\"], [0.6666666666666666, \"#ed7953\"], [0.7777777777777778, \"#fb9f3a\"], [0.8888888888888888, \"#fdca26\"], [1.0, \"#f0f921\"]], \"type\": \"heatmapgl\"}], \"histogram\": [{\"marker\": {\"colorbar\": {\"outlinewidth\": 0, \"ticks\": \"\"}}, \"type\": \"histogram\"}], \"histogram2d\": [{\"colorbar\": {\"outlinewidth\": 0, \"ticks\": \"\"}, \"colorscale\": [[0.0, \"#0d0887\"], [0.1111111111111111, \"#46039f\"], [0.2222222222222222, \"#7201a8\"], [0.3333333333333333, \"#9c179e\"], [0.4444444444444444, \"#bd3786\"], [0.5555555555555556, \"#d8576b\"], [0.6666666666666666, \"#ed7953\"], [0.7777777777777778, \"#fb9f3a\"], [0.8888888888888888, \"#fdca26\"], [1.0, \"#f0f921\"]], \"type\": \"histogram2d\"}], \"histogram2dcontour\": [{\"colorbar\": {\"outlinewidth\": 0, \"ticks\": \"\"}, \"colorscale\": [[0.0, \"#0d0887\"], [0.1111111111111111, \"#46039f\"], [0.2222222222222222, \"#7201a8\"], [0.3333333333333333, \"#9c179e\"], [0.4444444444444444, \"#bd3786\"], [0.5555555555555556, \"#d8576b\"], [0.6666666666666666, \"#ed7953\"], [0.7777777777777778, \"#fb9f3a\"], [0.8888888888888888, \"#fdca26\"], [1.0, \"#f0f921\"]], \"type\": \"histogram2dcontour\"}], \"mesh3d\": [{\"colorbar\": {\"outlinewidth\": 0, \"ticks\": \"\"}, \"type\": \"mesh3d\"}], \"parcoords\": [{\"line\": {\"colorbar\": {\"outlinewidth\": 0, \"ticks\": \"\"}}, \"type\": \"parcoords\"}], \"pie\": [{\"automargin\": true, \"type\": \"pie\"}], \"scatter\": [{\"marker\": {\"colorbar\": {\"outlinewidth\": 0, \"ticks\": \"\"}}, \"type\": \"scatter\"}], \"scatter3d\": [{\"line\": {\"colorbar\": {\"outlinewidth\": 0, \"ticks\": \"\"}}, \"marker\": {\"colorbar\": {\"outlinewidth\": 0, \"ticks\": \"\"}}, \"type\": \"scatter3d\"}], \"scattercarpet\": [{\"marker\": {\"colorbar\": {\"outlinewidth\": 0, \"ticks\": \"\"}}, \"type\": \"scattercarpet\"}], \"scattergeo\": [{\"marker\": {\"colorbar\": {\"outlinewidth\": 0, \"ticks\": \"\"}}, \"type\": \"scattergeo\"}], \"scattergl\": [{\"marker\": {\"colorbar\": {\"outlinewidth\": 0, \"ticks\": \"\"}}, \"type\": \"scattergl\"}], \"scattermapbox\": [{\"marker\": {\"colorbar\": {\"outlinewidth\": 0, \"ticks\": \"\"}}, \"type\": \"scattermapbox\"}], \"scatterpolar\": [{\"marker\": {\"colorbar\": {\"outlinewidth\": 0, \"ticks\": \"\"}}, \"type\": \"scatterpolar\"}], \"scatterpolargl\": [{\"marker\": {\"colorbar\": {\"outlinewidth\": 0, \"ticks\": \"\"}}, \"type\": \"scatterpolargl\"}], \"scatterternary\": [{\"marker\": {\"colorbar\": {\"outlinewidth\": 0, \"ticks\": \"\"}}, \"type\": \"scatterternary\"}], \"surface\": [{\"colorbar\": {\"outlinewidth\": 0, \"ticks\": \"\"}, \"colorscale\": [[0.0, \"#0d0887\"], [0.1111111111111111, \"#46039f\"], [0.2222222222222222, \"#7201a8\"], [0.3333333333333333, \"#9c179e\"], [0.4444444444444444, \"#bd3786\"], [0.5555555555555556, \"#d8576b\"], [0.6666666666666666, \"#ed7953\"], [0.7777777777777778, \"#fb9f3a\"], [0.8888888888888888, \"#fdca26\"], [1.0, \"#f0f921\"]], \"type\": \"surface\"}], \"table\": [{\"cells\": {\"fill\": {\"color\": \"#EBF0F8\"}, \"line\": {\"color\": \"white\"}}, \"header\": {\"fill\": {\"color\": \"#C8D4E3\"}, \"line\": {\"color\": \"white\"}}, \"type\": \"table\"}]}, \"layout\": {\"annotationdefaults\": {\"arrowcolor\": \"#2a3f5f\", \"arrowhead\": 0, \"arrowwidth\": 1}, \"coloraxis\": {\"colorbar\": {\"outlinewidth\": 0, \"ticks\": \"\"}}, \"colorscale\": {\"diverging\": [[0, \"#8e0152\"], [0.1, \"#c51b7d\"], [0.2, \"#de77ae\"], [0.3, \"#f1b6da\"], [0.4, \"#fde0ef\"], [0.5, \"#f7f7f7\"], [0.6, \"#e6f5d0\"], [0.7, \"#b8e186\"], [0.8, \"#7fbc41\"], [0.9, \"#4d9221\"], [1, \"#276419\"]], \"sequential\": [[0.0, \"#0d0887\"], [0.1111111111111111, \"#46039f\"], [0.2222222222222222, \"#7201a8\"], [0.3333333333333333, \"#9c179e\"], [0.4444444444444444, \"#bd3786\"], [0.5555555555555556, \"#d8576b\"], [0.6666666666666666, \"#ed7953\"], [0.7777777777777778, \"#fb9f3a\"], [0.8888888888888888, \"#fdca26\"], [1.0, \"#f0f921\"]], \"sequentialminus\": [[0.0, \"#0d0887\"], [0.1111111111111111, \"#46039f\"], [0.2222222222222222, \"#7201a8\"], [0.3333333333333333, \"#9c179e\"], [0.4444444444444444, \"#bd3786\"], [0.5555555555555556, \"#d8576b\"], [0.6666666666666666, \"#ed7953\"], [0.7777777777777778, \"#fb9f3a\"], [0.8888888888888888, \"#fdca26\"], [1.0, \"#f0f921\"]]}, \"colorway\": [\"#636efa\", \"#EF553B\", \"#00cc96\", \"#ab63fa\", \"#FFA15A\", \"#19d3f3\", \"#FF6692\", \"#B6E880\", \"#FF97FF\", \"#FECB52\"], \"font\": {\"color\": \"#2a3f5f\"}, \"geo\": {\"bgcolor\": \"white\", \"lakecolor\": \"white\", \"landcolor\": \"#E5ECF6\", \"showlakes\": true, \"showland\": true, \"subunitcolor\": \"white\"}, \"hoverlabel\": {\"align\": \"left\"}, \"hovermode\": \"closest\", \"mapbox\": {\"style\": \"light\"}, \"paper_bgcolor\": \"white\", \"plot_bgcolor\": \"#E5ECF6\", \"polar\": {\"angularaxis\": {\"gridcolor\": \"white\", \"linecolor\": \"white\", \"ticks\": \"\"}, \"bgcolor\": \"#E5ECF6\", \"radialaxis\": {\"gridcolor\": \"white\", \"linecolor\": \"white\", \"ticks\": \"\"}}, \"scene\": {\"xaxis\": {\"backgroundcolor\": \"#E5ECF6\", \"gridcolor\": \"white\", \"gridwidth\": 2, \"linecolor\": \"white\", \"showbackground\": true, \"ticks\": \"\", \"zerolinecolor\": \"white\"}, \"yaxis\": {\"backgroundcolor\": \"#E5ECF6\", \"gridcolor\": \"white\", \"gridwidth\": 2, \"linecolor\": \"white\", \"showbackground\": true, \"ticks\": \"\", \"zerolinecolor\": \"white\"}, \"zaxis\": {\"backgroundcolor\": \"#E5ECF6\", \"gridcolor\": \"white\", \"gridwidth\": 2, \"linecolor\": \"white\", \"showbackground\": true, \"ticks\": \"\", \"zerolinecolor\": \"white\"}}, \"shapedefaults\": {\"line\": {\"color\": \"#2a3f5f\"}}, \"ternary\": {\"aaxis\": {\"gridcolor\": \"white\", \"linecolor\": \"white\", \"ticks\": \"\"}, \"baxis\": {\"gridcolor\": \"white\", \"linecolor\": \"white\", \"ticks\": \"\"}, \"bgcolor\": \"#E5ECF6\", \"caxis\": {\"gridcolor\": \"white\", \"linecolor\": \"white\", \"ticks\": \"\"}}, \"title\": {\"x\": 0.05}, \"xaxis\": {\"automargin\": true, \"gridcolor\": \"white\", \"linecolor\": \"white\", \"ticks\": \"\", \"title\": {\"standoff\": 15}, \"zerolinecolor\": \"white\", \"zerolinewidth\": 2}, \"yaxis\": {\"automargin\": true, \"gridcolor\": \"white\", \"linecolor\": \"white\", \"ticks\": \"\", \"title\": {\"standoff\": 15}, \"zerolinecolor\": \"white\", \"zerolinewidth\": 2}}}, \"title\": {\"text\": \"Distribution of word counts within comments\"}, \"xaxis\": {\"title\": {\"text\": \"Word Count\"}}, \"yaxis\": {\"title\": {\"text\": \"Frequency\"}}},\n",
              "                        {\"responsive\": true}\n",
              "                    ).then(function(){\n",
              "                            \n",
              "var gd = document.getElementById('f5abd9b3-e89d-4cc4-a1e3-977d11c50864');\n",
              "var x = new MutationObserver(function (mutations, observer) {{\n",
              "        var display = window.getComputedStyle(gd).display;\n",
              "        if (!display || display === 'none') {{\n",
              "            console.log([gd, 'removed!']);\n",
              "            Plotly.purge(gd);\n",
              "            observer.disconnect();\n",
              "        }}\n",
              "}});\n",
              "\n",
              "// Listen for the removal of the full notebook cells\n",
              "var notebookContainer = gd.closest('#notebook-container');\n",
              "if (notebookContainer) {{\n",
              "    x.observe(notebookContainer, {childList: true});\n",
              "}}\n",
              "\n",
              "// Listen for the clearing of the current output cell\n",
              "var outputEl = gd.closest('.output');\n",
              "if (outputEl) {{\n",
              "    x.observe(outputEl, {childList: true});\n",
              "}}\n",
              "\n",
              "                        })\n",
              "                };\n",
              "                \n",
              "            </script>\n",
              "        </div>\n",
              "</body>\n",
              "</html>"
            ]
          },
          "metadata": {}
        }
      ],
      "source": [
        "import plotly.express as px\n",
        "import plotly.graph_objects as go\n",
        "\n",
        "fig = go.Figure()\n",
        "\n",
        "fig.add_trace(go.Histogram(\n",
        "    x=df_train[\"comment\"].str.len()\n",
        "))\n",
        "\n",
        "fig.update_layout(\n",
        "    title_text='Distribution of word counts within comments',\n",
        "    xaxis_title_text='Word Count',\n",
        "    yaxis_title_text='Frequency',\n",
        "    bargap=0.2,\n",
        "    bargroupgap=0.2)\n",
        "\n",
        "fig.show()"
      ]
    },
    {
      "cell_type": "markdown",
      "id": "baa9b468-2118-4b06-ad91-0d7174156b43",
      "metadata": {
        "id": "baa9b468-2118-4b06-ad91-0d7174156b43"
      },
      "source": [
        "### Unbalanced Data"
      ]
    },
    {
      "cell_type": "code",
      "execution_count": 51,
      "id": "55475ed5-32ae-4ace-a60a-907f4a836f1f",
      "metadata": {
        "colab": {
          "base_uri": "https://localhost:8080/",
          "height": 542
        },
        "id": "55475ed5-32ae-4ace-a60a-907f4a836f1f",
        "outputId": "e397acc7-d853-49a1-db65-a25de9beb243"
      },
      "outputs": [
        {
          "output_type": "display_data",
          "data": {
            "text/html": [
              "<html>\n",
              "<head><meta charset=\"utf-8\" /></head>\n",
              "<body>\n",
              "    <div>\n",
              "            <script src=\"https://cdnjs.cloudflare.com/ajax/libs/mathjax/2.7.5/MathJax.js?config=TeX-AMS-MML_SVG\"></script><script type=\"text/javascript\">if (window.MathJax) {MathJax.Hub.Config({SVG: {font: \"STIX-Web\"}});}</script>\n",
              "                <script type=\"text/javascript\">window.PlotlyConfig = {MathJaxConfig: 'local'};</script>\n",
              "        <script src=\"https://cdn.plot.ly/plotly-latest.min.js\"></script>    \n",
              "            <div id=\"1b5dacf4-37da-46df-bc40-fcf22077324f\" class=\"plotly-graph-div\" style=\"height:525px; width:100%;\"></div>\n",
              "            <script type=\"text/javascript\">\n",
              "                \n",
              "                    window.PLOTLYENV=window.PLOTLYENV || {};\n",
              "                    \n",
              "                if (document.getElementById(\"1b5dacf4-37da-46df-bc40-fcf22077324f\")) {\n",
              "                    Plotly.newPlot(\n",
              "                        '1b5dacf4-37da-46df-bc40-fcf22077324f',\n",
              "                        [{\"text\": [\"185\", \"280\", \"335\"], \"textposition\": \"auto\", \"type\": \"bar\", \"x\": [\"negative\", \"neutral\", \"positive\"], \"y\": [185, 280, 335]}],\n",
              "                        {\"bargap\": 0.2, \"bargroupgap\": 0.2, \"template\": {\"data\": {\"bar\": [{\"error_x\": {\"color\": \"#2a3f5f\"}, \"error_y\": {\"color\": \"#2a3f5f\"}, \"marker\": {\"line\": {\"color\": \"#E5ECF6\", \"width\": 0.5}}, \"type\": \"bar\"}], \"barpolar\": [{\"marker\": {\"line\": {\"color\": \"#E5ECF6\", \"width\": 0.5}}, \"type\": \"barpolar\"}], \"carpet\": [{\"aaxis\": {\"endlinecolor\": \"#2a3f5f\", \"gridcolor\": \"white\", \"linecolor\": \"white\", \"minorgridcolor\": \"white\", \"startlinecolor\": \"#2a3f5f\"}, \"baxis\": {\"endlinecolor\": \"#2a3f5f\", \"gridcolor\": \"white\", \"linecolor\": \"white\", \"minorgridcolor\": \"white\", \"startlinecolor\": \"#2a3f5f\"}, \"type\": \"carpet\"}], \"choropleth\": [{\"colorbar\": {\"outlinewidth\": 0, \"ticks\": \"\"}, \"type\": \"choropleth\"}], \"contour\": [{\"colorbar\": {\"outlinewidth\": 0, \"ticks\": \"\"}, \"colorscale\": [[0.0, \"#0d0887\"], [0.1111111111111111, \"#46039f\"], [0.2222222222222222, \"#7201a8\"], [0.3333333333333333, \"#9c179e\"], [0.4444444444444444, \"#bd3786\"], [0.5555555555555556, \"#d8576b\"], [0.6666666666666666, \"#ed7953\"], [0.7777777777777778, \"#fb9f3a\"], [0.8888888888888888, \"#fdca26\"], [1.0, \"#f0f921\"]], \"type\": \"contour\"}], \"contourcarpet\": [{\"colorbar\": {\"outlinewidth\": 0, \"ticks\": \"\"}, \"type\": \"contourcarpet\"}], \"heatmap\": [{\"colorbar\": {\"outlinewidth\": 0, \"ticks\": \"\"}, \"colorscale\": [[0.0, \"#0d0887\"], [0.1111111111111111, \"#46039f\"], [0.2222222222222222, \"#7201a8\"], [0.3333333333333333, \"#9c179e\"], [0.4444444444444444, \"#bd3786\"], [0.5555555555555556, \"#d8576b\"], [0.6666666666666666, \"#ed7953\"], [0.7777777777777778, \"#fb9f3a\"], [0.8888888888888888, \"#fdca26\"], [1.0, \"#f0f921\"]], \"type\": \"heatmap\"}], \"heatmapgl\": [{\"colorbar\": {\"outlinewidth\": 0, \"ticks\": \"\"}, \"colorscale\": [[0.0, \"#0d0887\"], [0.1111111111111111, \"#46039f\"], [0.2222222222222222, \"#7201a8\"], [0.3333333333333333, \"#9c179e\"], [0.4444444444444444, \"#bd3786\"], [0.5555555555555556, \"#d8576b\"], [0.6666666666666666, \"#ed7953\"], [0.7777777777777778, \"#fb9f3a\"], [0.8888888888888888, \"#fdca26\"], [1.0, \"#f0f921\"]], \"type\": \"heatmapgl\"}], \"histogram\": [{\"marker\": {\"colorbar\": {\"outlinewidth\": 0, \"ticks\": \"\"}}, \"type\": \"histogram\"}], \"histogram2d\": [{\"colorbar\": {\"outlinewidth\": 0, \"ticks\": \"\"}, \"colorscale\": [[0.0, \"#0d0887\"], [0.1111111111111111, \"#46039f\"], [0.2222222222222222, \"#7201a8\"], [0.3333333333333333, \"#9c179e\"], [0.4444444444444444, \"#bd3786\"], [0.5555555555555556, \"#d8576b\"], [0.6666666666666666, \"#ed7953\"], [0.7777777777777778, \"#fb9f3a\"], [0.8888888888888888, \"#fdca26\"], [1.0, \"#f0f921\"]], \"type\": \"histogram2d\"}], \"histogram2dcontour\": [{\"colorbar\": {\"outlinewidth\": 0, \"ticks\": \"\"}, \"colorscale\": [[0.0, \"#0d0887\"], [0.1111111111111111, \"#46039f\"], [0.2222222222222222, \"#7201a8\"], [0.3333333333333333, \"#9c179e\"], [0.4444444444444444, \"#bd3786\"], [0.5555555555555556, \"#d8576b\"], [0.6666666666666666, \"#ed7953\"], [0.7777777777777778, \"#fb9f3a\"], [0.8888888888888888, \"#fdca26\"], [1.0, \"#f0f921\"]], \"type\": \"histogram2dcontour\"}], \"mesh3d\": [{\"colorbar\": {\"outlinewidth\": 0, \"ticks\": \"\"}, \"type\": \"mesh3d\"}], \"parcoords\": [{\"line\": {\"colorbar\": {\"outlinewidth\": 0, \"ticks\": \"\"}}, \"type\": \"parcoords\"}], \"pie\": [{\"automargin\": true, \"type\": \"pie\"}], \"scatter\": [{\"marker\": {\"colorbar\": {\"outlinewidth\": 0, \"ticks\": \"\"}}, \"type\": \"scatter\"}], \"scatter3d\": [{\"line\": {\"colorbar\": {\"outlinewidth\": 0, \"ticks\": \"\"}}, \"marker\": {\"colorbar\": {\"outlinewidth\": 0, \"ticks\": \"\"}}, \"type\": \"scatter3d\"}], \"scattercarpet\": [{\"marker\": {\"colorbar\": {\"outlinewidth\": 0, \"ticks\": \"\"}}, \"type\": \"scattercarpet\"}], \"scattergeo\": [{\"marker\": {\"colorbar\": {\"outlinewidth\": 0, \"ticks\": \"\"}}, \"type\": \"scattergeo\"}], \"scattergl\": [{\"marker\": {\"colorbar\": {\"outlinewidth\": 0, \"ticks\": \"\"}}, \"type\": \"scattergl\"}], \"scattermapbox\": [{\"marker\": {\"colorbar\": {\"outlinewidth\": 0, \"ticks\": \"\"}}, \"type\": \"scattermapbox\"}], \"scatterpolar\": [{\"marker\": {\"colorbar\": {\"outlinewidth\": 0, \"ticks\": \"\"}}, \"type\": \"scatterpolar\"}], \"scatterpolargl\": [{\"marker\": {\"colorbar\": {\"outlinewidth\": 0, \"ticks\": \"\"}}, \"type\": \"scatterpolargl\"}], \"scatterternary\": [{\"marker\": {\"colorbar\": {\"outlinewidth\": 0, \"ticks\": \"\"}}, \"type\": \"scatterternary\"}], \"surface\": [{\"colorbar\": {\"outlinewidth\": 0, \"ticks\": \"\"}, \"colorscale\": [[0.0, \"#0d0887\"], [0.1111111111111111, \"#46039f\"], [0.2222222222222222, \"#7201a8\"], [0.3333333333333333, \"#9c179e\"], [0.4444444444444444, \"#bd3786\"], [0.5555555555555556, \"#d8576b\"], [0.6666666666666666, \"#ed7953\"], [0.7777777777777778, \"#fb9f3a\"], [0.8888888888888888, \"#fdca26\"], [1.0, \"#f0f921\"]], \"type\": \"surface\"}], \"table\": [{\"cells\": {\"fill\": {\"color\": \"#EBF0F8\"}, \"line\": {\"color\": \"white\"}}, \"header\": {\"fill\": {\"color\": \"#C8D4E3\"}, \"line\": {\"color\": \"white\"}}, \"type\": \"table\"}]}, \"layout\": {\"annotationdefaults\": {\"arrowcolor\": \"#2a3f5f\", \"arrowhead\": 0, \"arrowwidth\": 1}, \"coloraxis\": {\"colorbar\": {\"outlinewidth\": 0, \"ticks\": \"\"}}, \"colorscale\": {\"diverging\": [[0, \"#8e0152\"], [0.1, \"#c51b7d\"], [0.2, \"#de77ae\"], [0.3, \"#f1b6da\"], [0.4, \"#fde0ef\"], [0.5, \"#f7f7f7\"], [0.6, \"#e6f5d0\"], [0.7, \"#b8e186\"], [0.8, \"#7fbc41\"], [0.9, \"#4d9221\"], [1, \"#276419\"]], \"sequential\": [[0.0, \"#0d0887\"], [0.1111111111111111, \"#46039f\"], [0.2222222222222222, \"#7201a8\"], [0.3333333333333333, \"#9c179e\"], [0.4444444444444444, \"#bd3786\"], [0.5555555555555556, \"#d8576b\"], [0.6666666666666666, \"#ed7953\"], [0.7777777777777778, \"#fb9f3a\"], [0.8888888888888888, \"#fdca26\"], [1.0, \"#f0f921\"]], \"sequentialminus\": [[0.0, \"#0d0887\"], [0.1111111111111111, \"#46039f\"], [0.2222222222222222, \"#7201a8\"], [0.3333333333333333, \"#9c179e\"], [0.4444444444444444, \"#bd3786\"], [0.5555555555555556, \"#d8576b\"], [0.6666666666666666, \"#ed7953\"], [0.7777777777777778, \"#fb9f3a\"], [0.8888888888888888, \"#fdca26\"], [1.0, \"#f0f921\"]]}, \"colorway\": [\"#636efa\", \"#EF553B\", \"#00cc96\", \"#ab63fa\", \"#FFA15A\", \"#19d3f3\", \"#FF6692\", \"#B6E880\", \"#FF97FF\", \"#FECB52\"], \"font\": {\"color\": \"#2a3f5f\"}, \"geo\": {\"bgcolor\": \"white\", \"lakecolor\": \"white\", \"landcolor\": \"#E5ECF6\", \"showlakes\": true, \"showland\": true, \"subunitcolor\": \"white\"}, \"hoverlabel\": {\"align\": \"left\"}, \"hovermode\": \"closest\", \"mapbox\": {\"style\": \"light\"}, \"paper_bgcolor\": \"white\", \"plot_bgcolor\": \"#E5ECF6\", \"polar\": {\"angularaxis\": {\"gridcolor\": \"white\", \"linecolor\": \"white\", \"ticks\": \"\"}, \"bgcolor\": \"#E5ECF6\", \"radialaxis\": {\"gridcolor\": \"white\", \"linecolor\": \"white\", \"ticks\": \"\"}}, \"scene\": {\"xaxis\": {\"backgroundcolor\": \"#E5ECF6\", \"gridcolor\": \"white\", \"gridwidth\": 2, \"linecolor\": \"white\", \"showbackground\": true, \"ticks\": \"\", \"zerolinecolor\": \"white\"}, \"yaxis\": {\"backgroundcolor\": \"#E5ECF6\", \"gridcolor\": \"white\", \"gridwidth\": 2, \"linecolor\": \"white\", \"showbackground\": true, \"ticks\": \"\", \"zerolinecolor\": \"white\"}, \"zaxis\": {\"backgroundcolor\": \"#E5ECF6\", \"gridcolor\": \"white\", \"gridwidth\": 2, \"linecolor\": \"white\", \"showbackground\": true, \"ticks\": \"\", \"zerolinecolor\": \"white\"}}, \"shapedefaults\": {\"line\": {\"color\": \"#2a3f5f\"}}, \"ternary\": {\"aaxis\": {\"gridcolor\": \"white\", \"linecolor\": \"white\", \"ticks\": \"\"}, \"baxis\": {\"gridcolor\": \"white\", \"linecolor\": \"white\", \"ticks\": \"\"}, \"bgcolor\": \"#E5ECF6\", \"caxis\": {\"gridcolor\": \"white\", \"linecolor\": \"white\", \"ticks\": \"\"}}, \"title\": {\"x\": 0.05}, \"xaxis\": {\"automargin\": true, \"gridcolor\": \"white\", \"linecolor\": \"white\", \"ticks\": \"\", \"title\": {\"standoff\": 15}, \"zerolinecolor\": \"white\", \"zerolinewidth\": 2}, \"yaxis\": {\"automargin\": true, \"gridcolor\": \"white\", \"linecolor\": \"white\", \"ticks\": \"\", \"title\": {\"standoff\": 15}, \"zerolinecolor\": \"white\", \"zerolinewidth\": 2}}}, \"title\": {\"text\": \"Distribution of label within comments [DATA]\"}, \"xaxis\": {\"title\": {\"text\": \"Label\"}}, \"yaxis\": {\"title\": {\"text\": \"Frequency\"}}},\n",
              "                        {\"responsive\": true}\n",
              "                    ).then(function(){\n",
              "                            \n",
              "var gd = document.getElementById('1b5dacf4-37da-46df-bc40-fcf22077324f');\n",
              "var x = new MutationObserver(function (mutations, observer) {{\n",
              "        var display = window.getComputedStyle(gd).display;\n",
              "        if (!display || display === 'none') {{\n",
              "            console.log([gd, 'removed!']);\n",
              "            Plotly.purge(gd);\n",
              "            observer.disconnect();\n",
              "        }}\n",
              "}});\n",
              "\n",
              "// Listen for the removal of the full notebook cells\n",
              "var notebookContainer = gd.closest('#notebook-container');\n",
              "if (notebookContainer) {{\n",
              "    x.observe(notebookContainer, {childList: true});\n",
              "}}\n",
              "\n",
              "// Listen for the clearing of the current output cell\n",
              "var outputEl = gd.closest('.output');\n",
              "if (outputEl) {{\n",
              "    x.observe(outputEl, {childList: true});\n",
              "}}\n",
              "\n",
              "                        })\n",
              "                };\n",
              "                \n",
              "            </script>\n",
              "        </div>\n",
              "</body>\n",
              "</html>"
            ]
          },
          "metadata": {}
        }
      ],
      "source": [
        "fig = go.Figure()\n",
        "\n",
        "groupby_label = df_train.groupby('label')['label'].count()\n",
        "\n",
        "fig.add_trace(go.Bar(\n",
        "    x=list(sorted(groupby_label.index)),\n",
        "    y=groupby_label.tolist(),\n",
        "    text=groupby_label.tolist(),\n",
        "    textposition='auto'\n",
        "))\n",
        "\n",
        "fig.update_layout(\n",
        "    title_text='Distribution of label within comments [DATA]',\n",
        "    xaxis_title_text='Label',\n",
        "    yaxis_title_text='Frequency',\n",
        "    bargap=0.2,\n",
        "    bargroupgap=0.2)\n",
        "\n",
        "fig.show()"
      ]
    },
    {
      "cell_type": "markdown",
      "id": "4b0b1260-dffd-4702-a08e-cfeb4f4b0a0e",
      "metadata": {
        "id": "4b0b1260-dffd-4702-a08e-cfeb4f4b0a0e"
      },
      "source": [
        "### Balance Data"
      ]
    },
    {
      "cell_type": "code",
      "execution_count": 52,
      "id": "36cbab11-7c61-4bbf-9641-b7b54b1b136a",
      "metadata": {
        "colab": {
          "base_uri": "https://localhost:8080/"
        },
        "id": "36cbab11-7c61-4bbf-9641-b7b54b1b136a",
        "outputId": "8ded624a-869a-463e-8215-1319020bafbe"
      },
      "outputs": [
        {
          "output_type": "stream",
          "name": "stdout",
          "text": [
            "<class 'pandas.core.frame.DataFrame'>\n",
            "RangeIndex: 370 entries, 0 to 369\n",
            "Data columns (total 9 columns):\n",
            " #   Column                Non-Null Count  Dtype  \n",
            "---  ------                --------------  -----  \n",
            " 0   index                 370 non-null    int64  \n",
            " 1   comment               370 non-null    object \n",
            " 2   rate                  370 non-null    float64\n",
            " 3   clean_comment         370 non-null    object \n",
            " 4   no_stopwords_comment  370 non-null    object \n",
            " 5   no_enligh_comment     370 non-null    object \n",
            " 6   stemmed_version       370 non-null    object \n",
            " 7   lemmatized_version    370 non-null    object \n",
            " 8   label                 370 non-null    object \n",
            "dtypes: float64(1), int64(1), object(7)\n",
            "memory usage: 26.1+ KB\n"
          ]
        }
      ],
      "source": [
        "negative_data = df_train[df_train['label'] == 'negative']\n",
        "positive_data = df_train[df_train['label'] == 'positive']\n",
        "\n",
        "cutting_point = min(len(negative_data), len(positive_data))\n",
        "\n",
        "if cutting_point <= len(negative_data):\n",
        "    negative_data = negative_data.sample(n=cutting_point).reset_index(drop=True)\n",
        "\n",
        "if cutting_point <= len(positive_data):\n",
        "    positive_data = positive_data.sample(n=cutting_point).reset_index(drop=True)\n",
        "\n",
        "balanced_data = pd.concat([negative_data, positive_data])\n",
        "balanced_data = balanced_data.sample(frac=1).reset_index(drop=True)\n",
        "balanced_data.info()"
      ]
    },
    {
      "cell_type": "markdown",
      "id": "2e1890de-3f38-4d68-ae2b-f079c2377c59",
      "metadata": {
        "id": "2e1890de-3f38-4d68-ae2b-f079c2377c59"
      },
      "source": [
        "### After Making Balance"
      ]
    },
    {
      "cell_type": "code",
      "execution_count": 53,
      "id": "0f76e4b6-2ae1-4dd5-b85c-658b7ff5a72d",
      "metadata": {
        "colab": {
          "base_uri": "https://localhost:8080/",
          "height": 542
        },
        "id": "0f76e4b6-2ae1-4dd5-b85c-658b7ff5a72d",
        "outputId": "87d611c3-890a-478e-a74e-876bc17363b7"
      },
      "outputs": [
        {
          "output_type": "display_data",
          "data": {
            "text/html": [
              "<html>\n",
              "<head><meta charset=\"utf-8\" /></head>\n",
              "<body>\n",
              "    <div>\n",
              "            <script src=\"https://cdnjs.cloudflare.com/ajax/libs/mathjax/2.7.5/MathJax.js?config=TeX-AMS-MML_SVG\"></script><script type=\"text/javascript\">if (window.MathJax) {MathJax.Hub.Config({SVG: {font: \"STIX-Web\"}});}</script>\n",
              "                <script type=\"text/javascript\">window.PlotlyConfig = {MathJaxConfig: 'local'};</script>\n",
              "        <script src=\"https://cdn.plot.ly/plotly-latest.min.js\"></script>    \n",
              "            <div id=\"ff613c4a-9491-4cae-ba4b-a256123fc4d5\" class=\"plotly-graph-div\" style=\"height:525px; width:100%;\"></div>\n",
              "            <script type=\"text/javascript\">\n",
              "                \n",
              "                    window.PLOTLYENV=window.PLOTLYENV || {};\n",
              "                    \n",
              "                if (document.getElementById(\"ff613c4a-9491-4cae-ba4b-a256123fc4d5\")) {\n",
              "                    Plotly.newPlot(\n",
              "                        'ff613c4a-9491-4cae-ba4b-a256123fc4d5',\n",
              "                        [{\"text\": [\"185\", \"185\"], \"textposition\": \"auto\", \"type\": \"bar\", \"x\": [\"negative\", \"positive\"], \"y\": [185, 185]}],\n",
              "                        {\"bargap\": 0.2, \"bargroupgap\": 0.2, \"template\": {\"data\": {\"bar\": [{\"error_x\": {\"color\": \"#2a3f5f\"}, \"error_y\": {\"color\": \"#2a3f5f\"}, \"marker\": {\"line\": {\"color\": \"#E5ECF6\", \"width\": 0.5}}, \"type\": \"bar\"}], \"barpolar\": [{\"marker\": {\"line\": {\"color\": \"#E5ECF6\", \"width\": 0.5}}, \"type\": \"barpolar\"}], \"carpet\": [{\"aaxis\": {\"endlinecolor\": \"#2a3f5f\", \"gridcolor\": \"white\", \"linecolor\": \"white\", \"minorgridcolor\": \"white\", \"startlinecolor\": \"#2a3f5f\"}, \"baxis\": {\"endlinecolor\": \"#2a3f5f\", \"gridcolor\": \"white\", \"linecolor\": \"white\", \"minorgridcolor\": \"white\", \"startlinecolor\": \"#2a3f5f\"}, \"type\": \"carpet\"}], \"choropleth\": [{\"colorbar\": {\"outlinewidth\": 0, \"ticks\": \"\"}, \"type\": \"choropleth\"}], \"contour\": [{\"colorbar\": {\"outlinewidth\": 0, \"ticks\": \"\"}, \"colorscale\": [[0.0, \"#0d0887\"], [0.1111111111111111, \"#46039f\"], [0.2222222222222222, \"#7201a8\"], [0.3333333333333333, \"#9c179e\"], [0.4444444444444444, \"#bd3786\"], [0.5555555555555556, \"#d8576b\"], [0.6666666666666666, \"#ed7953\"], [0.7777777777777778, \"#fb9f3a\"], [0.8888888888888888, \"#fdca26\"], [1.0, \"#f0f921\"]], \"type\": \"contour\"}], \"contourcarpet\": [{\"colorbar\": {\"outlinewidth\": 0, \"ticks\": \"\"}, \"type\": \"contourcarpet\"}], \"heatmap\": [{\"colorbar\": {\"outlinewidth\": 0, \"ticks\": \"\"}, \"colorscale\": [[0.0, \"#0d0887\"], [0.1111111111111111, \"#46039f\"], [0.2222222222222222, \"#7201a8\"], [0.3333333333333333, \"#9c179e\"], [0.4444444444444444, \"#bd3786\"], [0.5555555555555556, \"#d8576b\"], [0.6666666666666666, \"#ed7953\"], [0.7777777777777778, \"#fb9f3a\"], [0.8888888888888888, \"#fdca26\"], [1.0, \"#f0f921\"]], \"type\": \"heatmap\"}], \"heatmapgl\": [{\"colorbar\": {\"outlinewidth\": 0, \"ticks\": \"\"}, \"colorscale\": [[0.0, \"#0d0887\"], [0.1111111111111111, \"#46039f\"], [0.2222222222222222, \"#7201a8\"], [0.3333333333333333, \"#9c179e\"], [0.4444444444444444, \"#bd3786\"], [0.5555555555555556, \"#d8576b\"], [0.6666666666666666, \"#ed7953\"], [0.7777777777777778, \"#fb9f3a\"], [0.8888888888888888, \"#fdca26\"], [1.0, \"#f0f921\"]], \"type\": \"heatmapgl\"}], \"histogram\": [{\"marker\": {\"colorbar\": {\"outlinewidth\": 0, \"ticks\": \"\"}}, \"type\": \"histogram\"}], \"histogram2d\": [{\"colorbar\": {\"outlinewidth\": 0, \"ticks\": \"\"}, \"colorscale\": [[0.0, \"#0d0887\"], [0.1111111111111111, \"#46039f\"], [0.2222222222222222, \"#7201a8\"], [0.3333333333333333, \"#9c179e\"], [0.4444444444444444, \"#bd3786\"], [0.5555555555555556, \"#d8576b\"], [0.6666666666666666, \"#ed7953\"], [0.7777777777777778, \"#fb9f3a\"], [0.8888888888888888, \"#fdca26\"], [1.0, \"#f0f921\"]], \"type\": \"histogram2d\"}], \"histogram2dcontour\": [{\"colorbar\": {\"outlinewidth\": 0, \"ticks\": \"\"}, \"colorscale\": [[0.0, \"#0d0887\"], [0.1111111111111111, \"#46039f\"], [0.2222222222222222, \"#7201a8\"], [0.3333333333333333, \"#9c179e\"], [0.4444444444444444, \"#bd3786\"], [0.5555555555555556, \"#d8576b\"], [0.6666666666666666, \"#ed7953\"], [0.7777777777777778, \"#fb9f3a\"], [0.8888888888888888, \"#fdca26\"], [1.0, \"#f0f921\"]], \"type\": \"histogram2dcontour\"}], \"mesh3d\": [{\"colorbar\": {\"outlinewidth\": 0, \"ticks\": \"\"}, \"type\": \"mesh3d\"}], \"parcoords\": [{\"line\": {\"colorbar\": {\"outlinewidth\": 0, \"ticks\": \"\"}}, \"type\": \"parcoords\"}], \"pie\": [{\"automargin\": true, \"type\": \"pie\"}], \"scatter\": [{\"marker\": {\"colorbar\": {\"outlinewidth\": 0, \"ticks\": \"\"}}, \"type\": \"scatter\"}], \"scatter3d\": [{\"line\": {\"colorbar\": {\"outlinewidth\": 0, \"ticks\": \"\"}}, \"marker\": {\"colorbar\": {\"outlinewidth\": 0, \"ticks\": \"\"}}, \"type\": \"scatter3d\"}], \"scattercarpet\": [{\"marker\": {\"colorbar\": {\"outlinewidth\": 0, \"ticks\": \"\"}}, \"type\": \"scattercarpet\"}], \"scattergeo\": [{\"marker\": {\"colorbar\": {\"outlinewidth\": 0, \"ticks\": \"\"}}, \"type\": \"scattergeo\"}], \"scattergl\": [{\"marker\": {\"colorbar\": {\"outlinewidth\": 0, \"ticks\": \"\"}}, \"type\": \"scattergl\"}], \"scattermapbox\": [{\"marker\": {\"colorbar\": {\"outlinewidth\": 0, \"ticks\": \"\"}}, \"type\": \"scattermapbox\"}], \"scatterpolar\": [{\"marker\": {\"colorbar\": {\"outlinewidth\": 0, \"ticks\": \"\"}}, \"type\": \"scatterpolar\"}], \"scatterpolargl\": [{\"marker\": {\"colorbar\": {\"outlinewidth\": 0, \"ticks\": \"\"}}, \"type\": \"scatterpolargl\"}], \"scatterternary\": [{\"marker\": {\"colorbar\": {\"outlinewidth\": 0, \"ticks\": \"\"}}, \"type\": \"scatterternary\"}], \"surface\": [{\"colorbar\": {\"outlinewidth\": 0, \"ticks\": \"\"}, \"colorscale\": [[0.0, \"#0d0887\"], [0.1111111111111111, \"#46039f\"], [0.2222222222222222, \"#7201a8\"], [0.3333333333333333, \"#9c179e\"], [0.4444444444444444, \"#bd3786\"], [0.5555555555555556, \"#d8576b\"], [0.6666666666666666, \"#ed7953\"], [0.7777777777777778, \"#fb9f3a\"], [0.8888888888888888, \"#fdca26\"], [1.0, \"#f0f921\"]], \"type\": \"surface\"}], \"table\": [{\"cells\": {\"fill\": {\"color\": \"#EBF0F8\"}, \"line\": {\"color\": \"white\"}}, \"header\": {\"fill\": {\"color\": \"#C8D4E3\"}, \"line\": {\"color\": \"white\"}}, \"type\": \"table\"}]}, \"layout\": {\"annotationdefaults\": {\"arrowcolor\": \"#2a3f5f\", \"arrowhead\": 0, \"arrowwidth\": 1}, \"coloraxis\": {\"colorbar\": {\"outlinewidth\": 0, \"ticks\": \"\"}}, \"colorscale\": {\"diverging\": [[0, \"#8e0152\"], [0.1, \"#c51b7d\"], [0.2, \"#de77ae\"], [0.3, \"#f1b6da\"], [0.4, \"#fde0ef\"], [0.5, \"#f7f7f7\"], [0.6, \"#e6f5d0\"], [0.7, \"#b8e186\"], [0.8, \"#7fbc41\"], [0.9, \"#4d9221\"], [1, \"#276419\"]], \"sequential\": [[0.0, \"#0d0887\"], [0.1111111111111111, \"#46039f\"], [0.2222222222222222, \"#7201a8\"], [0.3333333333333333, \"#9c179e\"], [0.4444444444444444, \"#bd3786\"], [0.5555555555555556, \"#d8576b\"], [0.6666666666666666, \"#ed7953\"], [0.7777777777777778, \"#fb9f3a\"], [0.8888888888888888, \"#fdca26\"], [1.0, \"#f0f921\"]], \"sequentialminus\": [[0.0, \"#0d0887\"], [0.1111111111111111, \"#46039f\"], [0.2222222222222222, \"#7201a8\"], [0.3333333333333333, \"#9c179e\"], [0.4444444444444444, \"#bd3786\"], [0.5555555555555556, \"#d8576b\"], [0.6666666666666666, \"#ed7953\"], [0.7777777777777778, \"#fb9f3a\"], [0.8888888888888888, \"#fdca26\"], [1.0, \"#f0f921\"]]}, \"colorway\": [\"#636efa\", \"#EF553B\", \"#00cc96\", \"#ab63fa\", \"#FFA15A\", \"#19d3f3\", \"#FF6692\", \"#B6E880\", \"#FF97FF\", \"#FECB52\"], \"font\": {\"color\": \"#2a3f5f\"}, \"geo\": {\"bgcolor\": \"white\", \"lakecolor\": \"white\", \"landcolor\": \"#E5ECF6\", \"showlakes\": true, \"showland\": true, \"subunitcolor\": \"white\"}, \"hoverlabel\": {\"align\": \"left\"}, \"hovermode\": \"closest\", \"mapbox\": {\"style\": \"light\"}, \"paper_bgcolor\": \"white\", \"plot_bgcolor\": \"#E5ECF6\", \"polar\": {\"angularaxis\": {\"gridcolor\": \"white\", \"linecolor\": \"white\", \"ticks\": \"\"}, \"bgcolor\": \"#E5ECF6\", \"radialaxis\": {\"gridcolor\": \"white\", \"linecolor\": \"white\", \"ticks\": \"\"}}, \"scene\": {\"xaxis\": {\"backgroundcolor\": \"#E5ECF6\", \"gridcolor\": \"white\", \"gridwidth\": 2, \"linecolor\": \"white\", \"showbackground\": true, \"ticks\": \"\", \"zerolinecolor\": \"white\"}, \"yaxis\": {\"backgroundcolor\": \"#E5ECF6\", \"gridcolor\": \"white\", \"gridwidth\": 2, \"linecolor\": \"white\", \"showbackground\": true, \"ticks\": \"\", \"zerolinecolor\": \"white\"}, \"zaxis\": {\"backgroundcolor\": \"#E5ECF6\", \"gridcolor\": \"white\", \"gridwidth\": 2, \"linecolor\": \"white\", \"showbackground\": true, \"ticks\": \"\", \"zerolinecolor\": \"white\"}}, \"shapedefaults\": {\"line\": {\"color\": \"#2a3f5f\"}}, \"ternary\": {\"aaxis\": {\"gridcolor\": \"white\", \"linecolor\": \"white\", \"ticks\": \"\"}, \"baxis\": {\"gridcolor\": \"white\", \"linecolor\": \"white\", \"ticks\": \"\"}, \"bgcolor\": \"#E5ECF6\", \"caxis\": {\"gridcolor\": \"white\", \"linecolor\": \"white\", \"ticks\": \"\"}}, \"title\": {\"x\": 0.05}, \"xaxis\": {\"automargin\": true, \"gridcolor\": \"white\", \"linecolor\": \"white\", \"ticks\": \"\", \"title\": {\"standoff\": 15}, \"zerolinecolor\": \"white\", \"zerolinewidth\": 2}, \"yaxis\": {\"automargin\": true, \"gridcolor\": \"white\", \"linecolor\": \"white\", \"ticks\": \"\", \"title\": {\"standoff\": 15}, \"zerolinecolor\": \"white\", \"zerolinewidth\": 2}}}, \"title\": {\"text\": \"Distribution of label within comments [DATA]\"}, \"xaxis\": {\"title\": {\"text\": \"Label\"}}, \"yaxis\": {\"title\": {\"text\": \"Frequency\"}}},\n",
              "                        {\"responsive\": true}\n",
              "                    ).then(function(){\n",
              "                            \n",
              "var gd = document.getElementById('ff613c4a-9491-4cae-ba4b-a256123fc4d5');\n",
              "var x = new MutationObserver(function (mutations, observer) {{\n",
              "        var display = window.getComputedStyle(gd).display;\n",
              "        if (!display || display === 'none') {{\n",
              "            console.log([gd, 'removed!']);\n",
              "            Plotly.purge(gd);\n",
              "            observer.disconnect();\n",
              "        }}\n",
              "}});\n",
              "\n",
              "// Listen for the removal of the full notebook cells\n",
              "var notebookContainer = gd.closest('#notebook-container');\n",
              "if (notebookContainer) {{\n",
              "    x.observe(notebookContainer, {childList: true});\n",
              "}}\n",
              "\n",
              "// Listen for the clearing of the current output cell\n",
              "var outputEl = gd.closest('.output');\n",
              "if (outputEl) {{\n",
              "    x.observe(outputEl, {childList: true});\n",
              "}}\n",
              "\n",
              "                        })\n",
              "                };\n",
              "                \n",
              "            </script>\n",
              "        </div>\n",
              "</body>\n",
              "</html>"
            ]
          },
          "metadata": {}
        }
      ],
      "source": [
        "fig = go.Figure()\n",
        "\n",
        "groupby_label = balanced_data.groupby('label')['label'].count()\n",
        "\n",
        "fig.add_trace(go.Bar(\n",
        "    x=list(sorted(groupby_label.index)),\n",
        "    y=groupby_label.tolist(),\n",
        "    text=groupby_label.tolist(),\n",
        "    textposition='auto'\n",
        "))\n",
        "\n",
        "fig.update_layout(\n",
        "    title_text='Distribution of label within comments [DATA]',\n",
        "    xaxis_title_text='Label',\n",
        "    yaxis_title_text='Frequency',\n",
        "    bargap=0.2,\n",
        "    bargroupgap=0.2)\n",
        "\n",
        "fig.show()"
      ]
    },
    {
      "cell_type": "markdown",
      "id": "f27724e0-5369-41c6-8097-2087ce477d9d",
      "metadata": {
        "id": "f27724e0-5369-41c6-8097-2087ce477d9d"
      },
      "source": [
        "## Final Dataframe"
      ]
    },
    {
      "cell_type": "code",
      "execution_count": 54,
      "id": "2682c121-dc90-4a98-bd69-bee21f9206d8",
      "metadata": {
        "colab": {
          "base_uri": "https://localhost:8080/",
          "height": 1000
        },
        "id": "2682c121-dc90-4a98-bd69-bee21f9206d8",
        "outputId": "d8bcc99c-4f71-487a-b0e0-e0961b0e4889"
      },
      "outputs": [
        {
          "output_type": "execute_result",
          "data": {
            "text/html": [
              "\n",
              "  <div id=\"df-d0d3ce2f-b2ca-4894-bb53-f9104cad148f\">\n",
              "    <div class=\"colab-df-container\">\n",
              "      <div>\n",
              "<style scoped>\n",
              "    .dataframe tbody tr th:only-of-type {\n",
              "        vertical-align: middle;\n",
              "    }\n",
              "\n",
              "    .dataframe tbody tr th {\n",
              "        vertical-align: top;\n",
              "    }\n",
              "\n",
              "    .dataframe thead th {\n",
              "        text-align: right;\n",
              "    }\n",
              "</style>\n",
              "<table border=\"1\" class=\"dataframe\">\n",
              "  <thead>\n",
              "    <tr style=\"text-align: right;\">\n",
              "      <th></th>\n",
              "      <th>index</th>\n",
              "      <th>comment</th>\n",
              "      <th>rate</th>\n",
              "      <th>clean_comment</th>\n",
              "      <th>no_stopwords_comment</th>\n",
              "      <th>no_enligh_comment</th>\n",
              "      <th>stemmed_version</th>\n",
              "      <th>lemmatized_version</th>\n",
              "      <th>label</th>\n",
              "    </tr>\n",
              "  </thead>\n",
              "  <tbody>\n",
              "    <tr>\n",
              "      <th>0</th>\n",
              "      <td>2587</td>\n",
              "      <td>پردازنده های Core i5 و Core i3 نیز ذاتا دو هست...</td>\n",
              "      <td>0.0</td>\n",
              "      <td>[پردازنده, های, Core, i5, و, Core, i3, نیز, ذا...</td>\n",
              "      <td>[پردازنده, های, Core, i5, Core, i3, ذاتا, هسته...</td>\n",
              "      <td>[پردازنده, های, 5, و, 3, نیز, ذاتا, دو, هسته, ...</td>\n",
              "      <td>[پردازنده, , Core, i5, و, Core, i3, نیز, ذاتا,...</td>\n",
              "      <td>[پردازنده, های, Core, i5, و, Core, i3, نیز, ذا...</td>\n",
              "      <td>neutral</td>\n",
              "    </tr>\n",
              "    <tr>\n",
              "      <th>1</th>\n",
              "      <td>22591</td>\n",
              "      <td>سلام به دوستای عزیزم \\r\\nعزاداری هاتون قبول باشه</td>\n",
              "      <td>1.0</td>\n",
              "      <td>[سلام, به, دوستای, عزیزم, عزاداری, هاتون, قبول...</td>\n",
              "      <td>[سلام, دوستای, عزیزم, عزاداری, هاتون, قبول, باشه]</td>\n",
              "      <td>[سلام, به, دوستای, عزیزم, عزاداری, هاتون, قبول...</td>\n",
              "      <td>[سلا, به, دوستا, عزیز, عزادار, هاتون, قبول, باشه]</td>\n",
              "      <td>[سلام, به, دوستای, عزیز, عزادار, هاتون, قبول, ...</td>\n",
              "      <td>positive</td>\n",
              "    </tr>\n",
              "    <tr>\n",
              "      <th>2</th>\n",
              "      <td>141037</td>\n",
              "      <td>کلا پولتون رو دور نریزیزد</td>\n",
              "      <td>-1.0</td>\n",
              "      <td>[کلا, پولتون, رو, دور, نریزیزد]</td>\n",
              "      <td>[کلا, پولتون, نریزیزد]</td>\n",
              "      <td>[کلا, پولتون, رو, دور, نریزیزد]</td>\n",
              "      <td>[کلا, پولتون, رو, دور, نریزیزد]</td>\n",
              "      <td>[کلا, پولتون, رو, دور, نریزیزد]</td>\n",
              "      <td>negative</td>\n",
              "    </tr>\n",
              "    <tr>\n",
              "      <th>3</th>\n",
              "      <td>58593</td>\n",
              "      <td>از صمیم قلب امیدوارم دایانا با کارن بمونه و پو...</td>\n",
              "      <td>1.0</td>\n",
              "      <td>[از, صمیم, قلب, امیدوارم, دایانا, با, کارن, بم...</td>\n",
              "      <td>[صمیم, قلب, امیدوارم, دایانا, کارن, بمونه, پور...</td>\n",
              "      <td>[از, صمیم, قلب, امیدوارم, دایانا, با, کارن, بم...</td>\n",
              "      <td>[از, صم, قلب, امیدوار, دایانا, با, کارن, بمونه...</td>\n",
              "      <td>[از, صمیم, قلب, امیدوار, دایانا, با, کارن, بمو...</td>\n",
              "      <td>positive</td>\n",
              "    </tr>\n",
              "    <tr>\n",
              "      <th>4</th>\n",
              "      <td>5712</td>\n",
              "      <td>آنطور که اپل ادعا می کند آیپاد شافل دارای طراح...</td>\n",
              "      <td>1.0</td>\n",
              "      <td>[آنطور, که, اپل, ادعا, می, کند, آیپاد, شافل, د...</td>\n",
              "      <td>[آنطور, اپل, ادعا, آیپاد, شافل, طراحی, العاده,...</td>\n",
              "      <td>[آنطور, که, اپل, ادعا, می, کند, آیپاد, شافل, د...</td>\n",
              "      <td>[آنطور, که, اپل, ادعا, م, کند, آیپاد, شافل, دا...</td>\n",
              "      <td>[آنطور, که, اپل, ادعا, می, کند, آیپاد, شافل, د...</td>\n",
              "      <td>positive</td>\n",
              "    </tr>\n",
              "    <tr>\n",
              "      <th>...</th>\n",
              "      <td>...</td>\n",
              "      <td>...</td>\n",
              "      <td>...</td>\n",
              "      <td>...</td>\n",
              "      <td>...</td>\n",
              "      <td>...</td>\n",
              "      <td>...</td>\n",
              "      <td>...</td>\n",
              "      <td>...</td>\n",
              "    </tr>\n",
              "    <tr>\n",
              "      <th>795</th>\n",
              "      <td>6115</td>\n",
              "      <td>به هر صورت همانند دیگر دوربین‌های سونی سایبرشا...</td>\n",
              "      <td>1.0</td>\n",
              "      <td>[به, هر, صورت, همانند, دیگر, دوربینهای, سونی, ...</td>\n",
              "      <td>[صورت, همانند, دوربینهای, سونی, سایبرشات, HX, ...</td>\n",
              "      <td>[به, هر, صورت, همانند, دیگر, دوربینهای, سونی, ...</td>\n",
              "      <td>[به, هر, صور, همانند, دیگر, دوربین, سون, سایبر...</td>\n",
              "      <td>[به, هر, صورت, همانند, دیگر, دوربین, سون, سایب...</td>\n",
              "      <td>positive</td>\n",
              "    </tr>\n",
              "    <tr>\n",
              "      <th>796</th>\n",
              "      <td>5766</td>\n",
              "      <td>این دقیقا همان مقداریست که از دوربین یک گوشی ب...</td>\n",
              "      <td>0.0</td>\n",
              "      <td>[این, دقیقا, همان, مقداریست, که, از, دوربین, ی...</td>\n",
              "      <td>[دقیقا, مقداریست, دوربین, گوشی, پردازندهی, تک,...</td>\n",
              "      <td>[این, دقیقا, همان, مقداریست, که, از, دوربین, ی...</td>\n",
              "      <td>[این, دقیقا, ه, مقداریس, که, از, دوربین, یک, گ...</td>\n",
              "      <td>[این, دقیقا, همان, مقداریست, که, از, دوربین, ی...</td>\n",
              "      <td>neutral</td>\n",
              "    </tr>\n",
              "    <tr>\n",
              "      <th>797</th>\n",
              "      <td>62772</td>\n",
              "      <td>خیار تازه نبود و سیب زرد لک داشت</td>\n",
              "      <td>-1.0</td>\n",
              "      <td>[خیار, تازه, نبود, و, سیب, زرد, لک, داشت]</td>\n",
              "      <td>[خیار, تازه, سیب, زرد, لک]</td>\n",
              "      <td>[خیار, تازه, نبود, و, سیب, زرد, لک, داشت]</td>\n",
              "      <td>[خیار, تازه, نبود, و, سیب, زرد, لک, دا]</td>\n",
              "      <td>[خیار, تازه, نبود, و, سیب, زرد, لک, داشت]</td>\n",
              "      <td>negative</td>\n",
              "    </tr>\n",
              "    <tr>\n",
              "      <th>798</th>\n",
              "      <td>18359</td>\n",
              "      <td>کیفیت مزه و ارسال بینظیر</td>\n",
              "      <td>-1.0</td>\n",
              "      <td>[کیفیت, مزه, و, ارسال, بینظیر]</td>\n",
              "      <td>[کیفیت, مزه, ارسال, بینظیر]</td>\n",
              "      <td>[کیفیت, مزه, و, ارسال, بینظیر]</td>\n",
              "      <td>[کیف, مزه, و, ارسال, بینظیر]</td>\n",
              "      <td>[کیفیت, مزه, و, ارسال, بینظیر]</td>\n",
              "      <td>negative</td>\n",
              "    </tr>\n",
              "    <tr>\n",
              "      <th>799</th>\n",
              "      <td>4448</td>\n",
              "      <td>دانمارکی تازه بود اما شیرینی‌تر با اینکه من تا...</td>\n",
              "      <td>1.0</td>\n",
              "      <td>[دانمارکی, تازه, بود, اما, شیرینیتر, با, اینکه...</td>\n",
              "      <td>[دانمارکی, تازه, شیرینیتر, تاکید, تنوع, نداشت,...</td>\n",
              "      <td>[دانمارکی, تازه, بود, اما, شیرینیتر, با, اینکه...</td>\n",
              "      <td>[دانمارک, تازه, بود, اما, شیرین, با, اینکه, من...</td>\n",
              "      <td>[دانمارکی, تازه, بود, اما, شیرین, با, اینکه, م...</td>\n",
              "      <td>positive</td>\n",
              "    </tr>\n",
              "  </tbody>\n",
              "</table>\n",
              "<p>800 rows × 9 columns</p>\n",
              "</div>\n",
              "      <button class=\"colab-df-convert\" onclick=\"convertToInteractive('df-d0d3ce2f-b2ca-4894-bb53-f9104cad148f')\"\n",
              "              title=\"Convert this dataframe to an interactive table.\"\n",
              "              style=\"display:none;\">\n",
              "        \n",
              "  <svg xmlns=\"http://www.w3.org/2000/svg\" height=\"24px\"viewBox=\"0 0 24 24\"\n",
              "       width=\"24px\">\n",
              "    <path d=\"M0 0h24v24H0V0z\" fill=\"none\"/>\n",
              "    <path d=\"M18.56 5.44l.94 2.06.94-2.06 2.06-.94-2.06-.94-.94-2.06-.94 2.06-2.06.94zm-11 1L8.5 8.5l.94-2.06 2.06-.94-2.06-.94L8.5 2.5l-.94 2.06-2.06.94zm10 10l.94 2.06.94-2.06 2.06-.94-2.06-.94-.94-2.06-.94 2.06-2.06.94z\"/><path d=\"M17.41 7.96l-1.37-1.37c-.4-.4-.92-.59-1.43-.59-.52 0-1.04.2-1.43.59L10.3 9.45l-7.72 7.72c-.78.78-.78 2.05 0 2.83L4 21.41c.39.39.9.59 1.41.59.51 0 1.02-.2 1.41-.59l7.78-7.78 2.81-2.81c.8-.78.8-2.07 0-2.86zM5.41 20L4 18.59l7.72-7.72 1.47 1.35L5.41 20z\"/>\n",
              "  </svg>\n",
              "      </button>\n",
              "      \n",
              "  <style>\n",
              "    .colab-df-container {\n",
              "      display:flex;\n",
              "      flex-wrap:wrap;\n",
              "      gap: 12px;\n",
              "    }\n",
              "\n",
              "    .colab-df-convert {\n",
              "      background-color: #E8F0FE;\n",
              "      border: none;\n",
              "      border-radius: 50%;\n",
              "      cursor: pointer;\n",
              "      display: none;\n",
              "      fill: #1967D2;\n",
              "      height: 32px;\n",
              "      padding: 0 0 0 0;\n",
              "      width: 32px;\n",
              "    }\n",
              "\n",
              "    .colab-df-convert:hover {\n",
              "      background-color: #E2EBFA;\n",
              "      box-shadow: 0px 1px 2px rgba(60, 64, 67, 0.3), 0px 1px 3px 1px rgba(60, 64, 67, 0.15);\n",
              "      fill: #174EA6;\n",
              "    }\n",
              "\n",
              "    [theme=dark] .colab-df-convert {\n",
              "      background-color: #3B4455;\n",
              "      fill: #D2E3FC;\n",
              "    }\n",
              "\n",
              "    [theme=dark] .colab-df-convert:hover {\n",
              "      background-color: #434B5C;\n",
              "      box-shadow: 0px 1px 3px 1px rgba(0, 0, 0, 0.15);\n",
              "      filter: drop-shadow(0px 1px 2px rgba(0, 0, 0, 0.3));\n",
              "      fill: #FFFFFF;\n",
              "    }\n",
              "  </style>\n",
              "\n",
              "      <script>\n",
              "        const buttonEl =\n",
              "          document.querySelector('#df-d0d3ce2f-b2ca-4894-bb53-f9104cad148f button.colab-df-convert');\n",
              "        buttonEl.style.display =\n",
              "          google.colab.kernel.accessAllowed ? 'block' : 'none';\n",
              "\n",
              "        async function convertToInteractive(key) {\n",
              "          const element = document.querySelector('#df-d0d3ce2f-b2ca-4894-bb53-f9104cad148f');\n",
              "          const dataTable =\n",
              "            await google.colab.kernel.invokeFunction('convertToInteractive',\n",
              "                                                     [key], {});\n",
              "          if (!dataTable) return;\n",
              "\n",
              "          const docLinkHtml = 'Like what you see? Visit the ' +\n",
              "            '<a target=\"_blank\" href=https://colab.research.google.com/notebooks/data_table.ipynb>data table notebook</a>'\n",
              "            + ' to learn more about interactive tables.';\n",
              "          element.innerHTML = '';\n",
              "          dataTable['output_type'] = 'display_data';\n",
              "          await google.colab.output.renderOutput(dataTable, element);\n",
              "          const docLink = document.createElement('div');\n",
              "          docLink.innerHTML = docLinkHtml;\n",
              "          element.appendChild(docLink);\n",
              "        }\n",
              "      </script>\n",
              "    </div>\n",
              "  </div>\n",
              "  "
            ],
            "text/plain": [
              "      index  ...     label\n",
              "0      2587  ...   neutral\n",
              "1     22591  ...  positive\n",
              "2    141037  ...  negative\n",
              "3     58593  ...  positive\n",
              "4      5712  ...  positive\n",
              "..      ...  ...       ...\n",
              "795    6115  ...  positive\n",
              "796    5766  ...   neutral\n",
              "797   62772  ...  negative\n",
              "798   18359  ...  negative\n",
              "799    4448  ...  positive\n",
              "\n",
              "[800 rows x 9 columns]"
            ]
          },
          "metadata": {},
          "execution_count": 54
        }
      ],
      "source": [
        "df_train"
      ]
    },
    {
      "cell_type": "code",
      "execution_count": 55,
      "id": "bd2337f5-f0e3-43cf-8af4-9bf469346b53",
      "metadata": {
        "colab": {
          "base_uri": "https://localhost:8080/",
          "height": 1000
        },
        "id": "bd2337f5-f0e3-43cf-8af4-9bf469346b53",
        "outputId": "34fe87be-a3b0-4b4a-9e78-ef5ff2be8e61"
      },
      "outputs": [
        {
          "output_type": "execute_result",
          "data": {
            "text/html": [
              "\n",
              "  <div id=\"df-f08ebc1b-5cc7-464a-afcd-7d7e4702bd08\">\n",
              "    <div class=\"colab-df-container\">\n",
              "      <div>\n",
              "<style scoped>\n",
              "    .dataframe tbody tr th:only-of-type {\n",
              "        vertical-align: middle;\n",
              "    }\n",
              "\n",
              "    .dataframe tbody tr th {\n",
              "        vertical-align: top;\n",
              "    }\n",
              "\n",
              "    .dataframe thead th {\n",
              "        text-align: right;\n",
              "    }\n",
              "</style>\n",
              "<table border=\"1\" class=\"dataframe\">\n",
              "  <thead>\n",
              "    <tr style=\"text-align: right;\">\n",
              "      <th></th>\n",
              "      <th>index</th>\n",
              "      <th>comment</th>\n",
              "      <th>rate</th>\n",
              "      <th>clean_comment</th>\n",
              "      <th>no_stopwords_comment</th>\n",
              "      <th>no_enligh_comment</th>\n",
              "      <th>stemmed_version</th>\n",
              "      <th>lemmatized_version</th>\n",
              "      <th>label</th>\n",
              "    </tr>\n",
              "  </thead>\n",
              "  <tbody>\n",
              "    <tr>\n",
              "      <th>0</th>\n",
              "      <td>61591</td>\n",
              "      <td>کیفیت غذا و زمان رسیدن عالی بود</td>\n",
              "      <td>-1.0</td>\n",
              "      <td>[کیفیت, غذا, و, زمان, رسیدن, عالی, بود]</td>\n",
              "      <td>[کیفیت, غذا, زمان]</td>\n",
              "      <td>[کیفیت, غذا, و, زمان, رسیدن, عالی, بود]</td>\n",
              "      <td>[کیف, غذا, و, ز, رسیدن, عال, بود]</td>\n",
              "      <td>[کیفیت, غذا, و, زمان, رسیدن, عالی, بود]</td>\n",
              "      <td>negative</td>\n",
              "    </tr>\n",
              "    <tr>\n",
              "      <th>1</th>\n",
              "      <td>50299</td>\n",
              "      <td>در‌ حد ساندویچ یه نفره بود نه دونفره یا بمب. ک...</td>\n",
              "      <td>1.0</td>\n",
              "      <td>[در, حد, ساندویچ, یه, نفره, بود, نه, دونفره, ی...</td>\n",
              "      <td>[ساندویچ, یه, نفره, دونفره, بمب, کیفیت, معمولی...</td>\n",
              "      <td>[در, حد, ساندویچ, یه, نفره, بود, نه, دونفره, ی...</td>\n",
              "      <td>[در, حد, ساندویچ, یه, نفره, بود, نه, دونفره, ی...</td>\n",
              "      <td>[در, حد, ساندویچ, یه, نفره, بود, نه, دونفره, ی...</td>\n",
              "      <td>positive</td>\n",
              "    </tr>\n",
              "    <tr>\n",
              "      <th>2</th>\n",
              "      <td>2777</td>\n",
              "      <td>طعم پیتزای چهار فصل مثل همشه خیلی خوب بود اما ...</td>\n",
              "      <td>-1.0</td>\n",
              "      <td>[طعم, پیتزای, چهار, فصل, مثل, همشه, خیلی, خوب,...</td>\n",
              "      <td>[طعم, پیتزای, فصل, همشه, سیب, زمینی, پنیر, اصلا]</td>\n",
              "      <td>[طعم, پیتزای, چهار, فصل, مثل, همشه, خیلی, خوب,...</td>\n",
              "      <td>[طع, پیتزا, چهار, فصل, مثل, همشه, خیل, خوب, بو...</td>\n",
              "      <td>[طعم, پیتزا, چهار, فصل, مثل, همشه, خیلی, خوب, ...</td>\n",
              "      <td>negative</td>\n",
              "    </tr>\n",
              "    <tr>\n",
              "      <th>3</th>\n",
              "      <td>9126</td>\n",
              "      <td>مشخصات سخت افزاری مناسب در کنار سیستم عامل وین...</td>\n",
              "      <td>0.5</td>\n",
              "      <td>[مشخصات, سخت, افزاری, مناسب, در, کنار, سیستم, ...</td>\n",
              "      <td>[مشخصات, سخت, افزاری, سیستم, عامل, ویندوز, گوش...</td>\n",
              "      <td>[مشخصات, سخت, افزاری, مناسب, در, کنار, سیستم, ...</td>\n",
              "      <td>[مشخص, سخ, افزار, مناسب, در, کنار, سیس, عامل, ...</td>\n",
              "      <td>[مشخصات, سخت, افزار, مناسب, در, کنار, سیستم, ع...</td>\n",
              "      <td>neutral</td>\n",
              "    </tr>\n",
              "    <tr>\n",
              "      <th>4</th>\n",
              "      <td>7544</td>\n",
              "      <td>مرغش سوخاری و خوشمزه بود، بسته بندی عالی، قیمت...</td>\n",
              "      <td>-1.0</td>\n",
              "      <td>[مرغش, سوخاری, و, خوشمزه, بود, بسته, بندی, عال...</td>\n",
              "      <td>[مرغش, سوخاری, خوشمزه, بسته, قیمت, سرعت, ارسال]</td>\n",
              "      <td>[مرغش, سوخاری, و, خوشمزه, بود, بسته, بندی, عال...</td>\n",
              "      <td>[مرغ, سوخار, و, خوشمزه, بود, بسته, بند, عال, ق...</td>\n",
              "      <td>[مرغ, سوخاری, و, خوشمزه, بود, بسته, بندی, عالی...</td>\n",
              "      <td>negative</td>\n",
              "    </tr>\n",
              "    <tr>\n",
              "      <th>...</th>\n",
              "      <td>...</td>\n",
              "      <td>...</td>\n",
              "      <td>...</td>\n",
              "      <td>...</td>\n",
              "      <td>...</td>\n",
              "      <td>...</td>\n",
              "      <td>...</td>\n",
              "      <td>...</td>\n",
              "      <td>...</td>\n",
              "    </tr>\n",
              "    <tr>\n",
              "      <th>195</th>\n",
              "      <td>3939</td>\n",
              "      <td>خود کتاب داستان جذابی نداشت و ترجمه جلال کار ر...</td>\n",
              "      <td>-0.6</td>\n",
              "      <td>[خود, کتاب, داستان, جذابی, نداشت, و, ترجمه, جل...</td>\n",
              "      <td>[کتاب, داستان, جذابی, نداشت, ترجمه, جلال, کار,...</td>\n",
              "      <td>[خود, کتاب, داستان, جذابی, نداشت, و, ترجمه, جل...</td>\n",
              "      <td>[خود, کتاب, داس, جذاب, ندا, و, ترجمه, جلال, کا...</td>\n",
              "      <td>[خود, کتاب, داستان, جذاب, نداشت, و, ترجمه, جلا...</td>\n",
              "      <td>negative</td>\n",
              "    </tr>\n",
              "    <tr>\n",
              "      <th>196</th>\n",
              "      <td>44573</td>\n",
              "      <td>زرشک پلو به شدت شور بود. یعنی شور بودا …. فک ک...</td>\n",
              "      <td>1.0</td>\n",
              "      <td>[زرشک, پلو, به, شدت, شور, بود, یعنی, شور, بودا...</td>\n",
              "      <td>[زرشک, پلو, شدت, شور, شور, بودا, فک, یه, ملاقه...</td>\n",
              "      <td>[زرشک, پلو, به, شدت, شور, بود, یعنی, شور, بودا...</td>\n",
              "      <td>[زرشک, پلو, به, شد, شور, بود, یعن, شور, بودا, ...</td>\n",
              "      <td>[زرشک, پلو, به, شدت, شور, بود, یعنی, شور, بودا...</td>\n",
              "      <td>positive</td>\n",
              "    </tr>\n",
              "    <tr>\n",
              "      <th>197</th>\n",
              "      <td>8871</td>\n",
              "      <td>دوربین دوربین 5 مگاپیکسلی iSight با لنز F2.4 و...</td>\n",
              "      <td>1.0</td>\n",
              "      <td>[دوربین, دوربین, مگاپیکسلی, iSight, با, لنز, F...</td>\n",
              "      <td>[دوربین, دوربین, مگاپیکسلی, iSight, لنز, F, سن...</td>\n",
              "      <td>[دوربین, دوربین, مگاپیکسلی, با, لنز, و, سنسور,...</td>\n",
              "      <td>[دوربین, دوربین, مگاپیکسل, iSight, با, لنز, F,...</td>\n",
              "      <td>[دوربین, دوربین, مگاپیکسلی, iSight, با, لنز, F...</td>\n",
              "      <td>positive</td>\n",
              "    </tr>\n",
              "    <tr>\n",
              "      <th>198</th>\n",
              "      <td>3837</td>\n",
              "      <td>من بالاخره اين گوشيو مي خرم قيمتشم برام مهم نيست.</td>\n",
              "      <td>0.5</td>\n",
              "      <td>[من, بالاخره, اين, گوشيو, مي, خرم, قيمتشم, برا...</td>\n",
              "      <td>[بالاخره, اين, گوشيو, مي, خرم, قيمتشم, برام, ن...</td>\n",
              "      <td>[من, بالاخره, اين, گوشيو, مي, خرم, قيمتشم, برا...</td>\n",
              "      <td>[من, بالاخره, اين, گوشيو, مي, خر, قيمت, برا, م...</td>\n",
              "      <td>[من, بالاخره, اين, گوشيو, مي, خرم, قيمتشم, برا...</td>\n",
              "      <td>neutral</td>\n",
              "    </tr>\n",
              "    <tr>\n",
              "      <th>199</th>\n",
              "      <td>6478</td>\n",
              "      <td>باید هنگام تمرکز ذهن خیلی دقیق بود چون در همون...</td>\n",
              "      <td>1.0</td>\n",
              "      <td>[باید, هنگام, تمرکز, ذهن, خیلی, دقیق, بود, چون...</td>\n",
              "      <td>[تمرکز, ذهن, دقیق, همون, لحظه, وسوسه, حواس, پر...</td>\n",
              "      <td>[باید, هنگام, تمرکز, ذهن, خیلی, دقیق, بود, چون...</td>\n",
              "      <td>[باید, هنگا, تمرکز, ذهن, خیل, دقیق, بود, چون, ...</td>\n",
              "      <td>[باید, هنگام, تمرکز, ذهن, خیلی, دقیق, بود, چون...</td>\n",
              "      <td>positive</td>\n",
              "    </tr>\n",
              "  </tbody>\n",
              "</table>\n",
              "<p>200 rows × 9 columns</p>\n",
              "</div>\n",
              "      <button class=\"colab-df-convert\" onclick=\"convertToInteractive('df-f08ebc1b-5cc7-464a-afcd-7d7e4702bd08')\"\n",
              "              title=\"Convert this dataframe to an interactive table.\"\n",
              "              style=\"display:none;\">\n",
              "        \n",
              "  <svg xmlns=\"http://www.w3.org/2000/svg\" height=\"24px\"viewBox=\"0 0 24 24\"\n",
              "       width=\"24px\">\n",
              "    <path d=\"M0 0h24v24H0V0z\" fill=\"none\"/>\n",
              "    <path d=\"M18.56 5.44l.94 2.06.94-2.06 2.06-.94-2.06-.94-.94-2.06-.94 2.06-2.06.94zm-11 1L8.5 8.5l.94-2.06 2.06-.94-2.06-.94L8.5 2.5l-.94 2.06-2.06.94zm10 10l.94 2.06.94-2.06 2.06-.94-2.06-.94-.94-2.06-.94 2.06-2.06.94z\"/><path d=\"M17.41 7.96l-1.37-1.37c-.4-.4-.92-.59-1.43-.59-.52 0-1.04.2-1.43.59L10.3 9.45l-7.72 7.72c-.78.78-.78 2.05 0 2.83L4 21.41c.39.39.9.59 1.41.59.51 0 1.02-.2 1.41-.59l7.78-7.78 2.81-2.81c.8-.78.8-2.07 0-2.86zM5.41 20L4 18.59l7.72-7.72 1.47 1.35L5.41 20z\"/>\n",
              "  </svg>\n",
              "      </button>\n",
              "      \n",
              "  <style>\n",
              "    .colab-df-container {\n",
              "      display:flex;\n",
              "      flex-wrap:wrap;\n",
              "      gap: 12px;\n",
              "    }\n",
              "\n",
              "    .colab-df-convert {\n",
              "      background-color: #E8F0FE;\n",
              "      border: none;\n",
              "      border-radius: 50%;\n",
              "      cursor: pointer;\n",
              "      display: none;\n",
              "      fill: #1967D2;\n",
              "      height: 32px;\n",
              "      padding: 0 0 0 0;\n",
              "      width: 32px;\n",
              "    }\n",
              "\n",
              "    .colab-df-convert:hover {\n",
              "      background-color: #E2EBFA;\n",
              "      box-shadow: 0px 1px 2px rgba(60, 64, 67, 0.3), 0px 1px 3px 1px rgba(60, 64, 67, 0.15);\n",
              "      fill: #174EA6;\n",
              "    }\n",
              "\n",
              "    [theme=dark] .colab-df-convert {\n",
              "      background-color: #3B4455;\n",
              "      fill: #D2E3FC;\n",
              "    }\n",
              "\n",
              "    [theme=dark] .colab-df-convert:hover {\n",
              "      background-color: #434B5C;\n",
              "      box-shadow: 0px 1px 3px 1px rgba(0, 0, 0, 0.15);\n",
              "      filter: drop-shadow(0px 1px 2px rgba(0, 0, 0, 0.3));\n",
              "      fill: #FFFFFF;\n",
              "    }\n",
              "  </style>\n",
              "\n",
              "      <script>\n",
              "        const buttonEl =\n",
              "          document.querySelector('#df-f08ebc1b-5cc7-464a-afcd-7d7e4702bd08 button.colab-df-convert');\n",
              "        buttonEl.style.display =\n",
              "          google.colab.kernel.accessAllowed ? 'block' : 'none';\n",
              "\n",
              "        async function convertToInteractive(key) {\n",
              "          const element = document.querySelector('#df-f08ebc1b-5cc7-464a-afcd-7d7e4702bd08');\n",
              "          const dataTable =\n",
              "            await google.colab.kernel.invokeFunction('convertToInteractive',\n",
              "                                                     [key], {});\n",
              "          if (!dataTable) return;\n",
              "\n",
              "          const docLinkHtml = 'Like what you see? Visit the ' +\n",
              "            '<a target=\"_blank\" href=https://colab.research.google.com/notebooks/data_table.ipynb>data table notebook</a>'\n",
              "            + ' to learn more about interactive tables.';\n",
              "          element.innerHTML = '';\n",
              "          dataTable['output_type'] = 'display_data';\n",
              "          await google.colab.output.renderOutput(dataTable, element);\n",
              "          const docLink = document.createElement('div');\n",
              "          docLink.innerHTML = docLinkHtml;\n",
              "          element.appendChild(docLink);\n",
              "        }\n",
              "      </script>\n",
              "    </div>\n",
              "  </div>\n",
              "  "
            ],
            "text/plain": [
              "     index  ...     label\n",
              "0    61591  ...  negative\n",
              "1    50299  ...  positive\n",
              "2     2777  ...  negative\n",
              "3     9126  ...   neutral\n",
              "4     7544  ...  negative\n",
              "..     ...  ...       ...\n",
              "195   3939  ...  negative\n",
              "196  44573  ...  positive\n",
              "197   8871  ...  positive\n",
              "198   3837  ...   neutral\n",
              "199   6478  ...  positive\n",
              "\n",
              "[200 rows x 9 columns]"
            ]
          },
          "metadata": {},
          "execution_count": 55
        }
      ],
      "source": [
        "df_eval"
      ]
    },
    {
      "cell_type": "code",
      "execution_count": 56,
      "id": "10e862ea-ad06-4258-96a5-59e27fafdf6a",
      "metadata": {
        "colab": {
          "base_uri": "https://localhost:8080/",
          "height": 817
        },
        "id": "10e862ea-ad06-4258-96a5-59e27fafdf6a",
        "outputId": "a1365b8b-ec37-47a1-fb17-30fd3709ccdc"
      },
      "outputs": [
        {
          "output_type": "execute_result",
          "data": {
            "text/html": [
              "\n",
              "  <div id=\"df-acc1bbd1-b07e-45be-983d-034276a3f003\">\n",
              "    <div class=\"colab-df-container\">\n",
              "      <div>\n",
              "<style scoped>\n",
              "    .dataframe tbody tr th:only-of-type {\n",
              "        vertical-align: middle;\n",
              "    }\n",
              "\n",
              "    .dataframe tbody tr th {\n",
              "        vertical-align: top;\n",
              "    }\n",
              "\n",
              "    .dataframe thead th {\n",
              "        text-align: right;\n",
              "    }\n",
              "</style>\n",
              "<table border=\"1\" class=\"dataframe\">\n",
              "  <thead>\n",
              "    <tr style=\"text-align: right;\">\n",
              "      <th></th>\n",
              "      <th>index</th>\n",
              "      <th>comment</th>\n",
              "      <th>rate</th>\n",
              "      <th>clean_comment</th>\n",
              "      <th>no_stopwords_comment</th>\n",
              "      <th>no_enligh_comment</th>\n",
              "      <th>stemmed_version</th>\n",
              "      <th>lemmatized_version</th>\n",
              "      <th>label</th>\n",
              "    </tr>\n",
              "  </thead>\n",
              "  <tbody>\n",
              "    <tr>\n",
              "      <th>0</th>\n",
              "      <td>1980</td>\n",
              "      <td>IXY فقط زبان ژاپني انگليسي داره</td>\n",
              "      <td>0.0</td>\n",
              "      <td>[IXY, فقط, زبان, ژاپني, انگليسي, داره]</td>\n",
              "      <td>[IXY, زبان, ژاپني, انگليسي, داره]</td>\n",
              "      <td>[فقط, زبان, ژاپني, انگليسي, داره]</td>\n",
              "      <td>[IXY, فقط, زب, ژاپني, انگليسي, داره]</td>\n",
              "      <td>[IXY, فقط, زبان, ژاپني, انگليسي, داره]</td>\n",
              "      <td>neutral</td>\n",
              "    </tr>\n",
              "    <tr>\n",
              "      <th>1</th>\n",
              "      <td>55810</td>\n",
              "      <td>به نظر من کسی بدون شنیدن یه حرف نمیتونی در اون...</td>\n",
              "      <td>1.0</td>\n",
              "      <td>[به, نظر, من, کسی, بدون, شنیدن, یه, حرف, نمیتو...</td>\n",
              "      <td>[شنیدن, یه, حرف, نمیتونی, اون, دقیقی, باشه, ای...</td>\n",
              "      <td>[به, نظر, من, کسی, بدون, شنیدن, یه, حرف, نمیتو...</td>\n",
              "      <td>[به, نظر, من, کس, بدون, شنیدن, یه, حرف, نمیتون...</td>\n",
              "      <td>[به, نظر, من, کس, بدون, شنیدن, یه, حرف, نمیتون...</td>\n",
              "      <td>positive</td>\n",
              "    </tr>\n",
              "    <tr>\n",
              "      <th>2</th>\n",
              "      <td>29718</td>\n",
              "      <td>تو وصف این داستان زیبا مثل های شیوای فارسی زیا...</td>\n",
              "      <td>1.0</td>\n",
              "      <td>[تو, وصف, این, داستان, زیبا, مثل, های, شیوای, ...</td>\n",
              "      <td>[وصف, داستان, زیبا, های, شیوای, فارسی, خرس, شک...</td>\n",
              "      <td>[تو, وصف, این, داستان, زیبا, مثل, های, شیوای, ...</td>\n",
              "      <td>[تو, وصف, این, داس, زیبا, مثل, , شیوا, فارس, ز...</td>\n",
              "      <td>[تو, وصف, این, داستان, زیبا, مثل, های, شیوا, ف...</td>\n",
              "      <td>positive</td>\n",
              "    </tr>\n",
              "    <tr>\n",
              "      <th>3</th>\n",
              "      <td>48815</td>\n",
              "      <td>بسیارعالی برای خشکی پوست</td>\n",
              "      <td>1.0</td>\n",
              "      <td>[بسیارعالی, برای, خشکی, پوست]</td>\n",
              "      <td>[بسیارعالی, خشکی, پوست]</td>\n",
              "      <td>[بسیارعالی, برای, خشکی, پوست]</td>\n",
              "      <td>[بسیارعال, برا, خشک, پوس]</td>\n",
              "      <td>[بسیارعالی, برای, خشکی, پوست]</td>\n",
              "      <td>positive</td>\n",
              "    </tr>\n",
              "    <tr>\n",
              "      <th>4</th>\n",
              "      <td>6133</td>\n",
              "      <td>البته متاسفانه ابن قابلیت در مورد تمامی برنامه...</td>\n",
              "      <td>-0.5</td>\n",
              "      <td>[البته, متاسفانه, ابن, قابلیت, در, مورد, تمامی...</td>\n",
              "      <td>[ابن, قابلیت, برنامهها, کاربرد, تعدادی, برنامه...</td>\n",
              "      <td>[البته, متاسفانه, ابن, قابلیت, در, مورد, تمامی...</td>\n",
              "      <td>[البته, متاسفانه, ابن, قابل, در, مورد, تمام, ب...</td>\n",
              "      <td>[البته, متاسفانه, ابن, قابلیت, در, مورد, تمام,...</td>\n",
              "      <td>negative</td>\n",
              "    </tr>\n",
              "    <tr>\n",
              "      <th>...</th>\n",
              "      <td>...</td>\n",
              "      <td>...</td>\n",
              "      <td>...</td>\n",
              "      <td>...</td>\n",
              "      <td>...</td>\n",
              "      <td>...</td>\n",
              "      <td>...</td>\n",
              "      <td>...</td>\n",
              "      <td>...</td>\n",
              "    </tr>\n",
              "    <tr>\n",
              "      <th>165</th>\n",
              "      <td>2794</td>\n",
              "      <td>صفحه نمایش بالاخره اپل دست از اصرار برای تولید...</td>\n",
              "      <td>0.5</td>\n",
              "      <td>[صفحه, نمایش, بالاخره, اپل, دست, از, اصرار, بر...</td>\n",
              "      <td>[صفحه, نمایش, بالاخره, اپل, دست, اصرار, تولید,...</td>\n",
              "      <td>[صفحه, نمایش, بالاخره, اپل, دست, از, اصرار, بر...</td>\n",
              "      <td>[صفحه, نما, بالاخره, اپل, دس, از, اصرار, برا, ...</td>\n",
              "      <td>[صفحه, نمایش, بالاخره, اپل, دست, از, اصرار, بر...</td>\n",
              "      <td>neutral</td>\n",
              "    </tr>\n",
              "    <tr>\n",
              "      <th>166</th>\n",
              "      <td>62768</td>\n",
              "      <td>با سلام وقتی از نان جو به جای نان باگت استفاده...</td>\n",
              "      <td>1.0</td>\n",
              "      <td>[با, سلام, وقتی, از, نان, جو, به, جای, نان, با...</td>\n",
              "      <td>[سلام, نان, جو, نان, باگت, استفاده, میکنن, توی...</td>\n",
              "      <td>[با, سلام, وقتی, از, نان, جو, به, جای, نان, با...</td>\n",
              "      <td>[با, سلا, وقت, از, ن, جو, به, جا, ن, باگ, استف...</td>\n",
              "      <td>[با, سلام, وقت, از, نان, جو, به, جای, نان, باگ...</td>\n",
              "      <td>positive</td>\n",
              "    </tr>\n",
              "    <tr>\n",
              "      <th>167</th>\n",
              "      <td>1124</td>\n",
              "      <td>هر دوی آن‌ها از کارت حافظه‌ی SD/SDHC/SDXC نیز ...</td>\n",
              "      <td>0.0</td>\n",
              "      <td>[هر, دوی, آنها, از, کارت, حافظهی, SD/SDHC/SDXC...</td>\n",
              "      <td>[دوی, کارت, حافظهی, SD/SDHC/SDXC, پشتیبانی, می...</td>\n",
              "      <td>[هر, دوی, آنها, از, کارت, حافظهی, //, نیز, پشت...</td>\n",
              "      <td>[هر, دو, آن, از, کار, حافظه, SD/SDHC/SDXC, نیز...</td>\n",
              "      <td>[هر, دوی, آن, از, کارت, حافظه, SD/SDHC/SDXC, ن...</td>\n",
              "      <td>neutral</td>\n",
              "    </tr>\n",
              "    <tr>\n",
              "      <th>168</th>\n",
              "      <td>42072</td>\n",
              "      <td>با توجه به قیمت، انتظار بیشتری از کیفیت داشتم ...</td>\n",
              "      <td>-1.0</td>\n",
              "      <td>[با, توجه, به, قیمت, انتظار, بیشتری, از, کیفیت...</td>\n",
              "      <td>[توجه, قیمت, انتظار, کیفیت, داشتم, بد]</td>\n",
              "      <td>[با, توجه, به, قیمت, انتظار, بیشتری, از, کیفیت...</td>\n",
              "      <td>[با, توجه, به, قیم, انتظار, بیشتر, از, کیف, دا...</td>\n",
              "      <td>[با, توجه, به, قیمت, انتظار, بیشتر, از, کیفیت,...</td>\n",
              "      <td>negative</td>\n",
              "    </tr>\n",
              "    <tr>\n",
              "      <th>169</th>\n",
              "      <td>96854</td>\n",
              "      <td>بیرون حدود ۹۰تومان میگفتن تازه پیدا هم نمیشد م...</td>\n",
              "      <td>-1.0</td>\n",
              "      <td>[بیرون, حدود, تومان, میگفتن, تازه, پیدا, هم, ن...</td>\n",
              "      <td>[تومان, میگفتن, تازه, نمیشد, تیبا۲, گرفتم]</td>\n",
              "      <td>[بیرون, حدود, تومان, میگفتن, تازه, پیدا, هم, ن...</td>\n",
              "      <td>[بیرون, حدود, تو, میگفتن, تازه, پیدا, ه, نمیشد...</td>\n",
              "      <td>[بیرون, حدود, تومان, میگفتن, تازه, پیدا, هم, ن...</td>\n",
              "      <td>negative</td>\n",
              "    </tr>\n",
              "  </tbody>\n",
              "</table>\n",
              "<p>170 rows × 9 columns</p>\n",
              "</div>\n",
              "      <button class=\"colab-df-convert\" onclick=\"convertToInteractive('df-acc1bbd1-b07e-45be-983d-034276a3f003')\"\n",
              "              title=\"Convert this dataframe to an interactive table.\"\n",
              "              style=\"display:none;\">\n",
              "        \n",
              "  <svg xmlns=\"http://www.w3.org/2000/svg\" height=\"24px\"viewBox=\"0 0 24 24\"\n",
              "       width=\"24px\">\n",
              "    <path d=\"M0 0h24v24H0V0z\" fill=\"none\"/>\n",
              "    <path d=\"M18.56 5.44l.94 2.06.94-2.06 2.06-.94-2.06-.94-.94-2.06-.94 2.06-2.06.94zm-11 1L8.5 8.5l.94-2.06 2.06-.94-2.06-.94L8.5 2.5l-.94 2.06-2.06.94zm10 10l.94 2.06.94-2.06 2.06-.94-2.06-.94-.94-2.06-.94 2.06-2.06.94z\"/><path d=\"M17.41 7.96l-1.37-1.37c-.4-.4-.92-.59-1.43-.59-.52 0-1.04.2-1.43.59L10.3 9.45l-7.72 7.72c-.78.78-.78 2.05 0 2.83L4 21.41c.39.39.9.59 1.41.59.51 0 1.02-.2 1.41-.59l7.78-7.78 2.81-2.81c.8-.78.8-2.07 0-2.86zM5.41 20L4 18.59l7.72-7.72 1.47 1.35L5.41 20z\"/>\n",
              "  </svg>\n",
              "      </button>\n",
              "      \n",
              "  <style>\n",
              "    .colab-df-container {\n",
              "      display:flex;\n",
              "      flex-wrap:wrap;\n",
              "      gap: 12px;\n",
              "    }\n",
              "\n",
              "    .colab-df-convert {\n",
              "      background-color: #E8F0FE;\n",
              "      border: none;\n",
              "      border-radius: 50%;\n",
              "      cursor: pointer;\n",
              "      display: none;\n",
              "      fill: #1967D2;\n",
              "      height: 32px;\n",
              "      padding: 0 0 0 0;\n",
              "      width: 32px;\n",
              "    }\n",
              "\n",
              "    .colab-df-convert:hover {\n",
              "      background-color: #E2EBFA;\n",
              "      box-shadow: 0px 1px 2px rgba(60, 64, 67, 0.3), 0px 1px 3px 1px rgba(60, 64, 67, 0.15);\n",
              "      fill: #174EA6;\n",
              "    }\n",
              "\n",
              "    [theme=dark] .colab-df-convert {\n",
              "      background-color: #3B4455;\n",
              "      fill: #D2E3FC;\n",
              "    }\n",
              "\n",
              "    [theme=dark] .colab-df-convert:hover {\n",
              "      background-color: #434B5C;\n",
              "      box-shadow: 0px 1px 3px 1px rgba(0, 0, 0, 0.15);\n",
              "      filter: drop-shadow(0px 1px 2px rgba(0, 0, 0, 0.3));\n",
              "      fill: #FFFFFF;\n",
              "    }\n",
              "  </style>\n",
              "\n",
              "      <script>\n",
              "        const buttonEl =\n",
              "          document.querySelector('#df-acc1bbd1-b07e-45be-983d-034276a3f003 button.colab-df-convert');\n",
              "        buttonEl.style.display =\n",
              "          google.colab.kernel.accessAllowed ? 'block' : 'none';\n",
              "\n",
              "        async function convertToInteractive(key) {\n",
              "          const element = document.querySelector('#df-acc1bbd1-b07e-45be-983d-034276a3f003');\n",
              "          const dataTable =\n",
              "            await google.colab.kernel.invokeFunction('convertToInteractive',\n",
              "                                                     [key], {});\n",
              "          if (!dataTable) return;\n",
              "\n",
              "          const docLinkHtml = 'Like what you see? Visit the ' +\n",
              "            '<a target=\"_blank\" href=https://colab.research.google.com/notebooks/data_table.ipynb>data table notebook</a>'\n",
              "            + ' to learn more about interactive tables.';\n",
              "          element.innerHTML = '';\n",
              "          dataTable['output_type'] = 'display_data';\n",
              "          await google.colab.output.renderOutput(dataTable, element);\n",
              "          const docLink = document.createElement('div');\n",
              "          docLink.innerHTML = docLinkHtml;\n",
              "          element.appendChild(docLink);\n",
              "        }\n",
              "      </script>\n",
              "    </div>\n",
              "  </div>\n",
              "  "
            ],
            "text/plain": [
              "     index  ...     label\n",
              "0     1980  ...   neutral\n",
              "1    55810  ...  positive\n",
              "2    29718  ...  positive\n",
              "3    48815  ...  positive\n",
              "4     6133  ...  negative\n",
              "..     ...  ...       ...\n",
              "165   2794  ...   neutral\n",
              "166  62768  ...  positive\n",
              "167   1124  ...   neutral\n",
              "168  42072  ...  negative\n",
              "169  96854  ...  negative\n",
              "\n",
              "[170 rows x 9 columns]"
            ]
          },
          "metadata": {},
          "execution_count": 56
        }
      ],
      "source": [
        "df_test"
      ]
    }
  ],
  "metadata": {
    "kernelspec": {
      "display_name": "Python 3 (ipykernel)",
      "language": "python",
      "name": "python3"
    },
    "language_info": {
      "codemirror_mode": {
        "name": "ipython",
        "version": 3
      },
      "file_extension": ".py",
      "mimetype": "text/x-python",
      "name": "python",
      "nbconvert_exporter": "python",
      "pygments_lexer": "ipython3",
      "version": "3.8.11"
    },
    "colab": {
      "name": "load_data.ipynb",
      "provenance": [],
      "collapsed_sections": []
    }
  },
  "nbformat": 4,
  "nbformat_minor": 5
}