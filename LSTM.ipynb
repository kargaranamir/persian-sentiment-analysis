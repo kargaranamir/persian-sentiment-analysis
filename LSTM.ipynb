{
 "cells": [
  {
   "cell_type": "markdown",
   "id": "d1796d3e-6920-44fd-96a0-892bb67ce303",
   "metadata": {
    "id": "Or7jrk3lphly"
   },
   "source": [
    "## LSTM Classifier"
   ]
  },
  {
   "cell_type": "code",
   "execution_count": 136,
   "id": "d4d34a17-7baf-4b62-9373-5ae4f3e6257f",
   "metadata": {
    "colab": {
     "base_uri": "https://localhost:8080/"
    },
    "id": "gOvaBku0psIl",
    "outputId": "9415f2e5-740a-4948-a46b-b4d339f2a573"
   },
   "outputs": [
    {
     "name": "stdout",
     "output_type": "stream",
     "text": [
      "Collecting fasttext\n",
      "  Downloading fasttext-0.9.2.tar.gz (68 kB)\n",
      "\u001b[K     |████████████████████████████████| 68 kB 3.3 MB/s eta 0:00:011\n",
      "\u001b[?25hCollecting pybind11>=2.2\n",
      "  Using cached pybind11-2.9.0-py2.py3-none-any.whl (210 kB)\n",
      "Requirement already satisfied: setuptools>=0.7.0 in /usr/local/lib/python3.7/dist-packages (from fasttext) (57.4.0)\n",
      "Requirement already satisfied: numpy in /usr/local/lib/python3.7/dist-packages (from fasttext) (1.19.5)\n",
      "Building wheels for collected packages: fasttext\n",
      "  Building wheel for fasttext (setup.py) ... \u001b[?25l\u001b[?25hdone\n",
      "  Created wheel for fasttext: filename=fasttext-0.9.2-cp37-cp37m-linux_x86_64.whl size=3125050 sha256=8fbafd975151eb772ce6556273a996cd07c143c15621295e3f493f3b7a66aaf6\n",
      "  Stored in directory: /root/.cache/pip/wheels/4e/ca/bf/b020d2be95f7641801a6597a29c8f4f19e38f9c02a345bab9b\n",
      "Successfully built fasttext\n",
      "Installing collected packages: pybind11, fasttext\n",
      "Successfully installed fasttext-0.9.2 pybind11-2.9.0\n"
     ]
    }
   ],
   "source": [
    "!pip install fasttext"
   ]
  },
  {
   "cell_type": "code",
   "execution_count": 137,
   "id": "07ab578b-d556-407c-a357-77c15b17be3b",
   "metadata": {
    "id": "cLO83F2YpgqU"
   },
   "outputs": [],
   "source": [
    "import matplotlib.pyplot as plt\n",
    "import seaborn as sns\n",
    "import tensorflow as tf \n",
    "\n",
    "from tensorflow.keras.preprocessing.sequence import pad_sequences\n",
    "\n",
    "from tensorflow.keras.models import Sequential\n",
    "from tensorflow.keras.layers import Embedding, LSTM, Dense, Dropout, SpatialDropout1D\n",
    "from tensorflow.keras.callbacks import EarlyStopping"
   ]
  },
  {
   "cell_type": "code",
   "execution_count": 138,
   "id": "08ab9c2a-b653-497e-9ddb-9b471b978576",
   "metadata": {
    "id": "DUtlfDqzpnID"
   },
   "outputs": [],
   "source": [
    "embedding_vector_length = 100\n",
    "sentences_max_length = 50\n",
    "lstm_units = 50"
   ]
  },
  {
   "cell_type": "code",
   "execution_count": 139,
   "id": "7a81ceb0-36c1-4b9c-93f9-49aa8d6bf381",
   "metadata": {
    "colab": {
     "base_uri": "https://localhost:8080/"
    },
    "id": "a1DwE9LJqApX",
    "outputId": "535cb386-af93-4712-b6c8-d14d74721faf"
   },
   "outputs": [
    {
     "name": "stdout",
     "output_type": "stream",
     "text": [
      "Cloning into 'fastText'...\n",
      "remote: Enumerating objects: 3854, done.\u001b[K\n",
      "remote: Total 3854 (delta 0), reused 0 (delta 0), pack-reused 3854\u001b[K\n",
      "Receiving objects: 100% (3854/3854), 8.22 MiB | 23.59 MiB/s, done.\n",
      "Resolving deltas: 100% (2417/2417), done.\n"
     ]
    }
   ],
   "source": [
    "!git clone https://github.com/facebookresearch/fastText.git"
   ]
  },
  {
   "cell_type": "code",
   "execution_count": 140,
   "id": "5419219f-a00f-45d3-99d9-1ce50e8ee8a8",
   "metadata": {
    "colab": {
     "base_uri": "https://localhost:8080/"
    },
    "id": "Fy4ea98qxLaH",
    "outputId": "afb9b167-6d37-4d8d-9b15-a619f686637b"
   },
   "outputs": [
    {
     "name": "stdout",
     "output_type": "stream",
     "text": [
      "fatal: destination path 'fastText' already exists and is not an empty directory.\n",
      "Processing /content/fastText\n",
      "\u001b[33m  DEPRECATION: A future pip version will change local packages to be built in-place without first copying to a temporary directory. We recommend you use --use-feature=in-tree-build to test your packages with this new behavior before it becomes the default.\n",
      "   pip 21.3 will remove support for this functionality. You can find discussion regarding this at https://github.com/pypa/pip/issues/7555.\u001b[0m\n",
      "Requirement already satisfied: pybind11>=2.2 in /usr/local/lib/python3.7/dist-packages (from fasttext==0.9.2) (2.9.0)\n",
      "Requirement already satisfied: setuptools>=0.7.0 in /usr/local/lib/python3.7/dist-packages (from fasttext==0.9.2) (57.4.0)\n",
      "Requirement already satisfied: numpy in /usr/local/lib/python3.7/dist-packages (from fasttext==0.9.2) (1.19.5)\n",
      "Building wheels for collected packages: fasttext\n",
      "  Building wheel for fasttext (setup.py) ... \u001b[?25l\u001b[?25hdone\n",
      "  Created wheel for fasttext: filename=fasttext-0.9.2-cp37-cp37m-linux_x86_64.whl size=3120570 sha256=5457e55771f50f94ab486310bb6428e3229f840f10b98e9ff7aec69cd2a2c683\n",
      "  Stored in directory: /tmp/pip-ephem-wheel-cache-d4si6uzq/wheels/22/04/6e/b3aba25c1a5845898b5871a0df37c2126cb0cc9326ad0c08e7\n",
      "Successfully built fasttext\n",
      "Installing collected packages: fasttext\n",
      "  Attempting uninstall: fasttext\n",
      "    Found existing installation: fasttext 0.9.2\n",
      "    Uninstalling fasttext-0.9.2:\n",
      "      Successfully uninstalled fasttext-0.9.2\n",
      "Successfully installed fasttext-0.9.2\n"
     ]
    }
   ],
   "source": [
    "!git clone https://github.com/facebookresearch/fastText.git\n",
    "!cd fastText && pip install ."
   ]
  },
  {
   "cell_type": "code",
   "execution_count": 141,
   "id": "8d9e7770-c460-44ec-b8b4-213befad7c44",
   "metadata": {
    "colab": {
     "base_uri": "https://localhost:8080/"
    },
    "id": "AcjobarIt5L8",
    "outputId": "cfb2fb9d-4082-453d-eaf1-783215fa768c"
   },
   "outputs": [
    {
     "name": "stdout",
     "output_type": "stream",
     "text": [
      "Requirement already satisfied: gdown in /usr/local/lib/python3.7/dist-packages (3.6.4)\n",
      "Requirement already satisfied: six in /usr/local/lib/python3.7/dist-packages (from gdown) (1.15.0)\n",
      "Requirement already satisfied: tqdm in /usr/local/lib/python3.7/dist-packages (from gdown) (4.62.3)\n",
      "Requirement already satisfied: requests in /usr/local/lib/python3.7/dist-packages (from gdown) (2.23.0)\n",
      "Requirement already satisfied: urllib3!=1.25.0,!=1.25.1,<1.26,>=1.21.1 in /usr/local/lib/python3.7/dist-packages (from requests->gdown) (1.24.3)\n",
      "Requirement already satisfied: idna<3,>=2.5 in /usr/local/lib/python3.7/dist-packages (from requests->gdown) (2.10)\n",
      "Requirement already satisfied: chardet<4,>=3.0.2 in /usr/local/lib/python3.7/dist-packages (from requests->gdown) (3.0.4)\n",
      "Requirement already satisfied: certifi>=2017.4.17 in /usr/local/lib/python3.7/dist-packages (from requests->gdown) (2021.10.8)\n",
      "Downloading...\n",
      "From: https://drive.google.com/uc?id=1wPnMG9_GNUVdSgbznQziQc5nMWI3QKNz\n",
      "To: /content/farsi-dedup-skipgram.bin\n",
      "100% 4.37G/4.37G [01:10<00:00, 45.0MB/s]\n"
     ]
    }
   ],
   "source": [
    "! pip install gdown\n",
    "\n",
    "SKIPGRAM_MODEL_FILE_ID = '1wPnMG9_GNUVdSgbznQziQc5nMWI3QKNz'\n",
    "!gdown --id $SKIPGRAM_MODEL_FILE_ID "
   ]
  },
  {
   "cell_type": "code",
   "execution_count": 142,
   "id": "7d0d02a1-504f-4da8-9254-f31b7386cd32",
   "metadata": {
    "id": "65C1oKJixQG3"
   },
   "outputs": [],
   "source": [
    "import fasttext\n",
    "model_skipgram = fasttext.load_model('farsi-dedup-skipgram.bin')"
   ]
  },
  {
   "cell_type": "code",
   "execution_count": 143,
   "id": "48de0848-6da0-4c32-b156-d2bdf08a959d",
   "metadata": {
    "colab": {
     "base_uri": "https://localhost:8080/"
    },
    "id": "Vc5x7Sf-qJ6A",
    "outputId": "18213345-b0e3-47a4-86a2-0b76ae8901c3"
   },
   "outputs": [
    {
     "name": "stdout",
     "output_type": "stream",
     "text": [
      "vocab size: 3338\n",
      "number of padded sequences and its shape:\n",
      "(790, 50)\n"
     ]
    }
   ],
   "source": [
    "texts = df_train['clean_comment'].values\n",
    "tokenizer = tf.keras.preprocessing.text.Tokenizer(num_words=3000)\n",
    "tokenizer.fit_on_texts(texts)\n",
    "\n",
    "vocab_size = len(tokenizer.word_index) + 1\n",
    "print('vocab size: {}'.format(vocab_size))\n",
    "\n",
    "encoded_texts = tokenizer.texts_to_sequences(texts)\n",
    "\n",
    "padded_sequence = pad_sequences(encoded_texts, maxlen=sentences_max_length, padding='post')\n",
    "print('number of padded sequences and its shape:')\n",
    "print(padded_sequence.shape)"
   ]
  },
  {
   "cell_type": "code",
   "execution_count": 144,
   "id": "114a59a6-c98a-4659-9eff-ff976fb4b8e6",
   "metadata": {
    "id": "l98Ct6WxrFvP"
   },
   "outputs": [],
   "source": [
    "embedding_matrix = np.zeros((vocab_size, embedding_vector_length))\n",
    "\n",
    "for word, i in tokenizer.word_index.items():\n",
    "  embedding_vector = model_skipgram.get_word_vector(word)\n",
    "  # words that cannot be found will be set to 0\n",
    "  if embedding_vector is not None:\n",
    "    embedding_matrix[i] = embedding_vector"
   ]
  },
  {
   "cell_type": "code",
   "execution_count": 145,
   "id": "0be91cd9-c6f6-44a9-9cf6-8ede83078e72",
   "metadata": {
    "colab": {
     "base_uri": "https://localhost:8080/"
    },
    "id": "dPNOqE-WrJSC",
    "outputId": "3632abff-43cf-4c5c-a3a5-3470b5d6b25f"
   },
   "outputs": [
    {
     "name": "stdout",
     "output_type": "stream",
     "text": [
      "WARNING:tensorflow:Layer lstm will not use cuDNN kernels since it doesn't meet the criteria. It will use a generic GPU kernel as fallback when running on GPU.\n",
      "Model: \"sequential\"\n",
      "_________________________________________________________________\n",
      " Layer (type)                Output Shape              Param #   \n",
      "=================================================================\n",
      " embedding (Embedding)       (None, 50, 100)           333800    \n",
      "                                                                 \n",
      " spatial_dropout1d (SpatialD  (None, 50, 100)          0         \n",
      " ropout1D)                                                       \n",
      "                                                                 \n",
      " lstm (LSTM)                 (None, 50)                30200     \n",
      "                                                                 \n",
      " dropout (Dropout)           (None, 50)                0         \n",
      "                                                                 \n",
      " dense (Dense)               (None, 1)                 51        \n",
      "                                                                 \n",
      "=================================================================\n",
      "Total params: 364,051\n",
      "Trainable params: 364,051\n",
      "Non-trainable params: 0\n",
      "_________________________________________________________________\n",
      "None\n"
     ]
    }
   ],
   "source": [
    "model = Sequential()\n",
    "model.add(Embedding(vocab_size, embedding_vector_length, input_length=sentences_max_length, weights=[embedding_matrix], trainable=True))\n",
    "model.add(SpatialDropout1D(0.7))\n",
    "model.add(LSTM(lstm_units, dropout=0.5, recurrent_dropout=0.5))\n",
    "model.add(Dropout(0.2))\n",
    "model.add(Dense(1, activation='sigmoid'))\n",
    "model.compile(loss='binary_crossentropy',optimizer='adam', metrics=['accuracy'])\n",
    "print(model.summary())"
   ]
  },
  {
   "cell_type": "code",
   "execution_count": 146,
   "id": "81b4d562-56d1-4a94-81d3-7d5899399d50",
   "metadata": {
    "colab": {
     "base_uri": "https://localhost:8080/"
    },
    "id": "z8GNOKFa3MW4",
    "outputId": "d9da4322-120f-479b-a576-b7e9adac6617"
   },
   "outputs": [
    {
     "name": "stdout",
     "output_type": "stream",
     "text": [
      "vocab size: 3338\n",
      "number of padded sequences and its shape:\n",
      "(200, 50)\n"
     ]
    }
   ],
   "source": [
    "texts = df_eval['clean_comment'].values\n",
    "tokenizer = tf.keras.preprocessing.text.Tokenizer(num_words=3000)\n",
    "tokenizer.fit_on_texts(texts)\n",
    "\n",
    "eval_vocab_size = len(tokenizer.word_index) + 1\n",
    "print('vocab size: {}'.format(vocab_size))\n",
    "\n",
    "eval_encoded_texts = tokenizer.texts_to_sequences(texts)\n",
    "\n",
    "eval_padded_sequence = pad_sequences(eval_encoded_texts, maxlen=sentences_max_length, padding='post')\n",
    "print('number of padded sequences and its shape:')\n",
    "print(eval_padded_sequence.shape)"
   ]
  },
  {
   "cell_type": "code",
   "execution_count": 147,
   "id": "ae83164d-2b20-4b8b-be62-8317a0c3b29a",
   "metadata": {
    "id": "oNMYzeCh3WH6"
   },
   "outputs": [],
   "source": [
    "eval_embedding_matrix = np.zeros((eval_vocab_size, embedding_vector_length))\n",
    "\n",
    "for word, i in tokenizer.word_index.items():\n",
    "  embedding_vector = model_skipgram.get_word_vector(word)\n",
    "  # words that cannot be found will be set to 0\n",
    "  if embedding_vector is not None:\n",
    "    eval_embedding_matrix[i] = embedding_vector"
   ]
  },
  {
   "cell_type": "code",
   "execution_count": 148,
   "id": "89bf67dd-9c98-4039-aac9-a852c02e8c80",
   "metadata": {
    "colab": {
     "base_uri": "https://localhost:8080/"
    },
    "id": "nXFpRQ7O9Szm",
    "outputId": "808bd3c2-2594-47e7-f54c-e1a18dfdf6cf"
   },
   "outputs": [
    {
     "data": {
      "text/plain": [
       "array([861, 628,   0,   0,   0,   0,   0,   0,   0,   0,   0,   0,   0,\n",
       "         0,   0,   0,   0,   0,   0,   0,   0,   0,   0,   0,   0,   0,\n",
       "         0,   0,   0,   0,   0,   0,   0,   0,   0,   0,   0,   0,   0,\n",
       "         0,   0,   0,   0,   0,   0,   0,   0,   0,   0,   0], dtype=int32)"
      ]
     },
     "execution_count": 148,
     "metadata": {},
     "output_type": "execute_result"
    }
   ],
   "source": [
    "padded_sequence[8]"
   ]
  },
  {
   "cell_type": "code",
   "execution_count": 149,
   "id": "11970a41-d7b8-432a-a4ca-d19336452235",
   "metadata": {
    "colab": {
     "base_uri": "https://localhost:8080/"
    },
    "id": "5eylX9yVHuQS",
    "outputId": "64bfa671-9ab0-4d88-a4e4-d05c5bc508b3"
   },
   "outputs": [
    {
     "name": "stdout",
     "output_type": "stream",
     "text": [
      "label2id: {'negative': 0, 'positive': 1}\n",
      "id2label: {0: 'negative', 1: 'positive'}\n"
     ]
    }
   ],
   "source": [
    "label_list = ['negative', 'positive']\n",
    "\n",
    "label2id = {label: i for i, label in enumerate(label_list)}\n",
    "id2label = {v: k for k, v in label2id.items()}\n",
    "\n",
    "print(f'label2id: {label2id}')\n",
    "print(f'id2label: {id2label}')"
   ]
  },
  {
   "cell_type": "code",
   "execution_count": 150,
   "id": "9fa65029-ea90-472f-bd50-3736005b7442",
   "metadata": {
    "id": "umkgJCspJJ5T"
   },
   "outputs": [],
   "source": [
    "from sklearn.preprocessing import LabelEncoder\n",
    "label_encoder = LabelEncoder()\n",
    "train_y = label_encoder.fit_transform(df_train['label'])\n",
    "eval_y = label_encoder.fit_transform(df_eval['label'])"
   ]
  },
  {
   "cell_type": "code",
   "execution_count": 154,
   "id": "6ede4981-e708-4956-9736-d7b0b6a65f59",
   "metadata": {
    "colab": {
     "base_uri": "https://localhost:8080/"
    },
    "id": "eD93KZY-rRWr",
    "outputId": "aff227b4-ab1f-47f8-b1d7-2b11969181fc"
   },
   "outputs": [
    {
     "name": "stdout",
     "output_type": "stream",
     "text": [
      "Epoch 1/5\n",
      "25/25 [==============================] - 11s 433ms/step - loss: 0.6599 - accuracy: 0.6253 - val_loss: 0.6864 - val_accuracy: 0.5750\n",
      "Epoch 2/5\n",
      "25/25 [==============================] - 11s 435ms/step - loss: 0.6626 - accuracy: 0.6266 - val_loss: 0.6754 - val_accuracy: 0.5750\n",
      "Epoch 3/5\n",
      "25/25 [==============================] - 11s 424ms/step - loss: 0.6515 - accuracy: 0.6253 - val_loss: 0.6745 - val_accuracy: 0.5750\n",
      "Epoch 4/5\n",
      "25/25 [==============================] - 11s 421ms/step - loss: 0.6522 - accuracy: 0.6253 - val_loss: 0.6818 - val_accuracy: 0.5750\n",
      "Epoch 5/5\n",
      "25/25 [==============================] - 11s 431ms/step - loss: 0.6543 - accuracy: 0.6253 - val_loss: 0.6925 - val_accuracy: 0.5750\n"
     ]
    }
   ],
   "source": [
    "model = model.fit(\n",
    "    padded_sequence, \n",
    "    train_y, \n",
    "    batch_size=32, \n",
    "    epochs=5, \n",
    "    validation_data=(eval_padded_sequence, eval_y)\n",
    "    )"
   ]
  },
  {
   "cell_type": "code",
   "execution_count": 155,
   "id": "cfcdfdde-e0f9-48c2-90b3-4b2d958d70fa",
   "metadata": {
    "colab": {
     "base_uri": "https://localhost:8080/",
     "height": 337
    },
    "id": "FPF4RgaiwjD6",
    "outputId": "2b575773-0d17-4509-b496-3494c2c76009"
   },
   "outputs": [
    {
     "data": {
      "image/png": "[encoded data removed]",
      "text/plain": [
       "<Figure size 864x360 with 2 Axes>"
      ]
     },
     "metadata": {},
     "output_type": "display_data"
    }
   ],
   "source": [
    "plt.style.use('ggplot')\n",
    "\n",
    "def plot_history(model):\n",
    "    acc = model.history['accuracy']\n",
    "    val_acc = model.history['val_accuracy']\n",
    "    loss = model.history['loss']\n",
    "    val_loss = model.history['val_loss']\n",
    "    x = range(1, len(acc) + 1)\n",
    "\n",
    "    plt.figure(figsize=(12, 5))\n",
    "    plt.subplot(1, 2, 1)\n",
    "    plt.plot(x, acc, 'b', label='Training acc')\n",
    "    plt.plot(x, val_acc, 'r', label='Validation acc')\n",
    "    plt.title('Training and validation accuracy')\n",
    "    plt.legend()\n",
    "    plt.subplot(1, 2, 2)\n",
    "    plt.plot(x, loss, 'b', label='Training loss')\n",
    "    plt.plot(x, val_loss, 'r', label='Validation loss')\n",
    "    plt.title('Training and validation loss')\n",
    "    plt.legend()\n",
    "\n",
    "plot_history(model)"
   ]
  }
 ],
 "metadata": {
  "kernelspec": {
   "display_name": "Python 3 (ipykernel)",
   "language": "python",
   "name": "python3"
  },
  "language_info": {
   "codemirror_mode": {
    "name": "ipython",
    "version": 3
   },
   "file_extension": ".py",
   "mimetype": "text/x-python",
   "name": "python",
   "nbconvert_exporter": "python",
   "pygments_lexer": "ipython3",
   "version": "3.8.11"
  }
 },
 "nbformat": 4,
 "nbformat_minor": 5
}
