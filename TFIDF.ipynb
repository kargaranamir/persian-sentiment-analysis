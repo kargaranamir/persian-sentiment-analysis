{
  "cells": [
    {
      "cell_type": "code",
      "source": [
        "!pip install -q gwpy --quiet"
      ],
      "metadata": {
        "id": "BXVMsKOev6eY"
      },
      "id": "BXVMsKOev6eY",
      "execution_count": 1,
      "outputs": []
    },
    {
      "cell_type": "code",
      "source": [
        "%%capture\n",
        "%run /content/load_data.ipynb "
      ],
      "metadata": {
        "id": "wIEvTPtSt9J1"
      },
      "id": "wIEvTPtSt9J1",
      "execution_count": 2,
      "outputs": []
    },
    {
      "cell_type": "markdown",
      "id": "30f94b83-8726-4140-bea3-6d3f93e8ea92",
      "metadata": {
        "id": "30f94b83-8726-4140-bea3-6d3f93e8ea92",
        "tags": []
      },
      "source": [
        "## TFIDF Classifier"
      ]
    },
    {
      "cell_type": "code",
      "source": [
        "df_train"
      ],
      "metadata": {
        "colab": {
          "base_uri": "https://localhost:8080/",
          "height": 1000
        },
        "id": "iJa47e3UwrR0",
        "outputId": "8ce57689-7a2d-491f-f1c4-e08c86659610"
      },
      "id": "iJa47e3UwrR0",
      "execution_count": 3,
      "outputs": [
        {
          "output_type": "execute_result",
          "data": {
            "text/html": [
              "\n",
              "  <div id=\"df-6ab57751-0754-48ce-93ab-a0d68e999fa8\">\n",
              "    <div class=\"colab-df-container\">\n",
              "      <div>\n",
              "<style scoped>\n",
              "    .dataframe tbody tr th:only-of-type {\n",
              "        vertical-align: middle;\n",
              "    }\n",
              "\n",
              "    .dataframe tbody tr th {\n",
              "        vertical-align: top;\n",
              "    }\n",
              "\n",
              "    .dataframe thead th {\n",
              "        text-align: right;\n",
              "    }\n",
              "</style>\n",
              "<table border=\"1\" class=\"dataframe\">\n",
              "  <thead>\n",
              "    <tr style=\"text-align: right;\">\n",
              "      <th></th>\n",
              "      <th>index</th>\n",
              "      <th>comment</th>\n",
              "      <th>rate</th>\n",
              "      <th>clean_comment</th>\n",
              "      <th>no_stopwords_comment</th>\n",
              "      <th>no_enligh_comment</th>\n",
              "      <th>stemmed_version</th>\n",
              "      <th>lemmatized_version</th>\n",
              "      <th>label</th>\n",
              "    </tr>\n",
              "  </thead>\n",
              "  <tbody>\n",
              "    <tr>\n",
              "      <th>0</th>\n",
              "      <td>2587</td>\n",
              "      <td>پردازنده های Core i5 و Core i3 نیز ذاتا دو هست...</td>\n",
              "      <td>0.0</td>\n",
              "      <td>[پردازنده, های, Core, i5, و, Core, i3, نیز, ذا...</td>\n",
              "      <td>[پردازنده, های, Core, i5, Core, i3, ذاتا, هسته...</td>\n",
              "      <td>[پردازنده, های, 5, و, 3, نیز, ذاتا, دو, هسته, ...</td>\n",
              "      <td>[پردازنده, , Core, i5, و, Core, i3, نیز, ذاتا,...</td>\n",
              "      <td>[پردازنده, های, Core, i5, و, Core, i3, نیز, ذا...</td>\n",
              "      <td>neutral</td>\n",
              "    </tr>\n",
              "    <tr>\n",
              "      <th>1</th>\n",
              "      <td>22591</td>\n",
              "      <td>سلام به دوستای عزیزم \\r\\nعزاداری هاتون قبول باشه</td>\n",
              "      <td>1.0</td>\n",
              "      <td>[سلام, به, دوستای, عزیزم, عزاداری, هاتون, قبول...</td>\n",
              "      <td>[سلام, دوستای, عزیزم, عزاداری, هاتون, قبول, باشه]</td>\n",
              "      <td>[سلام, به, دوستای, عزیزم, عزاداری, هاتون, قبول...</td>\n",
              "      <td>[سلا, به, دوستا, عزیز, عزادار, هاتون, قبول, باشه]</td>\n",
              "      <td>[سلام, به, دوستای, عزیز, عزادار, هاتون, قبول, ...</td>\n",
              "      <td>positive</td>\n",
              "    </tr>\n",
              "    <tr>\n",
              "      <th>2</th>\n",
              "      <td>141037</td>\n",
              "      <td>کلا پولتون رو دور نریزیزد</td>\n",
              "      <td>-1.0</td>\n",
              "      <td>[کلا, پولتون, رو, دور, نریزیزد]</td>\n",
              "      <td>[کلا, پولتون, نریزیزد]</td>\n",
              "      <td>[کلا, پولتون, رو, دور, نریزیزد]</td>\n",
              "      <td>[کلا, پولتون, رو, دور, نریزیزد]</td>\n",
              "      <td>[کلا, پولتون, رو, دور, نریزیزد]</td>\n",
              "      <td>negative</td>\n",
              "    </tr>\n",
              "    <tr>\n",
              "      <th>3</th>\n",
              "      <td>58593</td>\n",
              "      <td>از صمیم قلب امیدوارم دایانا با کارن بمونه و پو...</td>\n",
              "      <td>1.0</td>\n",
              "      <td>[از, صمیم, قلب, امیدوارم, دایانا, با, کارن, بم...</td>\n",
              "      <td>[صمیم, قلب, امیدوارم, دایانا, کارن, بمونه, پور...</td>\n",
              "      <td>[از, صمیم, قلب, امیدوارم, دایانا, با, کارن, بم...</td>\n",
              "      <td>[از, صم, قلب, امیدوار, دایانا, با, کارن, بمونه...</td>\n",
              "      <td>[از, صمیم, قلب, امیدوار, دایانا, با, کارن, بمو...</td>\n",
              "      <td>positive</td>\n",
              "    </tr>\n",
              "    <tr>\n",
              "      <th>4</th>\n",
              "      <td>5712</td>\n",
              "      <td>آنطور که اپل ادعا می کند آیپاد شافل دارای طراح...</td>\n",
              "      <td>1.0</td>\n",
              "      <td>[آنطور, که, اپل, ادعا, می, کند, آیپاد, شافل, د...</td>\n",
              "      <td>[آنطور, اپل, ادعا, آیپاد, شافل, طراحی, العاده,...</td>\n",
              "      <td>[آنطور, که, اپل, ادعا, می, کند, آیپاد, شافل, د...</td>\n",
              "      <td>[آنطور, که, اپل, ادعا, م, کند, آیپاد, شافل, دا...</td>\n",
              "      <td>[آنطور, که, اپل, ادعا, می, کند, آیپاد, شافل, د...</td>\n",
              "      <td>positive</td>\n",
              "    </tr>\n",
              "    <tr>\n",
              "      <th>...</th>\n",
              "      <td>...</td>\n",
              "      <td>...</td>\n",
              "      <td>...</td>\n",
              "      <td>...</td>\n",
              "      <td>...</td>\n",
              "      <td>...</td>\n",
              "      <td>...</td>\n",
              "      <td>...</td>\n",
              "      <td>...</td>\n",
              "    </tr>\n",
              "    <tr>\n",
              "      <th>795</th>\n",
              "      <td>6115</td>\n",
              "      <td>به هر صورت همانند دیگر دوربین‌های سونی سایبرشا...</td>\n",
              "      <td>1.0</td>\n",
              "      <td>[به, هر, صورت, همانند, دیگر, دوربینهای, سونی, ...</td>\n",
              "      <td>[صورت, همانند, دوربینهای, سونی, سایبرشات, HX, ...</td>\n",
              "      <td>[به, هر, صورت, همانند, دیگر, دوربینهای, سونی, ...</td>\n",
              "      <td>[به, هر, صور, همانند, دیگر, دوربین, سون, سایبر...</td>\n",
              "      <td>[به, هر, صورت, همانند, دیگر, دوربین, سون, سایب...</td>\n",
              "      <td>positive</td>\n",
              "    </tr>\n",
              "    <tr>\n",
              "      <th>796</th>\n",
              "      <td>5766</td>\n",
              "      <td>این دقیقا همان مقداریست که از دوربین یک گوشی ب...</td>\n",
              "      <td>0.0</td>\n",
              "      <td>[این, دقیقا, همان, مقداریست, که, از, دوربین, ی...</td>\n",
              "      <td>[دقیقا, مقداریست, دوربین, گوشی, پردازندهی, تک,...</td>\n",
              "      <td>[این, دقیقا, همان, مقداریست, که, از, دوربین, ی...</td>\n",
              "      <td>[این, دقیقا, ه, مقداریس, که, از, دوربین, یک, گ...</td>\n",
              "      <td>[این, دقیقا, همان, مقداریست, که, از, دوربین, ی...</td>\n",
              "      <td>neutral</td>\n",
              "    </tr>\n",
              "    <tr>\n",
              "      <th>797</th>\n",
              "      <td>62772</td>\n",
              "      <td>خیار تازه نبود و سیب زرد لک داشت</td>\n",
              "      <td>-1.0</td>\n",
              "      <td>[خیار, تازه, نبود, و, سیب, زرد, لک, داشت]</td>\n",
              "      <td>[خیار, تازه, سیب, زرد, لک]</td>\n",
              "      <td>[خیار, تازه, نبود, و, سیب, زرد, لک, داشت]</td>\n",
              "      <td>[خیار, تازه, نبود, و, سیب, زرد, لک, دا]</td>\n",
              "      <td>[خیار, تازه, نبود, و, سیب, زرد, لک, داشت]</td>\n",
              "      <td>negative</td>\n",
              "    </tr>\n",
              "    <tr>\n",
              "      <th>798</th>\n",
              "      <td>18359</td>\n",
              "      <td>کیفیت مزه و ارسال بینظیر</td>\n",
              "      <td>-1.0</td>\n",
              "      <td>[کیفیت, مزه, و, ارسال, بینظیر]</td>\n",
              "      <td>[کیفیت, مزه, ارسال, بینظیر]</td>\n",
              "      <td>[کیفیت, مزه, و, ارسال, بینظیر]</td>\n",
              "      <td>[کیف, مزه, و, ارسال, بینظیر]</td>\n",
              "      <td>[کیفیت, مزه, و, ارسال, بینظیر]</td>\n",
              "      <td>negative</td>\n",
              "    </tr>\n",
              "    <tr>\n",
              "      <th>799</th>\n",
              "      <td>4448</td>\n",
              "      <td>دانمارکی تازه بود اما شیرینی‌تر با اینکه من تا...</td>\n",
              "      <td>1.0</td>\n",
              "      <td>[دانمارکی, تازه, بود, اما, شیرینیتر, با, اینکه...</td>\n",
              "      <td>[دانمارکی, تازه, شیرینیتر, تاکید, تنوع, نداشت,...</td>\n",
              "      <td>[دانمارکی, تازه, بود, اما, شیرینیتر, با, اینکه...</td>\n",
              "      <td>[دانمارک, تازه, بود, اما, شیرین, با, اینکه, من...</td>\n",
              "      <td>[دانمارکی, تازه, بود, اما, شیرین, با, اینکه, م...</td>\n",
              "      <td>positive</td>\n",
              "    </tr>\n",
              "  </tbody>\n",
              "</table>\n",
              "<p>800 rows × 9 columns</p>\n",
              "</div>\n",
              "      <button class=\"colab-df-convert\" onclick=\"convertToInteractive('df-6ab57751-0754-48ce-93ab-a0d68e999fa8')\"\n",
              "              title=\"Convert this dataframe to an interactive table.\"\n",
              "              style=\"display:none;\">\n",
              "        \n",
              "  <svg xmlns=\"http://www.w3.org/2000/svg\" height=\"24px\"viewBox=\"0 0 24 24\"\n",
              "       width=\"24px\">\n",
              "    <path d=\"M0 0h24v24H0V0z\" fill=\"none\"/>\n",
              "    <path d=\"M18.56 5.44l.94 2.06.94-2.06 2.06-.94-2.06-.94-.94-2.06-.94 2.06-2.06.94zm-11 1L8.5 8.5l.94-2.06 2.06-.94-2.06-.94L8.5 2.5l-.94 2.06-2.06.94zm10 10l.94 2.06.94-2.06 2.06-.94-2.06-.94-.94-2.06-.94 2.06-2.06.94z\"/><path d=\"M17.41 7.96l-1.37-1.37c-.4-.4-.92-.59-1.43-.59-.52 0-1.04.2-1.43.59L10.3 9.45l-7.72 7.72c-.78.78-.78 2.05 0 2.83L4 21.41c.39.39.9.59 1.41.59.51 0 1.02-.2 1.41-.59l7.78-7.78 2.81-2.81c.8-.78.8-2.07 0-2.86zM5.41 20L4 18.59l7.72-7.72 1.47 1.35L5.41 20z\"/>\n",
              "  </svg>\n",
              "      </button>\n",
              "      \n",
              "  <style>\n",
              "    .colab-df-container {\n",
              "      display:flex;\n",
              "      flex-wrap:wrap;\n",
              "      gap: 12px;\n",
              "    }\n",
              "\n",
              "    .colab-df-convert {\n",
              "      background-color: #E8F0FE;\n",
              "      border: none;\n",
              "      border-radius: 50%;\n",
              "      cursor: pointer;\n",
              "      display: none;\n",
              "      fill: #1967D2;\n",
              "      height: 32px;\n",
              "      padding: 0 0 0 0;\n",
              "      width: 32px;\n",
              "    }\n",
              "\n",
              "    .colab-df-convert:hover {\n",
              "      background-color: #E2EBFA;\n",
              "      box-shadow: 0px 1px 2px rgba(60, 64, 67, 0.3), 0px 1px 3px 1px rgba(60, 64, 67, 0.15);\n",
              "      fill: #174EA6;\n",
              "    }\n",
              "\n",
              "    [theme=dark] .colab-df-convert {\n",
              "      background-color: #3B4455;\n",
              "      fill: #D2E3FC;\n",
              "    }\n",
              "\n",
              "    [theme=dark] .colab-df-convert:hover {\n",
              "      background-color: #434B5C;\n",
              "      box-shadow: 0px 1px 3px 1px rgba(0, 0, 0, 0.15);\n",
              "      filter: drop-shadow(0px 1px 2px rgba(0, 0, 0, 0.3));\n",
              "      fill: #FFFFFF;\n",
              "    }\n",
              "  </style>\n",
              "\n",
              "      <script>\n",
              "        const buttonEl =\n",
              "          document.querySelector('#df-6ab57751-0754-48ce-93ab-a0d68e999fa8 button.colab-df-convert');\n",
              "        buttonEl.style.display =\n",
              "          google.colab.kernel.accessAllowed ? 'block' : 'none';\n",
              "\n",
              "        async function convertToInteractive(key) {\n",
              "          const element = document.querySelector('#df-6ab57751-0754-48ce-93ab-a0d68e999fa8');\n",
              "          const dataTable =\n",
              "            await google.colab.kernel.invokeFunction('convertToInteractive',\n",
              "                                                     [key], {});\n",
              "          if (!dataTable) return;\n",
              "\n",
              "          const docLinkHtml = 'Like what you see? Visit the ' +\n",
              "            '<a target=\"_blank\" href=https://colab.research.google.com/notebooks/data_table.ipynb>data table notebook</a>'\n",
              "            + ' to learn more about interactive tables.';\n",
              "          element.innerHTML = '';\n",
              "          dataTable['output_type'] = 'display_data';\n",
              "          await google.colab.output.renderOutput(dataTable, element);\n",
              "          const docLink = document.createElement('div');\n",
              "          docLink.innerHTML = docLinkHtml;\n",
              "          element.appendChild(docLink);\n",
              "        }\n",
              "      </script>\n",
              "    </div>\n",
              "  </div>\n",
              "  "
            ],
            "text/plain": [
              "      index  ...     label\n",
              "0      2587  ...   neutral\n",
              "1     22591  ...  positive\n",
              "2    141037  ...  negative\n",
              "3     58593  ...  positive\n",
              "4      5712  ...  positive\n",
              "..      ...  ...       ...\n",
              "795    6115  ...  positive\n",
              "796    5766  ...   neutral\n",
              "797   62772  ...  negative\n",
              "798   18359  ...  negative\n",
              "799    4448  ...  positive\n",
              "\n",
              "[800 rows x 9 columns]"
            ]
          },
          "metadata": {},
          "execution_count": 3
        }
      ]
    },
    {
      "cell_type": "code",
      "source": [
        "df_train"
      ],
      "metadata": {
        "colab": {
          "base_uri": "https://localhost:8080/",
          "height": 1000
        },
        "id": "6iVNrpxyBhOC",
        "outputId": "69c135ca-74f2-40d1-f47a-533a0543a854"
      },
      "id": "6iVNrpxyBhOC",
      "execution_count": 14,
      "outputs": [
        {
          "output_type": "execute_result",
          "data": {
            "text/html": [
              "\n",
              "  <div id=\"df-774071c0-a18e-4c68-9850-b12057217f5f\">\n",
              "    <div class=\"colab-df-container\">\n",
              "      <div>\n",
              "<style scoped>\n",
              "    .dataframe tbody tr th:only-of-type {\n",
              "        vertical-align: middle;\n",
              "    }\n",
              "\n",
              "    .dataframe tbody tr th {\n",
              "        vertical-align: top;\n",
              "    }\n",
              "\n",
              "    .dataframe thead th {\n",
              "        text-align: right;\n",
              "    }\n",
              "</style>\n",
              "<table border=\"1\" class=\"dataframe\">\n",
              "  <thead>\n",
              "    <tr style=\"text-align: right;\">\n",
              "      <th></th>\n",
              "      <th>index</th>\n",
              "      <th>comment</th>\n",
              "      <th>rate</th>\n",
              "      <th>clean_comment</th>\n",
              "      <th>no_stopwords_comment</th>\n",
              "      <th>no_enligh_comment</th>\n",
              "      <th>stemmed_version</th>\n",
              "      <th>lemmatized_version</th>\n",
              "      <th>label</th>\n",
              "    </tr>\n",
              "  </thead>\n",
              "  <tbody>\n",
              "    <tr>\n",
              "      <th>0</th>\n",
              "      <td>2587</td>\n",
              "      <td>پردازنده های Core i5 و Core i3 نیز ذاتا دو هست...</td>\n",
              "      <td>0.0</td>\n",
              "      <td>[پردازنده, های, Core, i5, و, Core, i3, نیز, ذا...</td>\n",
              "      <td>[پردازنده, های, Core, i5, Core, i3, ذاتا, هسته...</td>\n",
              "      <td>[پردازنده, های, 5, و, 3, نیز, ذاتا, دو, هسته, ...</td>\n",
              "      <td>[پردازنده, , Core, i5, و, Core, i3, نیز, ذاتا,...</td>\n",
              "      <td>[پردازنده, های, Core, i5, و, Core, i3, نیز, ذا...</td>\n",
              "      <td>neutral</td>\n",
              "    </tr>\n",
              "    <tr>\n",
              "      <th>1</th>\n",
              "      <td>22591</td>\n",
              "      <td>سلام به دوستای عزیزم \\r\\nعزاداری هاتون قبول باشه</td>\n",
              "      <td>1.0</td>\n",
              "      <td>[سلام, به, دوستای, عزیزم, عزاداری, هاتون, قبول...</td>\n",
              "      <td>[سلام, دوستای, عزیزم, عزاداری, هاتون, قبول, باشه]</td>\n",
              "      <td>[سلام, به, دوستای, عزیزم, عزاداری, هاتون, قبول...</td>\n",
              "      <td>[سلا, به, دوستا, عزیز, عزادار, هاتون, قبول, باشه]</td>\n",
              "      <td>[سلام, به, دوستای, عزیز, عزادار, هاتون, قبول, ...</td>\n",
              "      <td>positive</td>\n",
              "    </tr>\n",
              "    <tr>\n",
              "      <th>2</th>\n",
              "      <td>141037</td>\n",
              "      <td>کلا پولتون رو دور نریزیزد</td>\n",
              "      <td>-1.0</td>\n",
              "      <td>[کلا, پولتون, رو, دور, نریزیزد]</td>\n",
              "      <td>[کلا, پولتون, نریزیزد]</td>\n",
              "      <td>[کلا, پولتون, رو, دور, نریزیزد]</td>\n",
              "      <td>[کلا, پولتون, رو, دور, نریزیزد]</td>\n",
              "      <td>[کلا, پولتون, رو, دور, نریزیزد]</td>\n",
              "      <td>negative</td>\n",
              "    </tr>\n",
              "    <tr>\n",
              "      <th>3</th>\n",
              "      <td>58593</td>\n",
              "      <td>از صمیم قلب امیدوارم دایانا با کارن بمونه و پو...</td>\n",
              "      <td>1.0</td>\n",
              "      <td>[از, صمیم, قلب, امیدوارم, دایانا, با, کارن, بم...</td>\n",
              "      <td>[صمیم, قلب, امیدوارم, دایانا, کارن, بمونه, پور...</td>\n",
              "      <td>[از, صمیم, قلب, امیدوارم, دایانا, با, کارن, بم...</td>\n",
              "      <td>[از, صم, قلب, امیدوار, دایانا, با, کارن, بمونه...</td>\n",
              "      <td>[از, صمیم, قلب, امیدوار, دایانا, با, کارن, بمو...</td>\n",
              "      <td>positive</td>\n",
              "    </tr>\n",
              "    <tr>\n",
              "      <th>4</th>\n",
              "      <td>5712</td>\n",
              "      <td>آنطور که اپل ادعا می کند آیپاد شافل دارای طراح...</td>\n",
              "      <td>1.0</td>\n",
              "      <td>[آنطور, که, اپل, ادعا, می, کند, آیپاد, شافل, د...</td>\n",
              "      <td>[آنطور, اپل, ادعا, آیپاد, شافل, طراحی, العاده,...</td>\n",
              "      <td>[آنطور, که, اپل, ادعا, می, کند, آیپاد, شافل, د...</td>\n",
              "      <td>[آنطور, که, اپل, ادعا, م, کند, آیپاد, شافل, دا...</td>\n",
              "      <td>[آنطور, که, اپل, ادعا, می, کند, آیپاد, شافل, د...</td>\n",
              "      <td>positive</td>\n",
              "    </tr>\n",
              "    <tr>\n",
              "      <th>...</th>\n",
              "      <td>...</td>\n",
              "      <td>...</td>\n",
              "      <td>...</td>\n",
              "      <td>...</td>\n",
              "      <td>...</td>\n",
              "      <td>...</td>\n",
              "      <td>...</td>\n",
              "      <td>...</td>\n",
              "      <td>...</td>\n",
              "    </tr>\n",
              "    <tr>\n",
              "      <th>795</th>\n",
              "      <td>6115</td>\n",
              "      <td>به هر صورت همانند دیگر دوربین‌های سونی سایبرشا...</td>\n",
              "      <td>1.0</td>\n",
              "      <td>[به, هر, صورت, همانند, دیگر, دوربینهای, سونی, ...</td>\n",
              "      <td>[صورت, همانند, دوربینهای, سونی, سایبرشات, HX, ...</td>\n",
              "      <td>[به, هر, صورت, همانند, دیگر, دوربینهای, سونی, ...</td>\n",
              "      <td>[به, هر, صور, همانند, دیگر, دوربین, سون, سایبر...</td>\n",
              "      <td>[به, هر, صورت, همانند, دیگر, دوربین, سون, سایب...</td>\n",
              "      <td>positive</td>\n",
              "    </tr>\n",
              "    <tr>\n",
              "      <th>796</th>\n",
              "      <td>5766</td>\n",
              "      <td>این دقیقا همان مقداریست که از دوربین یک گوشی ب...</td>\n",
              "      <td>0.0</td>\n",
              "      <td>[این, دقیقا, همان, مقداریست, که, از, دوربین, ی...</td>\n",
              "      <td>[دقیقا, مقداریست, دوربین, گوشی, پردازندهی, تک,...</td>\n",
              "      <td>[این, دقیقا, همان, مقداریست, که, از, دوربین, ی...</td>\n",
              "      <td>[این, دقیقا, ه, مقداریس, که, از, دوربین, یک, گ...</td>\n",
              "      <td>[این, دقیقا, همان, مقداریست, که, از, دوربین, ی...</td>\n",
              "      <td>neutral</td>\n",
              "    </tr>\n",
              "    <tr>\n",
              "      <th>797</th>\n",
              "      <td>62772</td>\n",
              "      <td>خیار تازه نبود و سیب زرد لک داشت</td>\n",
              "      <td>-1.0</td>\n",
              "      <td>[خیار, تازه, نبود, و, سیب, زرد, لک, داشت]</td>\n",
              "      <td>[خیار, تازه, سیب, زرد, لک]</td>\n",
              "      <td>[خیار, تازه, نبود, و, سیب, زرد, لک, داشت]</td>\n",
              "      <td>[خیار, تازه, نبود, و, سیب, زرد, لک, دا]</td>\n",
              "      <td>[خیار, تازه, نبود, و, سیب, زرد, لک, داشت]</td>\n",
              "      <td>negative</td>\n",
              "    </tr>\n",
              "    <tr>\n",
              "      <th>798</th>\n",
              "      <td>18359</td>\n",
              "      <td>کیفیت مزه و ارسال بینظیر</td>\n",
              "      <td>-1.0</td>\n",
              "      <td>[کیفیت, مزه, و, ارسال, بینظیر]</td>\n",
              "      <td>[کیفیت, مزه, ارسال, بینظیر]</td>\n",
              "      <td>[کیفیت, مزه, و, ارسال, بینظیر]</td>\n",
              "      <td>[کیف, مزه, و, ارسال, بینظیر]</td>\n",
              "      <td>[کیفیت, مزه, و, ارسال, بینظیر]</td>\n",
              "      <td>negative</td>\n",
              "    </tr>\n",
              "    <tr>\n",
              "      <th>799</th>\n",
              "      <td>4448</td>\n",
              "      <td>دانمارکی تازه بود اما شیرینی‌تر با اینکه من تا...</td>\n",
              "      <td>1.0</td>\n",
              "      <td>[دانمارکی, تازه, بود, اما, شیرینیتر, با, اینکه...</td>\n",
              "      <td>[دانمارکی, تازه, شیرینیتر, تاکید, تنوع, نداشت,...</td>\n",
              "      <td>[دانمارکی, تازه, بود, اما, شیرینیتر, با, اینکه...</td>\n",
              "      <td>[دانمارک, تازه, بود, اما, شیرین, با, اینکه, من...</td>\n",
              "      <td>[دانمارکی, تازه, بود, اما, شیرین, با, اینکه, م...</td>\n",
              "      <td>positive</td>\n",
              "    </tr>\n",
              "  </tbody>\n",
              "</table>\n",
              "<p>800 rows × 9 columns</p>\n",
              "</div>\n",
              "      <button class=\"colab-df-convert\" onclick=\"convertToInteractive('df-774071c0-a18e-4c68-9850-b12057217f5f')\"\n",
              "              title=\"Convert this dataframe to an interactive table.\"\n",
              "              style=\"display:none;\">\n",
              "        \n",
              "  <svg xmlns=\"http://www.w3.org/2000/svg\" height=\"24px\"viewBox=\"0 0 24 24\"\n",
              "       width=\"24px\">\n",
              "    <path d=\"M0 0h24v24H0V0z\" fill=\"none\"/>\n",
              "    <path d=\"M18.56 5.44l.94 2.06.94-2.06 2.06-.94-2.06-.94-.94-2.06-.94 2.06-2.06.94zm-11 1L8.5 8.5l.94-2.06 2.06-.94-2.06-.94L8.5 2.5l-.94 2.06-2.06.94zm10 10l.94 2.06.94-2.06 2.06-.94-2.06-.94-.94-2.06-.94 2.06-2.06.94z\"/><path d=\"M17.41 7.96l-1.37-1.37c-.4-.4-.92-.59-1.43-.59-.52 0-1.04.2-1.43.59L10.3 9.45l-7.72 7.72c-.78.78-.78 2.05 0 2.83L4 21.41c.39.39.9.59 1.41.59.51 0 1.02-.2 1.41-.59l7.78-7.78 2.81-2.81c.8-.78.8-2.07 0-2.86zM5.41 20L4 18.59l7.72-7.72 1.47 1.35L5.41 20z\"/>\n",
              "  </svg>\n",
              "      </button>\n",
              "      \n",
              "  <style>\n",
              "    .colab-df-container {\n",
              "      display:flex;\n",
              "      flex-wrap:wrap;\n",
              "      gap: 12px;\n",
              "    }\n",
              "\n",
              "    .colab-df-convert {\n",
              "      background-color: #E8F0FE;\n",
              "      border: none;\n",
              "      border-radius: 50%;\n",
              "      cursor: pointer;\n",
              "      display: none;\n",
              "      fill: #1967D2;\n",
              "      height: 32px;\n",
              "      padding: 0 0 0 0;\n",
              "      width: 32px;\n",
              "    }\n",
              "\n",
              "    .colab-df-convert:hover {\n",
              "      background-color: #E2EBFA;\n",
              "      box-shadow: 0px 1px 2px rgba(60, 64, 67, 0.3), 0px 1px 3px 1px rgba(60, 64, 67, 0.15);\n",
              "      fill: #174EA6;\n",
              "    }\n",
              "\n",
              "    [theme=dark] .colab-df-convert {\n",
              "      background-color: #3B4455;\n",
              "      fill: #D2E3FC;\n",
              "    }\n",
              "\n",
              "    [theme=dark] .colab-df-convert:hover {\n",
              "      background-color: #434B5C;\n",
              "      box-shadow: 0px 1px 3px 1px rgba(0, 0, 0, 0.15);\n",
              "      filter: drop-shadow(0px 1px 2px rgba(0, 0, 0, 0.3));\n",
              "      fill: #FFFFFF;\n",
              "    }\n",
              "  </style>\n",
              "\n",
              "      <script>\n",
              "        const buttonEl =\n",
              "          document.querySelector('#df-774071c0-a18e-4c68-9850-b12057217f5f button.colab-df-convert');\n",
              "        buttonEl.style.display =\n",
              "          google.colab.kernel.accessAllowed ? 'block' : 'none';\n",
              "\n",
              "        async function convertToInteractive(key) {\n",
              "          const element = document.querySelector('#df-774071c0-a18e-4c68-9850-b12057217f5f');\n",
              "          const dataTable =\n",
              "            await google.colab.kernel.invokeFunction('convertToInteractive',\n",
              "                                                     [key], {});\n",
              "          if (!dataTable) return;\n",
              "\n",
              "          const docLinkHtml = 'Like what you see? Visit the ' +\n",
              "            '<a target=\"_blank\" href=https://colab.research.google.com/notebooks/data_table.ipynb>data table notebook</a>'\n",
              "            + ' to learn more about interactive tables.';\n",
              "          element.innerHTML = '';\n",
              "          dataTable['output_type'] = 'display_data';\n",
              "          await google.colab.output.renderOutput(dataTable, element);\n",
              "          const docLink = document.createElement('div');\n",
              "          docLink.innerHTML = docLinkHtml;\n",
              "          element.appendChild(docLink);\n",
              "        }\n",
              "      </script>\n",
              "    </div>\n",
              "  </div>\n",
              "  "
            ],
            "text/plain": [
              "      index  ...     label\n",
              "0      2587  ...   neutral\n",
              "1     22591  ...  positive\n",
              "2    141037  ...  negative\n",
              "3     58593  ...  positive\n",
              "4      5712  ...  positive\n",
              "..      ...  ...       ...\n",
              "795    6115  ...  positive\n",
              "796    5766  ...   neutral\n",
              "797   62772  ...  negative\n",
              "798   18359  ...  negative\n",
              "799    4448  ...  positive\n",
              "\n",
              "[800 rows x 9 columns]"
            ]
          },
          "metadata": {},
          "execution_count": 14
        }
      ]
    },
    {
      "cell_type": "markdown",
      "source": [
        "### Base Line"
      ],
      "metadata": {
        "id": "fdgygKDf6Ki_"
      },
      "id": "fdgygKDf6Ki_"
    },
    {
      "cell_type": "code",
      "source": [
        "base_line = df_train[df_train['label']=='positive'].shape[0]/df_train.shape[0]\n",
        "base_line"
      ],
      "metadata": {
        "colab": {
          "base_uri": "https://localhost:8080/"
        },
        "id": "OodRNH4C2Mju",
        "outputId": "6d9705ea-f6c8-4137-9e0b-48b9c5a85c9e"
      },
      "id": "OodRNH4C2Mju",
      "execution_count": 4,
      "outputs": [
        {
          "output_type": "execute_result",
          "data": {
            "text/plain": [
              "0.41875"
            ]
          },
          "metadata": {},
          "execution_count": 4
        }
      ]
    },
    {
      "cell_type": "code",
      "execution_count": 5,
      "id": "9dd6f570-f40c-4c9d-9697-df9e4b8f531f",
      "metadata": {
        "id": "9dd6f570-f40c-4c9d-9697-df9e4b8f531f",
        "colab": {
          "base_uri": "https://localhost:8080/"
        },
        "outputId": "f5e59019-2bfc-45ac-c9bc-b697eb6a5f2d"
      },
      "outputs": [
        {
          "output_type": "stream",
          "name": "stdout",
          "text": [
            "(800, 8)\n"
          ]
        }
      ],
      "source": [
        "vectorizer = TfidfVectorizer(analyzer='word', min_df=0.05, max_df =0.90, ngram_range = (1,1), max_features=10000)\n",
        "\n",
        "no_stopwords_comment_train = df_train['no_stopwords_comment'].apply(lambda comment:\" \".join(comment))\n",
        "train_data_features = vectorizer.fit_transform(no_stopwords_comment_train)\n",
        "\n",
        "print(train_data_features.shape)"
      ]
    },
    {
      "cell_type": "markdown",
      "id": "635602a7-7c7d-4f97-9e5a-abf433d23130",
      "metadata": {
        "id": "635602a7-7c7d-4f97-9e5a-abf433d23130"
      },
      "source": [
        "#### Data snooping ALERT: we should transforom not fit again"
      ]
    },
    {
      "cell_type": "code",
      "execution_count": 7,
      "id": "d4617f83-ee3a-4ecf-8e2f-996d15725313",
      "metadata": {
        "id": "d4617f83-ee3a-4ecf-8e2f-996d15725313"
      },
      "outputs": [],
      "source": [
        "no_stopwords_comment_eval = df_eval['no_stopwords_comment'].apply(lambda comment:\" \".join(comment))\n",
        "eval_data_features = vectorizer.transform(no_stopwords_comment_eval)"
      ]
    },
    {
      "cell_type": "markdown",
      "id": "4ff721ee-abad-450c-b311-e6bdbd31051e",
      "metadata": {
        "id": "4ff721ee-abad-450c-b311-e6bdbd31051e"
      },
      "source": [
        "#### Feature Names"
      ]
    },
    {
      "cell_type": "code",
      "execution_count": 8,
      "id": "d57245bf-af58-4df9-8626-940d52928bbd",
      "metadata": {
        "id": "d57245bf-af58-4df9-8626-940d52928bbd",
        "colab": {
          "base_uri": "https://localhost:8080/"
        },
        "outputId": "eb2807a1-868d-435f-96e7-77dc3919aa8e"
      },
      "outputs": [
        {
          "output_type": "stream",
          "name": "stderr",
          "text": [
            "/usr/local/lib/python3.7/dist-packages/sklearn/utils/deprecation.py:87: FutureWarning:\n",
            "\n",
            "Function get_feature_names is deprecated; get_feature_names is deprecated in 1.0 and will be removed in 1.2. Please use get_feature_names_out instead.\n",
            "\n"
          ]
        },
        {
          "output_type": "execute_result",
          "data": {
            "text/plain": [
              "['استفاده', 'اين', 'داره', 'های', 'واقعا', 'کتاب', 'کیفیت', 'گوشی']"
            ]
          },
          "metadata": {},
          "execution_count": 8
        }
      ],
      "source": [
        "vectorizer.get_feature_names()[:30]"
      ]
    },
    {
      "cell_type": "code",
      "execution_count": 9,
      "id": "cea2753c-20e5-47ec-be07-fec40d64ba27",
      "metadata": {
        "id": "cea2753c-20e5-47ec-be07-fec40d64ba27",
        "colab": {
          "base_uri": "https://localhost:8080/"
        },
        "outputId": "40c09e5b-5514-4384-b914-2ed2bbc6e227"
      },
      "outputs": [
        {
          "output_type": "execute_result",
          "data": {
            "text/plain": [
              "LogisticRegression(max_iter=1000, multi_class='ovr', random_state=0)"
            ]
          },
          "metadata": {},
          "execution_count": 9
        }
      ],
      "source": [
        "# Load model\n",
        "\n",
        "solvers= ['newton-cg', 'lbfgs', 'liblinear', 'sag', 'saga']\n",
        "multi_classes = ['multinomial', 'ovr']\n",
        "\n",
        "model = LogisticRegression(penalty='l2', random_state=0, solver='lbfgs', max_iter=1000, multi_class='ovr')\n",
        "# Train model\n",
        "model.fit(train_data_features, df_train['label'])\n"
      ]
    },
    {
      "cell_type": "markdown",
      "id": "325a9c91-6c9f-41eb-98a9-e276e481ef5c",
      "metadata": {
        "id": "325a9c91-6c9f-41eb-98a9-e276e481ef5c"
      },
      "source": [
        "### evaluation "
      ]
    },
    {
      "cell_type": "code",
      "execution_count": 10,
      "id": "803dd2a0-1ef8-4dd9-8153-3388863e7a69",
      "metadata": {
        "id": "803dd2a0-1ef8-4dd9-8153-3388863e7a69"
      },
      "outputs": [],
      "source": [
        "y_eval_perd = model.predict(eval_data_features)"
      ]
    },
    {
      "cell_type": "markdown",
      "id": "d61acda8-9a71-4419-a28e-622533ff68c7",
      "metadata": {
        "id": "d61acda8-9a71-4419-a28e-622533ff68c7"
      },
      "source": [
        "#### Accuracy Score"
      ]
    },
    {
      "cell_type": "code",
      "execution_count": 11,
      "id": "bf25d681-2d66-4117-b812-5270c7c38c55",
      "metadata": {
        "id": "bf25d681-2d66-4117-b812-5270c7c38c55",
        "colab": {
          "base_uri": "https://localhost:8080/"
        },
        "outputId": "67d497ba-c85a-4d9d-8979-2ff490b7bdc2"
      },
      "outputs": [
        {
          "output_type": "stream",
          "name": "stdout",
          "text": [
            "0.385\n"
          ]
        }
      ],
      "source": [
        "print(accuracy_score(df_eval['label'], y_eval_perd))"
      ]
    },
    {
      "cell_type": "markdown",
      "id": "c0c4ca11-0504-4732-a21c-b245692a212d",
      "metadata": {
        "id": "c0c4ca11-0504-4732-a21c-b245692a212d"
      },
      "source": [
        "#### Confusion Matrix"
      ]
    },
    {
      "cell_type": "code",
      "execution_count": 12,
      "id": "c67591d6-34ca-49a6-b42d-376b2a53d09d",
      "metadata": {
        "id": "c67591d6-34ca-49a6-b42d-376b2a53d09d",
        "colab": {
          "base_uri": "https://localhost:8080/"
        },
        "outputId": "ed1f1b00-9790-4a5d-c2d8-db4e313d34f3"
      },
      "outputs": [
        {
          "output_type": "stream",
          "name": "stdout",
          "text": [
            "[[ 0  5 50]\n",
            " [ 0 16 61]\n",
            " [ 0  7 61]]\n"
          ]
        }
      ],
      "source": [
        "print(confusion_matrix(df_eval['label'], y_eval_perd))"
      ]
    },
    {
      "cell_type": "markdown",
      "id": "f5d061f6-88b1-4e0e-bea4-0e3df528fbca",
      "metadata": {
        "id": "f5d061f6-88b1-4e0e-bea4-0e3df528fbca"
      },
      "source": [
        "#### Classification Report"
      ]
    },
    {
      "cell_type": "code",
      "execution_count": 13,
      "id": "b9142d42-c902-4844-a6b6-df644a15f5e3",
      "metadata": {
        "id": "b9142d42-c902-4844-a6b6-df644a15f5e3",
        "colab": {
          "base_uri": "https://localhost:8080/"
        },
        "outputId": "55596d84-ccb2-4bd3-d8ba-a4d461549999"
      },
      "outputs": [
        {
          "output_type": "stream",
          "name": "stdout",
          "text": [
            "              precision    recall  f1-score   support\n",
            "\n",
            "    negative       0.00      0.00      0.00        55\n",
            "     neutral       0.57      0.21      0.30        77\n",
            "    positive       0.35      0.90      0.51        68\n",
            "\n",
            "    accuracy                           0.38       200\n",
            "   macro avg       0.31      0.37      0.27       200\n",
            "weighted avg       0.34      0.39      0.29       200\n",
            "\n"
          ]
        },
        {
          "output_type": "stream",
          "name": "stderr",
          "text": [
            "/usr/local/lib/python3.7/dist-packages/sklearn/metrics/_classification.py:1308: UndefinedMetricWarning:\n",
            "\n",
            "Precision and F-score are ill-defined and being set to 0.0 in labels with no predicted samples. Use `zero_division` parameter to control this behavior.\n",
            "\n",
            "/usr/local/lib/python3.7/dist-packages/sklearn/metrics/_classification.py:1308: UndefinedMetricWarning:\n",
            "\n",
            "Precision and F-score are ill-defined and being set to 0.0 in labels with no predicted samples. Use `zero_division` parameter to control this behavior.\n",
            "\n",
            "/usr/local/lib/python3.7/dist-packages/sklearn/metrics/_classification.py:1308: UndefinedMetricWarning:\n",
            "\n",
            "Precision and F-score are ill-defined and being set to 0.0 in labels with no predicted samples. Use `zero_division` parameter to control this behavior.\n",
            "\n"
          ]
        }
      ],
      "source": [
        "print(classification_report(df_eval['label'], y_eval_perd))"
      ]
    },
    {
      "cell_type": "code",
      "source": [
        ""
      ],
      "metadata": {
        "id": "U4Qj4c8Jwjdv"
      },
      "id": "U4Qj4c8Jwjdv",
      "execution_count": null,
      "outputs": []
    }
  ],
  "metadata": {
    "kernelspec": {
      "display_name": "Python 3 (ipykernel)",
      "language": "python",
      "name": "python3"
    },
    "language_info": {
      "codemirror_mode": {
        "name": "ipython",
        "version": 3
      },
      "file_extension": ".py",
      "mimetype": "text/x-python",
      "name": "python",
      "nbconvert_exporter": "python",
      "pygments_lexer": "ipython3",
      "version": "3.8.11"
    },
    "colab": {
      "name": "TFIDF.ipynb",
      "provenance": [],
      "collapsed_sections": []
    }
  },
  "nbformat": 4,
  "nbformat_minor": 5
}